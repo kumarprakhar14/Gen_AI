{
 "cells": [
  {
   "cell_type": "markdown",
   "id": "3b448de3",
   "metadata": {},
   "source": [
    "# 🎯Let's Wrap Up Phase 0 Efficiently\n",
    "> Today = Finish loose ends, \n",
    "> Tomorrow = Consolidate, \n",
    "> Then = Full speed into Generative AI! 🚀"
   ]
  },
  {
   "cell_type": "markdown",
   "id": "0dde243c",
   "metadata": {},
   "source": [
    "## 📋 Today's Compact Session (45-60 min)\n",
    "### What We'll Cover:\n",
    "\n",
    "- tf.data API (20 min) - Efficient data loading\n",
    "- TensorBoard (15 min) - Professional visualization\n",
    "- Phase 0 Summary (10 min) - What you've mastered\n",
    "- Tomorrow's Consolidation Guide (10 min) - Study plan\n",
    "\n",
    "Let's make this **practical and concise!**"
   ]
  },
  {
   "cell_type": "code",
   "execution_count": 1,
   "id": "09f1d68f",
   "metadata": {},
   "outputs": [
    {
     "data": {
      "text/plain": [
       "'\\nPhase 0 Completion: The Essential Tools\\n- tf.data API for efficient data pipelines\\n- TensorBoard for professional visualization\\n- Best practices summary\\n\\n'"
      ]
     },
     "execution_count": 1,
     "metadata": {},
     "output_type": "execute_result"
    }
   ],
   "source": [
    "\"\"\"\n",
    "Phase 0 Completion: The Essential Tools\n",
    "- tf.data API for efficient data pipelines\n",
    "- TensorBoard for professional visualization\n",
    "- Best practices summary\n",
    "\n",
    "\"\"\""
   ]
  },
  {
   "cell_type": "code",
   "execution_count": 2,
   "id": "ee8a8775",
   "metadata": {},
   "outputs": [
    {
     "name": "stdout",
     "output_type": "stream",
     "text": [
      "TensorFlow version: 2.20.0\n"
     ]
    }
   ],
   "source": [
    "import tensorflow as tf\n",
    "from tensorflow import keras\n",
    "import numpy as np\n",
    "import matplotlib.pyplot as plt\n",
    "from datetime import datetime\n",
    "import os\n",
    "\n",
    "print(f\"TensorFlow version: {tf.__version__}\")"
   ]
  },
  {
   "cell_type": "code",
   "execution_count": 3,
   "id": "a07428e6",
   "metadata": {},
   "outputs": [],
   "source": [
    "# ============================================\n",
    "# PART 1: tf.data API - Efficient Data Loading\n",
    "# ============================================"
   ]
  },
  {
   "cell_type": "code",
   "execution_count": 4,
   "id": "3c8a6281",
   "metadata": {},
   "outputs": [
    {
     "name": "stdout",
     "output_type": "stream",
     "text": [
      "\n",
      "============================================================\n",
      "📦 PART 1: tf.data API - Professional Data Pipelines\n",
      "============================================================\n"
     ]
    }
   ],
   "source": [
    "print(\"\\n\" + \"=\"*60)\n",
    "print(\"📦 PART 1: tf.data API - Professional Data Pipelines\")\n",
    "print(\"=\"*60)"
   ]
  },
  {
   "cell_type": "markdown",
   "id": "1265c8bd",
   "metadata": {},
   "source": [
    "### WHY tf.data API?\n",
    "\n",
    "Your current approach:\n",
    "```py\n",
    "  x_train = load_all_data_into_memory()  # ← 60,000 images loaded at once!\n",
    "  for batch in manual_batching(x_train):  # Manual batching\n",
    "      train(batch)\n",
    "```\n",
    "\n",
    "**Problems:**\n",
    "- ❌ All data in RAM (doesn't scale to large datasets)\n",
    "- ❌ No prefetching (GPU waits for CPU)\n",
    "- ❌ No parallelization (slow data loading)\n",
    "- ❌ Manual shuffling/batching code\n",
    "\n",
    "**`tf.data Solution:`**\n",
    "```py\n",
    "  dataset = tf.data.Dataset.from_tensor_slices(x_train)\n",
    "  dataset = dataset.shuffle(buffer_size).batch(batch_size).prefetch(1)\n",
    "```\n",
    "**Benefits:**\n",
    "- ✅ Efficient memory usage (loads on-demand)\n",
    "- ✅ GPU/CPU overlap (prefetching)\n",
    "- ✅ Automatic batching/shuffling\n",
    "- ✅ Works with huge datasets (doesn't fit in RAM)\n"
   ]
  },
  {
   "cell_type": "code",
   "execution_count": 5,
   "id": "b9b71d6d",
   "metadata": {},
   "outputs": [],
   "source": [
    "# Load MNIST\n",
    "(x_train, y_train), (x_test, y_test) = keras.datasets.mnist.load_data()\n",
    "x_train = x_train.reshape(-1, 28, 28, 1).astype('float32') / 255.0\n",
    "x_test = x_test.reshape(-1, 28, 28, 1).astype('float32') / 255.0\n",
    "y_train = keras.utils.to_categorical(y_train, 10)\n",
    "y_test = keras.utils.to_categorical(y_test, 10)"
   ]
  },
  {
   "cell_type": "code",
   "execution_count": 6,
   "id": "92a56fb7",
   "metadata": {},
   "outputs": [
    {
     "name": "stdout",
     "output_type": "stream",
     "text": [
      "\n",
      "------------------------------------------------------------\n",
      "Method 1: Basic tf.data Pipeline\n",
      "------------------------------------------------------------\n"
     ]
    }
   ],
   "source": [
    "print(\"\\n\" + \"-\"*60)\n",
    "print(\"Method 1: Basic tf.data Pipeline\")\n",
    "print(\"-\"*60)"
   ]
  },
  {
   "cell_type": "code",
   "execution_count": 7,
   "id": "0328ecd9",
   "metadata": {},
   "outputs": [],
   "source": [
    "# Create dataset from tensors\n",
    "train_dataset = tf.data.Dataset.from_tensor_slices((x_train, y_train))"
   ]
  },
  {
   "cell_type": "code",
   "execution_count": 8,
   "id": "2cad97b0",
   "metadata": {},
   "outputs": [],
   "source": [
    "# Apply transformations\n",
    "BATCH_SIZE = 128\n",
    "BUFFER_SIZE = 10000\n",
    "\n",
    "train_dataset = train_dataset.shuffle(BUFFER_SIZE)  # Shuffle\n",
    "train_dataset = train_dataset.batch(BATCH_SIZE)     # Batch\n",
    "train_dataset = train_dataset.prefetch(1)           # Prefetch next batch"
   ]
  },
  {
   "cell_type": "code",
   "execution_count": 9,
   "id": "69fe66ad",
   "metadata": {},
   "outputs": [
    {
     "name": "stdout",
     "output_type": "stream",
     "text": [
      "✓ Created tf.data pipeline:\n",
      "  - Shuffle buffer: 10000\n",
      "  - Batch size: 128\n",
      "  - Prefetching: 1 batch ahead\n"
     ]
    }
   ],
   "source": [
    "print(f\"✓ Created tf.data pipeline:\")\n",
    "print(f\"  - Shuffle buffer: {BUFFER_SIZE}\")\n",
    "print(f\"  - Batch size: {BATCH_SIZE}\")\n",
    "print(f\"  - Prefetching: 1 batch ahead\")"
   ]
  },
  {
   "cell_type": "code",
   "execution_count": 10,
   "id": "fffbd167",
   "metadata": {},
   "outputs": [],
   "source": [
    "# Create test dataset (no shuffling needed)\n",
    "test_dataset = tf.data.Dataset.from_tensor_slices((x_test, y_test))\n",
    "test_dataset = test_dataset.batch(BATCH_SIZE).prefetch(1)"
   ]
  },
  {
   "cell_type": "code",
   "execution_count": 11,
   "id": "2110f076",
   "metadata": {},
   "outputs": [
    {
     "name": "stdout",
     "output_type": "stream",
     "text": [
      "\n",
      "💡 Key Concepts:\n",
      "  • shuffle(): Randomizes order (prevents overfitting)\n",
      "  • batch(): Groups samples into batches\n",
      "  • prefetch(): Loads next batch while GPU processes current batch\n"
     ]
    }
   ],
   "source": [
    "print(\"\\n💡 Key Concepts:\")\n",
    "print(\"  • shuffle(): Randomizes order (prevents overfitting)\")\n",
    "print(\"  • batch(): Groups samples into batches\")\n",
    "print(\"  • prefetch(): Loads next batch while GPU processes current batch\")"
   ]
  },
  {
   "cell_type": "code",
   "execution_count": 12,
   "id": "3d6d37a7",
   "metadata": {},
   "outputs": [
    {
     "name": "stdout",
     "output_type": "stream",
     "text": [
      "\n",
      "------------------------------------------------------------\n",
      "Method 2: Data Augmentation with tf.data\n",
      "------------------------------------------------------------\n"
     ]
    }
   ],
   "source": [
    "print(\"\\n\" + \"-\"*60)\n",
    "print(\"Method 2: Data Augmentation with tf.data\")\n",
    "print(\"-\"*60)"
   ]
  },
  {
   "cell_type": "code",
   "execution_count": 13,
   "id": "e1bfdd36",
   "metadata": {},
   "outputs": [
    {
     "name": "stdout",
     "output_type": "stream",
     "text": [
      "\n",
      "Data Augmentation = Artificially expand dataset by transforming images\n",
      "- Rotation: ±15 degrees\n",
      "- Zoom: 80-120%\n",
      "- Shift: ±10%\n",
      "- Flip: Horizontal (not for digits!)\n",
      "\n",
      "This prevents overfitting and improves generalization!\n",
      "\n"
     ]
    }
   ],
   "source": [
    "print(\"\"\"\n",
    "Data Augmentation = Artificially expand dataset by transforming images\n",
    "- Rotation: ±15 degrees\n",
    "- Zoom: 80-120%\n",
    "- Shift: ±10%\n",
    "- Flip: Horizontal (not for digits!)\n",
    "\n",
    "This prevents overfitting and improves generalization!\n",
    "\"\"\")"
   ]
  },
  {
   "cell_type": "code",
   "execution_count": 14,
   "id": "3a02b21a",
   "metadata": {},
   "outputs": [],
   "source": [
    "# Data augmentation function\n",
    "def augment_image(image, label):\n",
    "    \"\"\"Apply random augmentations to image\"\"\"\n",
    "    # Random rotation (-0.1 to 0.1 radians ≈ ±6 degrees)\n",
    "    image = tf.image.rot90(image, k=tf.random.uniform([], 0, 4, dtype=tf.int32))\n",
    "    \n",
    "    # Random brightness\n",
    "    image = tf.image.random_brightness(image, max_delta=0.1)\n",
    "    \n",
    "    # Random contrast\n",
    "    image = tf.image.random_contrast(image, lower=0.9, upper=1.1)\n",
    "    \n",
    "    # Ensure values stay in [0, 1]\n",
    "    image = tf.clip_by_value(image, 0.0, 1.0)\n",
    "    \n",
    "    return image, label"
   ]
  },
  {
   "cell_type": "code",
   "execution_count": 15,
   "id": "1b4d7055",
   "metadata": {},
   "outputs": [],
   "source": [
    "# Create augmented dataset\n",
    "train_dataset_augmented = tf.data.Dataset.from_tensor_slices((x_train, y_train))\n",
    "train_dataset_augmented = train_dataset_augmented.map(\n",
    "    augment_image, \n",
    "    num_parallel_calls=tf.data.AUTOTUNE  # Parallel processing!\n",
    ")\n",
    "train_dataset_augmented = train_dataset_augmented.shuffle(BUFFER_SIZE)\n",
    "train_dataset_augmented = train_dataset_augmented.batch(BATCH_SIZE)\n",
    "train_dataset_augmented = train_dataset_augmented.prefetch(tf.data.AUTOTUNE)"
   ]
  },
  {
   "cell_type": "code",
   "execution_count": 16,
   "id": "83f46d38",
   "metadata": {},
   "outputs": [
    {
     "name": "stdout",
     "output_type": "stream",
     "text": [
      "✓ Created augmented dataset with:\n",
      "  - Random rotations\n",
      "  - Random brightness/contrast\n",
      "  - Parallel processing (AUTOTUNE)\n"
     ]
    }
   ],
   "source": [
    "print(\"✓ Created augmented dataset with:\")\n",
    "print(\"  - Random rotations\")\n",
    "print(\"  - Random brightness/contrast\")\n",
    "print(\"  - Parallel processing (AUTOTUNE)\")"
   ]
  },
  {
   "cell_type": "code",
   "execution_count": 17,
   "id": "97a68a07",
   "metadata": {},
   "outputs": [
    {
     "name": "stdout",
     "output_type": "stream",
     "text": [
      "\n",
      "📸 Visualizing Augmentation Effect:\n",
      "✓ Saved to 'data_augmentation_example.png'\n"
     ]
    },
    {
     "data": {
      "image/png": "[encoded data removed]",
      "text/plain": [
       "<Figure size 1200x500 with 10 Axes>"
      ]
     },
     "metadata": {},
     "output_type": "display_data"
    }
   ],
   "source": [
    "# Visualize augmentation\n",
    "print(\"\\n📸 Visualizing Augmentation Effect:\")\n",
    "sample_images = x_train[:5]\n",
    "sample_labels = y_train[:5]\n",
    "\n",
    "fig, axes = plt.subplots(2, 5, figsize=(12, 5))\n",
    "fig.suptitle('Original vs Augmented Images', fontsize=14, fontweight='bold')\n",
    "\n",
    "for i in range(5):\n",
    "    # Original\n",
    "    axes[0, i].imshow(sample_images[i, :, :, 0], cmap='gray')\n",
    "    axes[0, i].set_title(f'Original\\n{np.argmax(sample_labels[i])}', fontsize=10)\n",
    "    axes[0, i].axis('off')\n",
    "    \n",
    "    # Augmented\n",
    "    aug_img, _ = augment_image(sample_images[i], sample_labels[i])\n",
    "    axes[1, i].imshow(aug_img.numpy()[:, :, 0], cmap='gray')\n",
    "    axes[1, i].set_title('Augmented', fontsize=10)\n",
    "    axes[1, i].axis('off')\n",
    "\n",
    "plt.tight_layout()\n",
    "plt.savefig('data_augmentation_example.png', dpi=150, bbox_inches='tight')\n",
    "print(\"✓ Saved to 'data_augmentation_example.png'\")\n",
    "plt.show()\n",
    "plt.close()"
   ]
  },
  {
   "cell_type": "code",
   "execution_count": 18,
   "id": "2d810a49",
   "metadata": {},
   "outputs": [
    {
     "name": "stdout",
     "output_type": "stream",
     "text": [
      "\n",
      "------------------------------------------------------------\n",
      "Method 3: Using tf.data with Model Training\n",
      "------------------------------------------------------------\n"
     ]
    }
   ],
   "source": [
    "print(\"\\n\" + \"-\"*60)\n",
    "print(\"Method 3: Using tf.data with Model Training\")\n",
    "print(\"-\"*60)"
   ]
  },
  {
   "cell_type": "code",
   "execution_count": 19,
   "id": "cc548e72",
   "metadata": {},
   "outputs": [
    {
     "name": "stderr",
     "output_type": "stream",
     "text": [
      "c:\\Users\\kumar\\Desktop\\KP Programming\\AI\\Gen_AI\\.venv\\Lib\\site-packages\\keras\\src\\layers\\convolutional\\base_conv.py:113: UserWarning: Do not pass an `input_shape`/`input_dim` argument to a layer. When using Sequential models, prefer using an `Input(shape)` object as the first layer in the model instead.\n",
      "  super().__init__(activity_regularizer=activity_regularizer, **kwargs)\n"
     ]
    }
   ],
   "source": [
    "# Build simple CNN\n",
    "model = keras.Sequential([\n",
    "    keras.layers.Conv2D(32, (3,3), activation='relu', input_shape=(28,28,1)),\n",
    "    keras.layers.MaxPooling2D((2,2)),\n",
    "    keras.layers.Conv2D(64, (3,3), activation='relu'),\n",
    "    keras.layers.MaxPooling2D((2,2)),\n",
    "    keras.layers.Flatten(),\n",
    "    keras.layers.Dense(128, activation='relu'),\n",
    "    keras.layers.Dropout(0.5),  # Regularization\n",
    "    keras.layers.Dense(10, activation='softmax')\n",
    "])"
   ]
  },
  {
   "cell_type": "code",
   "execution_count": 20,
   "id": "1da376c5",
   "metadata": {},
   "outputs": [],
   "source": [
    "model.compile(\n",
    "    optimizer='adam',\n",
    "    loss='categorical_crossentropy',\n",
    "    metrics=['accuracy']\n",
    ")"
   ]
  },
  {
   "cell_type": "code",
   "execution_count": 21,
   "id": "be0fbcc4",
   "metadata": {},
   "outputs": [
    {
     "name": "stdout",
     "output_type": "stream",
     "text": [
      "✓ Model ready\n",
      "\n",
      "🚀 Training with tf.data pipeline:\n",
      "(This is much cleaner than manual batching!)\n"
     ]
    }
   ],
   "source": [
    "print(\"✓ Model ready\")\n",
    "print(\"\\n🚀 Training with tf.data pipeline:\")\n",
    "print(\"(This is much cleaner than manual batching!)\")"
   ]
  },
  {
   "cell_type": "code",
   "execution_count": 22,
   "id": "ce366f4c",
   "metadata": {},
   "outputs": [
    {
     "name": "stdout",
     "output_type": "stream",
     "text": [
      "Epoch 1/3\n",
      "\u001b[1m469/469\u001b[0m \u001b[32m━━━━━━━━━━━━━━━━━━━━\u001b[0m\u001b[37m\u001b[0m \u001b[1m31s\u001b[0m 46ms/step - accuracy: 0.7427 - loss: 0.7822 - val_accuracy: 0.9159 - val_loss: 0.2652\n",
      "Epoch 2/3\n",
      "\u001b[1m469/469\u001b[0m \u001b[32m━━━━━━━━━━━━━━━━━━━━\u001b[0m\u001b[37m\u001b[0m \u001b[1m53s\u001b[0m 70ms/step - accuracy: 0.8904 - loss: 0.3515 - val_accuracy: 0.9500 - val_loss: 0.1605\n",
      "Epoch 3/3\n",
      "\u001b[1m469/469\u001b[0m \u001b[32m━━━━━━━━━━━━━━━━━━━━\u001b[0m\u001b[37m\u001b[0m \u001b[1m18s\u001b[0m 37ms/step - accuracy: 0.9159 - loss: 0.2753 - val_accuracy: 0.9639 - val_loss: 0.1201\n"
     ]
    }
   ],
   "source": [
    "# Train with tf.data (commented to save time - uncomment to run)\n",
    "history = model.fit(\n",
    "    train_dataset_augmented,  # ← tf.data dataset!\n",
    "    epochs=3,\n",
    "    validation_data=test_dataset,\n",
    "    verbose=1\n",
    ")"
   ]
  },
  {
   "cell_type": "code",
   "execution_count": 23,
   "id": "2f20fb16",
   "metadata": {},
   "outputs": [
    {
     "name": "stdout",
     "output_type": "stream",
     "text": [
      "\n",
      "✓ Notice how clean the training code is!\n",
      "  No manual batching, no manual shuffling - tf.data handles everything.\n",
      "\n",
      "Comparison:\n",
      "  Manual:  for i in range(0, len(x), batch_size): ...\n",
      "  tf.data: model.fit(dataset, epochs=3)  ← That's it!\n",
      "\n"
     ]
    }
   ],
   "source": [
    "print(\"\"\"\n",
    "✓ Notice how clean the training code is!\n",
    "  No manual batching, no manual shuffling - tf.data handles everything.\n",
    "\n",
    "Comparison:\n",
    "  Manual:  for i in range(0, len(x), batch_size): ...\n",
    "  tf.data: model.fit(dataset, epochs=3)  ← That's it!\n",
    "\"\"\")"
   ]
  },
  {
   "cell_type": "code",
   "execution_count": 24,
   "id": "60e00310",
   "metadata": {},
   "outputs": [],
   "source": [
    "# ============================================\n",
    "# PART 2: TensorBoard - Professional Visualization\n",
    "# ============================================"
   ]
  },
  {
   "cell_type": "code",
   "execution_count": 25,
   "id": "fc1e9484",
   "metadata": {},
   "outputs": [
    {
     "name": "stdout",
     "output_type": "stream",
     "text": [
      "\n",
      "============================================================\n",
      "📊 PART 2: TensorBoard - Professional ML Visualization\n",
      "============================================================\n"
     ]
    }
   ],
   "source": [
    "print(\"\\n\" + \"=\"*60)\n",
    "print(\"📊 PART 2: TensorBoard - Professional ML Visualization\")\n",
    "print(\"=\"*60)"
   ]
  },
  {
   "cell_type": "markdown",
   "id": "be223687",
   "metadata": {},
   "source": [
    "### WHY TensorBoard?\n",
    "\n",
    "Your current visualization:\n",
    "  - matplotlib plots (static)\n",
    "  - Manual tracking of metrics\n",
    "  - No real-time monitoring\n",
    "  - Hard to compare experiments\n",
    "\n",
    "TensorBoard gives you:\n",
    "- ✅ Real-time training monitoring\n",
    "- ✅ Interactive graphs (zoom, pan, compare)\n",
    "- ✅ Model architecture visualization\n",
    "- ✅ Histogram of weights/gradients\n",
    "- ✅ Embedding projections (t-SNE, PCA)\n",
    "- ✅ Compare multiple runs"
   ]
  },
  {
   "cell_type": "code",
   "execution_count": 26,
   "id": "c2583ab1",
   "metadata": {},
   "outputs": [
    {
     "name": "stdout",
     "output_type": "stream",
     "text": [
      "\n",
      "📁 Created log directory: logs/fit/20251008-191041\n"
     ]
    }
   ],
   "source": [
    "# Create log directory\n",
    "log_dir = \"logs/fit/\" + datetime.now().strftime(\"%Y%m%d-%H%M%S\")\n",
    "os.makedirs(log_dir, exist_ok=True)\n",
    "\n",
    "print(f\"\\n📁 Created log directory: {log_dir}\")"
   ]
  },
  {
   "cell_type": "code",
   "execution_count": 27,
   "id": "a660a6bb",
   "metadata": {},
   "outputs": [
    {
     "name": "stdout",
     "output_type": "stream",
     "text": [
      "\n",
      "✓ TensorBoard callback configured\n"
     ]
    }
   ],
   "source": [
    "# TensorBoard callback\n",
    "tensorboard_callback = keras.callbacks.TensorBoard(\n",
    "    log_dir=log_dir,\n",
    "    histogram_freq=1,  # Log weight histograms every epoch\n",
    "    write_graph=True,  # Visualize model architecture\n",
    "    write_images=True, # Log model weights as images\n",
    "    update_freq='epoch',\n",
    "    profile_batch='500,520'  # Profile performance\n",
    ")\n",
    "\n",
    "print(\"\\n✓ TensorBoard callback configured\")"
   ]
  },
  {
   "cell_type": "markdown",
   "id": "2482cdaa",
   "metadata": {},
   "source": [
    "### 📈 TensorBoard Features:\n",
    "\n",
    "1. SCALARS: Track metrics over time\n",
    "   - Training loss, accuracy\n",
    "   - Validation loss, accuracy\n",
    "   - Learning rate\n",
    "   - Custom metrics\n",
    "\n",
    "2. GRAPHS: Model architecture visualization\n",
    "   - See your model as a computational graph\n",
    "   - Understand layer connections\n",
    "\n",
    "3. DISTRIBUTIONS: Weight/gradient histograms\n",
    "   - Monitor if weights are learning\n",
    "   - Detect vanishing/exploding gradients\n",
    "\n",
    "4. IMAGES: Visualize predictions\n",
    "   - See what model gets wrong\n",
    "   - Track improvement over epochs\n",
    "\n",
    "5. PROJECTOR: Embedding visualization\n",
    "   - t-SNE/PCA of learned representations\n",
    "   - See how model clusters data"
   ]
  },
  {
   "cell_type": "code",
   "execution_count": 28,
   "id": "cfc6fc35",
   "metadata": {},
   "outputs": [
    {
     "name": "stdout",
     "output_type": "stream",
     "text": [
      "\n",
      "🚀 To use TensorBoard:\n",
      "1. Train model with callback:\n",
      "   history = model.fit(dataset, callbacks=[tensorboard_callback])\n",
      "\n",
      "2. Launch TensorBoard:\n",
      "   tensorboard --logdir=logs/fit\n",
      "\n",
      "3. Open in browser:\n",
      "   http://localhost:6006\n"
     ]
    }
   ],
   "source": [
    "# Train with TensorBoard (commented - uncomment to run)\n",
    "print(\"\\n🚀 To use TensorBoard:\")\n",
    "print(\"1. Train model with callback:\")\n",
    "print(\"   history = model.fit(dataset, callbacks=[tensorboard_callback])\")\n",
    "print(\"\\n2. Launch TensorBoard:\")\n",
    "print(\"   tensorboard --logdir=logs/fit\")\n",
    "print(\"\\n3. Open in browser:\")\n",
    "print(\"   http://localhost:6006\")"
   ]
  },
  {
   "cell_type": "code",
   "execution_count": 29,
   "id": "846611db",
   "metadata": {},
   "outputs": [
    {
     "name": "stdout",
     "output_type": "stream",
     "text": [
      "\n",
      "------------------------------------------------------------\n",
      "Demo: Custom Logging to TensorBoard\n",
      "------------------------------------------------------------\n"
     ]
    }
   ],
   "source": [
    "# Simulate training for demo\n",
    "print(\"\\n\" + \"-\"*60)\n",
    "print(\"Demo: Custom Logging to TensorBoard\")\n",
    "print(\"-\"*60)"
   ]
  },
  {
   "cell_type": "code",
   "execution_count": 30,
   "id": "ab0fa256",
   "metadata": {},
   "outputs": [
    {
     "name": "stdout",
     "output_type": "stream",
     "text": [
      "✓ Created summary writers\n"
     ]
    }
   ],
   "source": [
    "# Create summary writers\n",
    "train_log_dir = log_dir + '/train'\n",
    "test_log_dir = log_dir + '/test'\n",
    "train_summary_writer = tf.summary.create_file_writer(train_log_dir)\n",
    "test_summary_writer = tf.summary.create_file_writer(test_log_dir)\n",
    "\n",
    "print(\"✓ Created summary writers\")"
   ]
  },
  {
   "cell_type": "code",
   "execution_count": 31,
   "id": "471a1c79",
   "metadata": {},
   "outputs": [
    {
     "name": "stdout",
     "output_type": "stream",
     "text": [
      "\n",
      "💡 Custom Logging Example:\n",
      "   with train_summary_writer.as_default():\n",
      "       tf.summary.scalar('loss', loss_value, step=epoch)\n",
      "       tf.summary.scalar('accuracy', acc_value, step=epoch)\n"
     ]
    }
   ],
   "source": [
    "# Simulate logging (in real training, this happens automatically)\n",
    "print(\"\\n💡 Custom Logging Example:\")\n",
    "print(\"   with train_summary_writer.as_default():\")\n",
    "print(\"       tf.summary.scalar('loss', loss_value, step=epoch)\")\n",
    "print(\"       tf.summary.scalar('accuracy', acc_value, step=epoch)\")"
   ]
  },
  {
   "cell_type": "markdown",
   "id": "5c512a5f",
   "metadata": {},
   "source": [
    "\n",
    "### Advanced TensorBoard Usage:\n",
    "\n",
    "1. Compare Multiple Runs:\n",
    "   - Train with different hyperparameters\n",
    "   - Each run saves to different directory\n",
    "   - TensorBoard overlays all runs!\n",
    "\n",
    "2. Monitor Training in Real-Time:\n",
    "   - Start TensorBoard before training\n",
    "   - Watch metrics update live\n",
    "   - Stop training early if overfitting\n",
    "\n",
    "3. Debug Model:\n",
    "   - Check weight histograms\n",
    "   - Ensure gradients are flowing\n",
    "   - Visualize layer outputs\n",
    "\n",
    "4. Share Results:\n",
    "   - TensorBoard logs are portable\n",
    "   - Share with team/advisor\n",
    "   - Include in reports"
   ]
  },
  {
   "cell_type": "code",
   "execution_count": 32,
   "id": "8905244d",
   "metadata": {},
   "outputs": [],
   "source": [
    "# ============================================\n",
    "# PART 3: Best Practices Summary\n",
    "# ============================================"
   ]
  },
  {
   "cell_type": "code",
   "execution_count": 33,
   "id": "fbdf3e2d",
   "metadata": {},
   "outputs": [
    {
     "name": "stdout",
     "output_type": "stream",
     "text": [
      "\n",
      "============================================================\n",
      "🎯 PART 3: Best Practices for Production ML\n",
      "============================================================\n"
     ]
    }
   ],
   "source": [
    "print(\"\\n\" + \"=\"*60)\n",
    "print(\"🎯 PART 3: Best Practices for Production ML\")\n",
    "print(\"=\"*60)"
   ]
  },
  {
   "cell_type": "code",
   "execution_count": 36,
   "id": "84b5f944",
   "metadata": {},
   "outputs": [
    {
     "name": "stdout",
     "output_type": "stream",
     "text": [
      "\n",
      "DATA PIPELINE:\n",
      "✓ Use tf.data for efficient loading\n",
      "✓ Apply augmentation for small datasets\n",
      "✓ Prefetch for GPU/CPU overlap\n",
      "✓ Use AUTOTUNE for automatic optimization\n",
      "\n",
      "TRAINING:\n",
      "✓ Use callbacks (EarlyStopping, ModelCheckpoint, TensorBoard)\n",
      "✓ Monitor validation metrics (not just training)\n",
      "✓ Save best model, not last model\n",
      "✓ Use learning rate schedules\n",
      "\n",
      "MODEL ARCHITECTURE:\n",
      "✓ Start simple, add complexity if needed\n",
      "✓ Use Dropout for regularization\n",
      "✓ Batch normalization for deep networks\n",
      "✓ Residual connections for very deep networks\n",
      "\n"
     ]
    }
   ],
   "source": [
    "best_practices = \"\"\"\n",
    "DATA PIPELINE:\n",
    "✓ Use tf.data for efficient loading\n",
    "✓ Apply augmentation for small datasets\n",
    "✓ Prefetch for GPU/CPU overlap\n",
    "✓ Use AUTOTUNE for automatic optimization\n",
    "\n",
    "TRAINING:\n",
    "✓ Use callbacks (EarlyStopping, ModelCheckpoint, TensorBoard)\n",
    "✓ Monitor validation metrics (not just training)\n",
    "✓ Save best model, not last model\n",
    "✓ Use learning rate schedules\n",
    "\n",
    "MODEL ARCHITECTURE:\n",
    "✓ Start simple, add complexity if needed\n",
    "✓ Use Dropout for regularization\n",
    "✓ Batch normalization for deep networks\n",
    "✓ Residual connections for very deep networks\n",
    "\"\"\"\n",
    "\n",
    "print(best_practices)"
   ]
  },
  {
   "cell_type": "code",
   "execution_count": 35,
   "id": "122b5773",
   "metadata": {},
   "outputs": [],
   "source": [
    "# ============================================\n",
    "# PART 4: Useful Callbacks Reference\n",
    "# ============================================"
   ]
  },
  {
   "cell_type": "code",
   "execution_count": 37,
   "id": "795bd689",
   "metadata": {},
   "outputs": [
    {
     "name": "stdout",
     "output_type": "stream",
     "text": [
      "\n",
      "============================================================\n",
      "🔧 PART 4: Essential Keras Callbacks\n",
      "============================================================\n"
     ]
    }
   ],
   "source": [
    "print(\"\\n\" + \"=\"*60)\n",
    "print(\"🔧 PART 4: Essential Keras Callbacks\")\n",
    "print(\"=\"*60)"
   ]
  },
  {
   "cell_type": "markdown",
   "id": "75b084a4",
   "metadata": {},
   "source": [
    "\n",
    "1. **EarlyStopping** - Stop training when no improvement\n",
    "   ```py\n",
    "   early_stop = keras.callbacks.EarlyStopping(\n",
    "       monitor='val_loss',\n",
    "       patience=3,  # Stop if no improvement for 3 epochs\n",
    "       restore_best_weights=True\n",
    "   )\n",
    "   ```\n",
    "\n",
    "2. **ModelCheckpoint** - Save best model\n",
    "   ```py\n",
    "   checkpoint = keras.callbacks.ModelCheckpoint(\n",
    "       'best_model.h5',\n",
    "       monitor='val_accuracy',\n",
    "       save_best_only=True,\n",
    "       verbose=1\n",
    "   )\n",
    "   ```\n",
    "\n",
    "3. **ReduceLROnPlateau** - Reduce learning rate when stuck\n",
    "   ```py\n",
    "   reduce_lr = keras.callbacks.ReduceLROnPlateau(\n",
    "       monitor='val_loss',\n",
    "       factor=0.5,  # Multiply LR by 0.5\n",
    "       patience=2,\n",
    "       min_lr=1e-7\n",
    "   )\n",
    "   ```\n",
    "\n",
    "4. **TensorBoard** - Visualization\n",
    "   ```py\n",
    "   tensorboard = keras.callbacks.TensorBoard(\n",
    "       log_dir='logs',\n",
    "       histogram_freq=1\n",
    "   )\n",
    "   ```\n",
    "\n",
    "5. **Custom Callback** - Your own logic\n",
    "   ```py\n",
    "   class CustomCallback(keras.callbacks.Callback):\n",
    "       def on_epoch_end(self, epoch, logs=None):\n",
    "           # Your custom code here\n",
    "           pass\n",
    "   ```\n",
    "\n",
    "**Usage:**\n",
    "   ```py\n",
    "   callbacks = [early_stop, checkpoint, reduce_lr, tensorboard]\n",
    "   model.fit(dataset, epochs=50, callbacks=callbacks)\n",
    "   ```\n"
   ]
  },
  {
   "cell_type": "code",
   "execution_count": 38,
   "id": "960a7cbd",
   "metadata": {},
   "outputs": [],
   "source": [
    "# ============================================\n",
    "# PART 5: Complete Example (Commented)\n",
    "# ============================================"
   ]
  },
  {
   "cell_type": "code",
   "execution_count": 39,
   "id": "705fd643",
   "metadata": {},
   "outputs": [
    {
     "name": "stdout",
     "output_type": "stream",
     "text": [
      "\n",
      "============================================================\n",
      "📝 PART 5: Complete Production Pipeline Template\n",
      "============================================================\n"
     ]
    }
   ],
   "source": [
    "print(\"\\n\" + \"=\"*60)\n",
    "print(\"📝 PART 5: Complete Production Pipeline Template\")\n",
    "print(\"=\"*60)"
   ]
  },
  {
   "cell_type": "markdown",
   "id": "6c51c52a",
   "metadata": {},
   "source": [
    "#### COMPLETE TEMPLATE - Copy this for future projects!"
   ]
  },
  {
   "cell_type": "code",
   "execution_count": 42,
   "id": "e4eb7d41",
   "metadata": {},
   "outputs": [
    {
     "name": "stdout",
     "output_type": "stream",
     "text": [
      "Epoch 1/50\n"
     ]
    },
    {
     "name": "stderr",
     "output_type": "stream",
     "text": [
      "c:\\Users\\kumar\\Desktop\\KP Programming\\AI\\Gen_AI\\.venv\\Lib\\site-packages\\keras\\src\\layers\\convolutional\\base_conv.py:113: UserWarning: Do not pass an `input_shape`/`input_dim` argument to a layer. When using Sequential models, prefer using an `Input(shape)` object as the first layer in the model instead.\n",
      "  super().__init__(activity_regularizer=activity_regularizer, **kwargs)\n"
     ]
    },
    {
     "name": "stdout",
     "output_type": "stream",
     "text": [
      "\u001b[1m469/469\u001b[0m \u001b[32m━━━━━━━━━━━━━━━━━━━━\u001b[0m\u001b[37m\u001b[0m \u001b[1m0s\u001b[0m 50ms/step - accuracy: 0.5761 - loss: 1.2308"
     ]
    },
    {
     "name": "stderr",
     "output_type": "stream",
     "text": [
      "WARNING:absl:You are saving your model as an HDF5 file via `model.save()` or `keras.saving.save_model(model)`. This file format is considered legacy. We recommend using instead the native Keras format, e.g. `model.save('my_model.keras')` or `keras.saving.save_model(model, 'my_model.keras')`. \n"
     ]
    },
    {
     "name": "stdout",
     "output_type": "stream",
     "text": [
      "\u001b[1m469/469\u001b[0m \u001b[32m━━━━━━━━━━━━━━━━━━━━\u001b[0m\u001b[37m\u001b[0m \u001b[1m34s\u001b[0m 56ms/step - accuracy: 0.7389 - loss: 0.7947 - val_accuracy: 0.9266 - val_loss: 0.2412 - learning_rate: 0.0010\n",
      "Epoch 2/50\n",
      "\u001b[1m469/469\u001b[0m \u001b[32m━━━━━━━━━━━━━━━━━━━━\u001b[0m\u001b[37m\u001b[0m \u001b[1m0s\u001b[0m 236ms/step - accuracy: 0.8822 - loss: 0.3828"
     ]
    },
    {
     "name": "stderr",
     "output_type": "stream",
     "text": [
      "WARNING:absl:You are saving your model as an HDF5 file via `model.save()` or `keras.saving.save_model(model)`. This file format is considered legacy. We recommend using instead the native Keras format, e.g. `model.save('my_model.keras')` or `keras.saving.save_model(model, 'my_model.keras')`. \n"
     ]
    },
    {
     "name": "stdout",
     "output_type": "stream",
     "text": [
      "\u001b[1m469/469\u001b[0m \u001b[32m━━━━━━━━━━━━━━━━━━━━\u001b[0m\u001b[37m\u001b[0m \u001b[1m118s\u001b[0m 250ms/step - accuracy: 0.8936 - loss: 0.3478 - val_accuracy: 0.9571 - val_loss: 0.1458 - learning_rate: 0.0010\n",
      "Epoch 3/50\n",
      "\u001b[1m469/469\u001b[0m \u001b[32m━━━━━━━━━━━━━━━━━━━━\u001b[0m\u001b[37m\u001b[0m \u001b[1m0s\u001b[0m 98ms/step - accuracy: 0.9158 - loss: 0.2799"
     ]
    },
    {
     "name": "stderr",
     "output_type": "stream",
     "text": [
      "WARNING:absl:You are saving your model as an HDF5 file via `model.save()` or `keras.saving.save_model(model)`. This file format is considered legacy. We recommend using instead the native Keras format, e.g. `model.save('my_model.keras')` or `keras.saving.save_model(model, 'my_model.keras')`. \n"
     ]
    },
    {
     "name": "stdout",
     "output_type": "stream",
     "text": [
      "\u001b[1m469/469\u001b[0m \u001b[32m━━━━━━━━━━━━━━━━━━━━\u001b[0m\u001b[37m\u001b[0m \u001b[1m52s\u001b[0m 104ms/step - accuracy: 0.9208 - loss: 0.2632 - val_accuracy: 0.9586 - val_loss: 0.1301 - learning_rate: 0.0010\n",
      "Epoch 4/50\n",
      "\u001b[1m469/469\u001b[0m \u001b[32m━━━━━━━━━━━━━━━━━━━━\u001b[0m\u001b[37m\u001b[0m \u001b[1m0s\u001b[0m 94ms/step - accuracy: 0.9282 - loss: 0.2323"
     ]
    },
    {
     "name": "stderr",
     "output_type": "stream",
     "text": [
      "WARNING:absl:You are saving your model as an HDF5 file via `model.save()` or `keras.saving.save_model(model)`. This file format is considered legacy. We recommend using instead the native Keras format, e.g. `model.save('my_model.keras')` or `keras.saving.save_model(model, 'my_model.keras')`. \n"
     ]
    },
    {
     "name": "stdout",
     "output_type": "stream",
     "text": [
      "\u001b[1m469/469\u001b[0m \u001b[32m━━━━━━━━━━━━━━━━━━━━\u001b[0m\u001b[37m\u001b[0m \u001b[1m49s\u001b[0m 99ms/step - accuracy: 0.9316 - loss: 0.2237 - val_accuracy: 0.9666 - val_loss: 0.1078 - learning_rate: 0.0010\n",
      "Epoch 5/50\n",
      "\u001b[1m469/469\u001b[0m \u001b[32m━━━━━━━━━━━━━━━━━━━━\u001b[0m\u001b[37m\u001b[0m \u001b[1m0s\u001b[0m 91ms/step - accuracy: 0.9392 - loss: 0.2041"
     ]
    },
    {
     "name": "stderr",
     "output_type": "stream",
     "text": [
      "WARNING:absl:You are saving your model as an HDF5 file via `model.save()` or `keras.saving.save_model(model)`. This file format is considered legacy. We recommend using instead the native Keras format, e.g. `model.save('my_model.keras')` or `keras.saving.save_model(model, 'my_model.keras')`. \n"
     ]
    },
    {
     "name": "stdout",
     "output_type": "stream",
     "text": [
      "\u001b[1m469/469\u001b[0m \u001b[32m━━━━━━━━━━━━━━━━━━━━\u001b[0m\u001b[37m\u001b[0m \u001b[1m45s\u001b[0m 94ms/step - accuracy: 0.9412 - loss: 0.1976 - val_accuracy: 0.9712 - val_loss: 0.0886 - learning_rate: 0.0010\n",
      "Epoch 6/50\n",
      "\u001b[1m469/469\u001b[0m \u001b[32m━━━━━━━━━━━━━━━━━━━━\u001b[0m\u001b[37m\u001b[0m \u001b[1m0s\u001b[0m 80ms/step - accuracy: 0.9439 - loss: 0.1843"
     ]
    },
    {
     "name": "stderr",
     "output_type": "stream",
     "text": [
      "WARNING:absl:You are saving your model as an HDF5 file via `model.save()` or `keras.saving.save_model(model)`. This file format is considered legacy. We recommend using instead the native Keras format, e.g. `model.save('my_model.keras')` or `keras.saving.save_model(model, 'my_model.keras')`. \n"
     ]
    },
    {
     "name": "stdout",
     "output_type": "stream",
     "text": [
      "\u001b[1m469/469\u001b[0m \u001b[32m━━━━━━━━━━━━━━━━━━━━\u001b[0m\u001b[37m\u001b[0m \u001b[1m40s\u001b[0m 85ms/step - accuracy: 0.9456 - loss: 0.1802 - val_accuracy: 0.9740 - val_loss: 0.0837 - learning_rate: 0.0010\n",
      "Epoch 7/50\n",
      "\u001b[1m469/469\u001b[0m \u001b[32m━━━━━━━━━━━━━━━━━━━━\u001b[0m\u001b[37m\u001b[0m \u001b[1m0s\u001b[0m 90ms/step - accuracy: 0.9495 - loss: 0.1669"
     ]
    },
    {
     "name": "stderr",
     "output_type": "stream",
     "text": [
      "WARNING:absl:You are saving your model as an HDF5 file via `model.save()` or `keras.saving.save_model(model)`. This file format is considered legacy. We recommend using instead the native Keras format, e.g. `model.save('my_model.keras')` or `keras.saving.save_model(model, 'my_model.keras')`. \n"
     ]
    },
    {
     "name": "stdout",
     "output_type": "stream",
     "text": [
      "\u001b[1m469/469\u001b[0m \u001b[32m━━━━━━━━━━━━━━━━━━━━\u001b[0m\u001b[37m\u001b[0m \u001b[1m45s\u001b[0m 94ms/step - accuracy: 0.9501 - loss: 0.1649 - val_accuracy: 0.9772 - val_loss: 0.0765 - learning_rate: 0.0010\n",
      "Epoch 8/50\n",
      "\u001b[1m469/469\u001b[0m \u001b[32m━━━━━━━━━━━━━━━━━━━━\u001b[0m\u001b[37m\u001b[0m \u001b[1m44s\u001b[0m 91ms/step - accuracy: 0.9522 - loss: 0.1557 - val_accuracy: 0.9754 - val_loss: 0.0775 - learning_rate: 0.0010\n",
      "Epoch 9/50\n",
      "\u001b[1m469/469\u001b[0m \u001b[32m━━━━━━━━━━━━━━━━━━━━\u001b[0m\u001b[37m\u001b[0m \u001b[1m0s\u001b[0m 89ms/step - accuracy: 0.9547 - loss: 0.1489"
     ]
    },
    {
     "name": "stderr",
     "output_type": "stream",
     "text": [
      "WARNING:absl:You are saving your model as an HDF5 file via `model.save()` or `keras.saving.save_model(model)`. This file format is considered legacy. We recommend using instead the native Keras format, e.g. `model.save('my_model.keras')` or `keras.saving.save_model(model, 'my_model.keras')`. \n"
     ]
    },
    {
     "name": "stdout",
     "output_type": "stream",
     "text": [
      "\u001b[1m469/469\u001b[0m \u001b[32m━━━━━━━━━━━━━━━━━━━━\u001b[0m\u001b[37m\u001b[0m \u001b[1m45s\u001b[0m 93ms/step - accuracy: 0.9556 - loss: 0.1459 - val_accuracy: 0.9780 - val_loss: 0.0683 - learning_rate: 0.0010\n",
      "Epoch 10/50\n",
      "\u001b[1m469/469\u001b[0m \u001b[32m━━━━━━━━━━━━━━━━━━━━\u001b[0m\u001b[37m\u001b[0m \u001b[1m0s\u001b[0m 89ms/step - accuracy: 0.9576 - loss: 0.1379"
     ]
    },
    {
     "name": "stderr",
     "output_type": "stream",
     "text": [
      "WARNING:absl:You are saving your model as an HDF5 file via `model.save()` or `keras.saving.save_model(model)`. This file format is considered legacy. We recommend using instead the native Keras format, e.g. `model.save('my_model.keras')` or `keras.saving.save_model(model, 'my_model.keras')`. \n"
     ]
    },
    {
     "name": "stdout",
     "output_type": "stream",
     "text": [
      "\u001b[1m469/469\u001b[0m \u001b[32m━━━━━━━━━━━━━━━━━━━━\u001b[0m\u001b[37m\u001b[0m \u001b[1m45s\u001b[0m 95ms/step - accuracy: 0.9590 - loss: 0.1355 - val_accuracy: 0.9780 - val_loss: 0.0660 - learning_rate: 0.0010\n",
      "Epoch 11/50\n",
      "\u001b[1m469/469\u001b[0m \u001b[32m━━━━━━━━━━━━━━━━━━━━\u001b[0m\u001b[37m\u001b[0m \u001b[1m44s\u001b[0m 91ms/step - accuracy: 0.9606 - loss: 0.1301 - val_accuracy: 0.9778 - val_loss: 0.0672 - learning_rate: 0.0010\n",
      "Epoch 12/50\n",
      "\u001b[1m469/469\u001b[0m \u001b[32m━━━━━━━━━━━━━━━━━━━━\u001b[0m\u001b[37m\u001b[0m \u001b[1m46s\u001b[0m 96ms/step - accuracy: 0.9627 - loss: 0.1247 - val_accuracy: 0.9783 - val_loss: 0.0691 - learning_rate: 0.0010\n",
      "Epoch 13/50\n",
      "\u001b[1m469/469\u001b[0m \u001b[32m━━━━━━━━━━━━━━━━━━━━\u001b[0m\u001b[37m\u001b[0m \u001b[1m81s\u001b[0m 94ms/step - accuracy: 0.9636 - loss: 0.1214 - val_accuracy: 0.9789 - val_loss: 0.0675 - learning_rate: 0.0010\n",
      "Epoch 14/50\n",
      "\u001b[1m469/469\u001b[0m \u001b[32m━━━━━━━━━━━━━━━━━━━━\u001b[0m\u001b[37m\u001b[0m \u001b[1m0s\u001b[0m 89ms/step - accuracy: 0.9666 - loss: 0.1096"
     ]
    },
    {
     "name": "stderr",
     "output_type": "stream",
     "text": [
      "WARNING:absl:You are saving your model as an HDF5 file via `model.save()` or `keras.saving.save_model(model)`. This file format is considered legacy. We recommend using instead the native Keras format, e.g. `model.save('my_model.keras')` or `keras.saving.save_model(model, 'my_model.keras')`. \n"
     ]
    },
    {
     "name": "stdout",
     "output_type": "stream",
     "text": [
      "\u001b[1m469/469\u001b[0m \u001b[32m━━━━━━━━━━━━━━━━━━━━\u001b[0m\u001b[37m\u001b[0m \u001b[1m46s\u001b[0m 95ms/step - accuracy: 0.9679 - loss: 0.1042 - val_accuracy: 0.9791 - val_loss: 0.0617 - learning_rate: 5.0000e-04\n",
      "Epoch 15/50\n",
      "\u001b[1m469/469\u001b[0m \u001b[32m━━━━━━━━━━━━━━━━━━━━\u001b[0m\u001b[37m\u001b[0m \u001b[1m0s\u001b[0m 87ms/step - accuracy: 0.9691 - loss: 0.1019"
     ]
    },
    {
     "name": "stderr",
     "output_type": "stream",
     "text": [
      "WARNING:absl:You are saving your model as an HDF5 file via `model.save()` or `keras.saving.save_model(model)`. This file format is considered legacy. We recommend using instead the native Keras format, e.g. `model.save('my_model.keras')` or `keras.saving.save_model(model, 'my_model.keras')`. \n"
     ]
    },
    {
     "name": "stdout",
     "output_type": "stream",
     "text": [
      "\u001b[1m469/469\u001b[0m \u001b[32m━━━━━━━━━━━━━━━━━━━━\u001b[0m\u001b[37m\u001b[0m \u001b[1m80s\u001b[0m 92ms/step - accuracy: 0.9699 - loss: 0.0996 - val_accuracy: 0.9809 - val_loss: 0.0601 - learning_rate: 5.0000e-04\n",
      "Epoch 16/50\n",
      "\u001b[1m469/469\u001b[0m \u001b[32m━━━━━━━━━━━━━━━━━━━━\u001b[0m\u001b[37m\u001b[0m \u001b[1m0s\u001b[0m 86ms/step - accuracy: 0.9714 - loss: 0.0957"
     ]
    },
    {
     "name": "stderr",
     "output_type": "stream",
     "text": [
      "WARNING:absl:You are saving your model as an HDF5 file via `model.save()` or `keras.saving.save_model(model)`. This file format is considered legacy. We recommend using instead the native Keras format, e.g. `model.save('my_model.keras')` or `keras.saving.save_model(model, 'my_model.keras')`. \n"
     ]
    },
    {
     "name": "stdout",
     "output_type": "stream",
     "text": [
      "\u001b[1m469/469\u001b[0m \u001b[32m━━━━━━━━━━━━━━━━━━━━\u001b[0m\u001b[37m\u001b[0m \u001b[1m44s\u001b[0m 91ms/step - accuracy: 0.9710 - loss: 0.0955 - val_accuracy: 0.9833 - val_loss: 0.0544 - learning_rate: 5.0000e-04\n",
      "Epoch 17/50\n",
      "\u001b[1m469/469\u001b[0m \u001b[32m━━━━━━━━━━━━━━━━━━━━\u001b[0m\u001b[37m\u001b[0m \u001b[1m112s\u001b[0m 48ms/step - accuracy: 0.9711 - loss: 0.0963 - val_accuracy: 0.9817 - val_loss: 0.0592 - learning_rate: 5.0000e-04\n",
      "Epoch 18/50\n",
      "\u001b[1m469/469\u001b[0m \u001b[32m━━━━━━━━━━━━━━━━━━━━\u001b[0m\u001b[37m\u001b[0m \u001b[1m21s\u001b[0m 45ms/step - accuracy: 0.9721 - loss: 0.0917 - val_accuracy: 0.9839 - val_loss: 0.0570 - learning_rate: 5.0000e-04\n",
      "Epoch 19/50\n",
      "\u001b[1m469/469\u001b[0m \u001b[32m━━━━━━━━━━━━━━━━━━━━\u001b[0m\u001b[37m\u001b[0m \u001b[1m21s\u001b[0m 45ms/step - accuracy: 0.9724 - loss: 0.0911 - val_accuracy: 0.9833 - val_loss: 0.0580 - learning_rate: 5.0000e-04\n",
      "Epoch 20/50\n",
      "\u001b[1m468/469\u001b[0m \u001b[32m━━━━━━━━━━━━━━━━━━━\u001b[0m\u001b[37m━\u001b[0m \u001b[1m0s\u001b[0m 37ms/step - accuracy: 0.9758 - loss: 0.0825"
     ]
    },
    {
     "name": "stderr",
     "output_type": "stream",
     "text": [
      "WARNING:absl:You are saving your model as an HDF5 file via `model.save()` or `keras.saving.save_model(model)`. This file format is considered legacy. We recommend using instead the native Keras format, e.g. `model.save('my_model.keras')` or `keras.saving.save_model(model, 'my_model.keras')`. \n"
     ]
    },
    {
     "name": "stdout",
     "output_type": "stream",
     "text": [
      "\u001b[1m469/469\u001b[0m \u001b[32m━━━━━━━━━━━━━━━━━━━━\u001b[0m\u001b[37m\u001b[0m \u001b[1m19s\u001b[0m 39ms/step - accuracy: 0.9754 - loss: 0.0818 - val_accuracy: 0.9846 - val_loss: 0.0504 - learning_rate: 2.5000e-04\n",
      "Epoch 21/50\n",
      "\u001b[1m469/469\u001b[0m \u001b[32m━━━━━━━━━━━━━━━━━━━━\u001b[0m\u001b[37m\u001b[0m \u001b[1m18s\u001b[0m 38ms/step - accuracy: 0.9765 - loss: 0.0779 - val_accuracy: 0.9837 - val_loss: 0.0540 - learning_rate: 2.5000e-04\n",
      "Epoch 22/50\n",
      "\u001b[1m469/469\u001b[0m \u001b[32m━━━━━━━━━━━━━━━━━━━━\u001b[0m\u001b[37m\u001b[0m \u001b[1m19s\u001b[0m 39ms/step - accuracy: 0.9768 - loss: 0.0786 - val_accuracy: 0.9845 - val_loss: 0.0520 - learning_rate: 2.5000e-04\n",
      "Epoch 23/50\n",
      "\u001b[1m469/469\u001b[0m \u001b[32m━━━━━━━━━━━━━━━━━━━━\u001b[0m\u001b[37m\u001b[0m \u001b[1m18s\u001b[0m 38ms/step - accuracy: 0.9762 - loss: 0.0781 - val_accuracy: 0.9846 - val_loss: 0.0511 - learning_rate: 2.5000e-04\n",
      "Epoch 24/50\n",
      "\u001b[1m468/469\u001b[0m \u001b[32m━━━━━━━━━━━━━━━━━━━\u001b[0m\u001b[37m━\u001b[0m \u001b[1m0s\u001b[0m 37ms/step - accuracy: 0.9776 - loss: 0.0745"
     ]
    },
    {
     "name": "stderr",
     "output_type": "stream",
     "text": [
      "WARNING:absl:You are saving your model as an HDF5 file via `model.save()` or `keras.saving.save_model(model)`. This file format is considered legacy. We recommend using instead the native Keras format, e.g. `model.save('my_model.keras')` or `keras.saving.save_model(model, 'my_model.keras')`. \n"
     ]
    },
    {
     "name": "stdout",
     "output_type": "stream",
     "text": [
      "\u001b[1m469/469\u001b[0m \u001b[32m━━━━━━━━━━━━━━━━━━━━\u001b[0m\u001b[37m\u001b[0m \u001b[1m18s\u001b[0m 39ms/step - accuracy: 0.9775 - loss: 0.0751 - val_accuracy: 0.9846 - val_loss: 0.0496 - learning_rate: 1.2500e-04\n",
      "Epoch 25/50\n",
      "\u001b[1m469/469\u001b[0m \u001b[32m━━━━━━━━━━━━━━━━━━━━\u001b[0m\u001b[37m\u001b[0m \u001b[1m18s\u001b[0m 38ms/step - accuracy: 0.9784 - loss: 0.0720 - val_accuracy: 0.9845 - val_loss: 0.0502 - learning_rate: 1.2500e-04\n",
      "Epoch 26/50\n",
      "\u001b[1m469/469\u001b[0m \u001b[32m━━━━━━━━━━━━━━━━━━━━\u001b[0m\u001b[37m\u001b[0m \u001b[1m21s\u001b[0m 44ms/step - accuracy: 0.9790 - loss: 0.0711 - val_accuracy: 0.9849 - val_loss: 0.0503 - learning_rate: 1.2500e-04\n",
      "Epoch 27/50\n",
      "\u001b[1m469/469\u001b[0m \u001b[32m━━━━━━━━━━━━━━━━━━━━\u001b[0m\u001b[37m\u001b[0m \u001b[1m19s\u001b[0m 39ms/step - accuracy: 0.9784 - loss: 0.0711 - val_accuracy: 0.9854 - val_loss: 0.0510 - learning_rate: 1.2500e-04\n",
      "Epoch 28/50\n",
      "\u001b[1m469/469\u001b[0m \u001b[32m━━━━━━━━━━━━━━━━━━━━\u001b[0m\u001b[37m\u001b[0m \u001b[1m17s\u001b[0m 37ms/step - accuracy: 0.9792 - loss: 0.0688 - val_accuracy: 0.9855 - val_loss: 0.0497 - learning_rate: 6.2500e-05\n",
      "Epoch 29/50\n",
      "\u001b[1m468/469\u001b[0m \u001b[32m━━━━━━━━━━━━━━━━━━━\u001b[0m\u001b[37m━\u001b[0m \u001b[1m0s\u001b[0m 40ms/step - accuracy: 0.9791 - loss: 0.0675"
     ]
    },
    {
     "name": "stderr",
     "output_type": "stream",
     "text": [
      "WARNING:absl:You are saving your model as an HDF5 file via `model.save()` or `keras.saving.save_model(model)`. This file format is considered legacy. We recommend using instead the native Keras format, e.g. `model.save('my_model.keras')` or `keras.saving.save_model(model, 'my_model.keras')`. \n"
     ]
    },
    {
     "name": "stdout",
     "output_type": "stream",
     "text": [
      "\u001b[1m469/469\u001b[0m \u001b[32m━━━━━━━━━━━━━━━━━━━━\u001b[0m\u001b[37m\u001b[0m \u001b[1m21s\u001b[0m 44ms/step - accuracy: 0.9794 - loss: 0.0671 - val_accuracy: 0.9861 - val_loss: 0.0486 - learning_rate: 6.2500e-05\n",
      "Epoch 30/50\n",
      "\u001b[1m469/469\u001b[0m \u001b[32m━━━━━━━━━━━━━━━━━━━━\u001b[0m\u001b[37m\u001b[0m \u001b[1m23s\u001b[0m 48ms/step - accuracy: 0.9797 - loss: 0.0666 - val_accuracy: 0.9853 - val_loss: 0.0490 - learning_rate: 6.2500e-05\n",
      "Epoch 31/50\n",
      "\u001b[1m469/469\u001b[0m \u001b[32m━━━━━━━━━━━━━━━━━━━━\u001b[0m\u001b[37m\u001b[0m \u001b[1m20s\u001b[0m 41ms/step - accuracy: 0.9800 - loss: 0.0669 - val_accuracy: 0.9850 - val_loss: 0.0497 - learning_rate: 6.2500e-05\n",
      "Epoch 32/50\n",
      "\u001b[1m469/469\u001b[0m \u001b[32m━━━━━━━━━━━━━━━━━━━━\u001b[0m\u001b[37m\u001b[0m \u001b[1m19s\u001b[0m 40ms/step - accuracy: 0.9796 - loss: 0.0675 - val_accuracy: 0.9855 - val_loss: 0.0493 - learning_rate: 6.2500e-05\n",
      "Epoch 33/50\n",
      "\u001b[1m469/469\u001b[0m \u001b[32m━━━━━━━━━━━━━━━━━━━━\u001b[0m\u001b[37m\u001b[0m \u001b[1m20s\u001b[0m 42ms/step - accuracy: 0.9809 - loss: 0.0641 - val_accuracy: 0.9855 - val_loss: 0.0493 - learning_rate: 3.1250e-05\n",
      "Epoch 34/50\n",
      "\u001b[1m468/469\u001b[0m \u001b[32m━━━━━━━━━━━━━━━━━━━\u001b[0m\u001b[37m━\u001b[0m \u001b[1m0s\u001b[0m 37ms/step - accuracy: 0.9795 - loss: 0.0682"
     ]
    },
    {
     "name": "stderr",
     "output_type": "stream",
     "text": [
      "WARNING:absl:You are saving your model as an HDF5 file via `model.save()` or `keras.saving.save_model(model)`. This file format is considered legacy. We recommend using instead the native Keras format, e.g. `model.save('my_model.keras')` or `keras.saving.save_model(model, 'my_model.keras')`. \n"
     ]
    },
    {
     "name": "stdout",
     "output_type": "stream",
     "text": [
      "\u001b[1m469/469\u001b[0m \u001b[32m━━━━━━━━━━━━━━━━━━━━\u001b[0m\u001b[37m\u001b[0m \u001b[1m18s\u001b[0m 39ms/step - accuracy: 0.9797 - loss: 0.0662 - val_accuracy: 0.9852 - val_loss: 0.0482 - learning_rate: 3.1250e-05\n",
      "Epoch 35/50\n",
      "\u001b[1m469/469\u001b[0m \u001b[32m━━━━━━━━━━━━━━━━━━━━\u001b[0m\u001b[37m\u001b[0m \u001b[1m19s\u001b[0m 39ms/step - accuracy: 0.9806 - loss: 0.0650 - val_accuracy: 0.9856 - val_loss: 0.0484 - learning_rate: 3.1250e-05\n",
      "Epoch 36/50\n",
      "\u001b[1m469/469\u001b[0m \u001b[32m━━━━━━━━━━━━━━━━━━━━\u001b[0m\u001b[37m\u001b[0m \u001b[1m20s\u001b[0m 42ms/step - accuracy: 0.9798 - loss: 0.0656 - val_accuracy: 0.9857 - val_loss: 0.0482 - learning_rate: 3.1250e-05\n",
      "Epoch 37/50\n",
      "\u001b[1m469/469\u001b[0m \u001b[32m━━━━━━━━━━━━━━━━━━━━\u001b[0m\u001b[37m\u001b[0m \u001b[1m19s\u001b[0m 41ms/step - accuracy: 0.9804 - loss: 0.0645 - val_accuracy: 0.9855 - val_loss: 0.0488 - learning_rate: 3.1250e-05\n",
      "Epoch 38/50\n",
      "\u001b[1m469/469\u001b[0m \u001b[32m━━━━━━━━━━━━━━━━━━━━\u001b[0m\u001b[37m\u001b[0m \u001b[1m18s\u001b[0m 39ms/step - accuracy: 0.9806 - loss: 0.0645 - val_accuracy: 0.9857 - val_loss: 0.0491 - learning_rate: 1.5625e-05\n",
      "Epoch 39/50\n",
      "\u001b[1m469/469\u001b[0m \u001b[32m━━━━━━━━━━━━━━━━━━━━\u001b[0m\u001b[37m\u001b[0m \u001b[1m19s\u001b[0m 40ms/step - accuracy: 0.9797 - loss: 0.0648 - val_accuracy: 0.9858 - val_loss: 0.0484 - learning_rate: 1.5625e-05\n",
      "\u001b[1m79/79\u001b[0m \u001b[32m━━━━━━━━━━━━━━━━━━━━\u001b[0m\u001b[37m\u001b[0m \u001b[1m1s\u001b[0m 12ms/step - accuracy: 0.9852 - loss: 0.0482\n",
      "Test accuracy: 0.9852\n"
     ]
    }
   ],
   "source": [
    "import tensorflow as tf\n",
    "from tensorflow import keras\n",
    "from datetime import datetime\n",
    "\n",
    "# 1. CREATE DATA PIPELINE\n",
    "def create_dataset(x, y, augment=False):\n",
    "    dataset = tf.data.Dataset.from_tensor_slices((x, y))\n",
    "    \n",
    "    if augment:\n",
    "        dataset = dataset.map(augment_image, num_parallel_calls=tf.data.AUTOTUNE)\n",
    "    \n",
    "    dataset = dataset.shuffle(10000)\n",
    "    dataset = dataset.batch(128)\n",
    "    dataset = dataset.prefetch(tf.data.AUTOTUNE)\n",
    "    \n",
    "    return dataset\n",
    "\n",
    "train_ds = create_dataset(x_train, y_train, augment=True)\n",
    "val_ds = create_dataset(x_test, y_test, augment=False)\n",
    "\n",
    "# 2. BUILD MODEL\n",
    "model = keras.Sequential([\n",
    "    keras.layers.Conv2D(32, (3,3), activation='relu', input_shape=(28,28,1)),\n",
    "    keras.layers.MaxPooling2D((2,2)),\n",
    "    keras.layers.Conv2D(64, (3,3), activation='relu'),\n",
    "    keras.layers.MaxPooling2D((2,2)),\n",
    "    keras.layers.Flatten(),\n",
    "    keras.layers.Dense(128, activation='relu'),\n",
    "    keras.layers.Dropout(0.5),  # Regularization\n",
    "    keras.layers.Dense(10, activation='softmax')\n",
    "])\n",
    "\n",
    "model.compile(optimizer='adam', loss='categorical_crossentropy', metrics=['accuracy'])\n",
    "\n",
    "# 3. SETUP CALLBACKS\n",
    "callbacks = [\n",
    "    keras.callbacks.EarlyStopping(monitor='val_loss', patience=5, restore_best_weights=True),\n",
    "    keras.callbacks.ModelCheckpoint('best_model.h5', save_best_only=True),\n",
    "    keras.callbacks.ReduceLROnPlateau(monitor='val_loss', factor=0.5, patience=3),\n",
    "    keras.callbacks.TensorBoard(log_dir=f'logs/{datetime.now().strftime(\"%Y%m%d-%H%M%S\")}')\n",
    "]\n",
    "\n",
    "# 4. TRAIN\n",
    "history = model.fit(\n",
    "    train_ds,\n",
    "    validation_data=val_ds,\n",
    "    epochs=50,\n",
    "    callbacks=callbacks\n",
    ")\n",
    "\n",
    "# 5. EVALUATE\n",
    "test_loss, test_acc = model.evaluate(val_ds)\n",
    "print(f'Test accuracy: {test_acc:.4f}')\n",
    "\n",
    "# 6. VISUALIZE\n",
    "# Launch TensorBoard: tensorboard --logdir=logs"
   ]
  },
  {
   "cell_type": "code",
   "execution_count": 45,
   "id": "9f1a75ce",
   "metadata": {},
   "outputs": [
    {
     "name": "stdout",
     "output_type": "stream",
     "text": [
      "\n",
      "============================================================\n",
      "✨ Congratulations! Phase 0 Foundation is SOLID! ✨\n",
      "============================================================\n"
     ]
    }
   ],
   "source": [
    "print(\"\\n\" + \"=\"*60)\n",
    "print(\"✨ Congratulations! Phase 0 Foundation is SOLID! ✨\")\n",
    "print(\"=\"*60)"
   ]
  }
 ],
 "metadata": {
  "kernelspec": {
   "display_name": "Gen_AI (3.12.10)",
   "language": "python",
   "name": "python3"
  },
  "language_info": {
   "codemirror_mode": {
    "name": "ipython",
    "version": 3
   },
   "file_extension": ".py",
   "mimetype": "text/x-python",
   "name": "python",
   "nbconvert_exporter": "python",
   "pygments_lexer": "ipython3",
   "version": "3.12.10"
  }
 },
 "nbformat": 4,
 "nbformat_minor": 5
}
