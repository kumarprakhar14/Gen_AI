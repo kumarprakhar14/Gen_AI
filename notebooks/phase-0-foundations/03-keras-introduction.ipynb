{
 "cells": [
  {
   "cell_type": "markdown",
   "id": "2f7bd15f",
   "metadata": {},
   "source": [
    "# 📊 Session Breakdown\n",
    "## Part 1: Keras Appreciation (45 min)\n",
    "\"Let's see what we suffered through yesterday!\"\n",
    "\n",
    "1. Rebuild your neural network in Keras (10 lines!)\n",
    "2. Compare:\n",
    "- Your from-scratch: 200+ lines\n",
    "- Keras version: 10 lines\n",
    "- Same accuracy, 95%+ on MNIST\n",
    "3.Explore Keras features:\n",
    "- Different optimizers (Adam vs SGD)\n",
    "- Callbacks (EarlyStopping, ModelCheckpoint)\n",
    "- TensorBoard visualization\n",
    "\n",
    "\n",
    "\n",
    "**Deliverable:** Working Keras model, TensorBoard running\n",
    "\n",
    "## Part 2: Why CNNs for Images? (30 min)\n",
    "\"Your dense network works, but it's wasteful...\"\n",
    "\n",
    "\n",
    "### The Problem with Dense Networks\n",
    "```bash\n",
    "Your network: 784 → 128 → 10\n",
    "First layer alone: 784 × 128 = 100,352 parameters! 😱\n",
    "\n",
    "Problems:\n",
    "1. Ignores spatial structure (pixel at (10,10) related to (10,11))\n",
    "2. Not translation invariant (cat in corner vs center = different)\n",
    "3. Too many parameters = overfitting risk\n",
    "```\n",
    "\n",
    "### CNN Solution:\n",
    "```bash\n",
    "CNN: Conv → Pool → Conv → Pool → Dense → Output\n",
    "Total parameters: ~50,000 (half of dense!)\n",
    "Accuracy: 99%+ (better with fewer parameters!)\n",
    "\n",
    "Benefits:\n",
    "1. Learns local patterns (edges, textures)\n",
    "2. Translation invariant (cat anywhere = same filters)\n",
    "3. Parameter sharing (same filter across image)\n",
    "```"
   ]
  },
  {
   "cell_type": "code",
   "execution_count": 61,
   "id": "76fda876",
   "metadata": {},
   "outputs": [
    {
     "data": {
      "text/plain": [
       "\"\\nKeras Introduction: Rebuild Yesterday's Network in 10 Lines!\\n\\nYesterday: 200+ lines (forward pass, backprop, training loop, etc.)\\nToday: 10 lines (Keras does the heavy lifting)\\n\\nLet's see what we suffered for!\\n\""
      ]
     },
     "execution_count": 61,
     "metadata": {},
     "output_type": "execute_result"
    }
   ],
   "source": [
    "\"\"\"\n",
    "Keras Introduction: Rebuild Yesterday's Network in 10 Lines!\n",
    "\n",
    "Yesterday: 200+ lines (forward pass, backprop, training loop, etc.)\n",
    "Today: 10 lines (Keras does the heavy lifting)\n",
    "\n",
    "Let's see what we suffered for!\n",
    "\"\"\""
   ]
  },
  {
   "cell_type": "code",
   "execution_count": 62,
   "id": "857dd1ad",
   "metadata": {},
   "outputs": [],
   "source": [
    "import tensorflow as tf\n",
    "from tensorflow import keras\n",
    "import numpy as np\n",
    "import matplotlib.pyplot as plt\n",
    "from datetime import datetime"
   ]
  },
  {
   "cell_type": "code",
   "execution_count": 63,
   "id": "9cbf4902",
   "metadata": {},
   "outputs": [
    {
     "name": "stdout",
     "output_type": "stream",
     "text": [
      "TensorFlow version: 2.20.0\n",
      "Keras version: 3.11.3\n"
     ]
    }
   ],
   "source": [
    "print(f\"TensorFlow version: {tf.__version__}\")\n",
    "print(f\"Keras version: {keras.__version__}\")"
   ]
  },
  {
   "cell_type": "markdown",
   "id": "babb949b",
   "metadata": {},
   "source": [
    "### Part 1: Keras Appreciation (45 min)"
   ]
  },
  {
   "cell_type": "code",
   "execution_count": 64,
   "id": "b503130c",
   "metadata": {},
   "outputs": [],
   "source": [
    "# ============================================\n",
    "# PART 1.1: LOAD DATA (Same as Yesterday)\n",
    "# ============================================"
   ]
  },
  {
   "cell_type": "code",
   "execution_count": 65,
   "id": "59513312",
   "metadata": {},
   "outputs": [
    {
     "name": "stdout",
     "output_type": "stream",
     "text": [
      "\n",
      "============================================================\n",
      "Loading MNIST Dataset\n",
      "============================================================\n"
     ]
    }
   ],
   "source": [
    "print(\"\\n\" + \"=\"*60)\n",
    "print(\"Loading MNIST Dataset\")\n",
    "print(\"=\"*60)"
   ]
  },
  {
   "cell_type": "code",
   "execution_count": 66,
   "id": "b54ba81b",
   "metadata": {},
   "outputs": [
    {
     "name": "stdout",
     "output_type": "stream",
     "text": [
      "Training samples: 60000\n",
      "Test samples: 10000\n",
      "Image shape: (28, 28)\n"
     ]
    }
   ],
   "source": [
    "# Keras makes this even easier!\n",
    "(x_train, y_train), (x_test, y_test) = keras.datasets.mnist.load_data()\n",
    "\n",
    "print(f\"Training samples: {len(x_train)}\")\n",
    "print(f\"Test samples: {len(x_test)}\")\n",
    "print(f\"Image shape: {x_train[0].shape}\")"
   ]
  },
  {
   "cell_type": "code",
   "execution_count": 67,
   "id": "c6dc1557",
   "metadata": {},
   "outputs": [],
   "source": [
    "# ============================================\n",
    "# PART 1.2: PREPROCESSING (Still Manual for Now)\n",
    "# ============================================"
   ]
  },
  {
   "cell_type": "code",
   "execution_count": 68,
   "id": "3c984f77",
   "metadata": {},
   "outputs": [
    {
     "name": "stdout",
     "output_type": "stream",
     "text": [
      "\n",
      "============================================================\n",
      "Preprocessing Data\n",
      "============================================================\n"
     ]
    }
   ],
   "source": [
    "print(\"\\n\" + \"=\"*60)\n",
    "print(\"Preprocessing Data\")\n",
    "print(\"=\"*60)"
   ]
  },
  {
   "cell_type": "code",
   "execution_count": 69,
   "id": "9a96ddc3",
   "metadata": {},
   "outputs": [],
   "source": [
    "# Normalize to [0, 1]\n",
    "x_train = x_train.astype('float32') / 255.0\n",
    "x_test = x_test.astype('float32') / 255.0"
   ]
  },
  {
   "cell_type": "code",
   "execution_count": 70,
   "id": "776eee22",
   "metadata": {},
   "outputs": [
    {
     "data": {
      "text/plain": [
       "(60000, 28, 28)"
      ]
     },
     "execution_count": 70,
     "metadata": {},
     "output_type": "execute_result"
    }
   ],
   "source": [
    "x_train.shape"
   ]
  },
  {
   "cell_type": "code",
   "execution_count": 71,
   "id": "eab0c3a0",
   "metadata": {},
   "outputs": [],
   "source": [
    "# Flatten images (28x28 -> 784)\n",
    "x_train_flat = x_train.reshape(-1, 784)\n",
    "x_test_flat = x_test.reshape(-1, 784)"
   ]
  },
  {
   "cell_type": "code",
   "execution_count": 72,
   "id": "9f4987cf",
   "metadata": {},
   "outputs": [],
   "source": [
    "# One-hot encode labels\n",
    "y_train_onehot = keras.utils.to_categorical(y_train, 10)\n",
    "y_test_onehot = keras.utils.to_categorical(y_test, 10)"
   ]
  },
  {
   "cell_type": "code",
   "execution_count": 73,
   "id": "4b246873",
   "metadata": {},
   "outputs": [
    {
     "name": "stdout",
     "output_type": "stream",
     "text": [
      "✓ Preprocessed train shape: (60000, 784)\n",
      "✓ Preprocessed test shape: (10000, 784)\n",
      "✓ Labels shape: (60000, 10)\n"
     ]
    }
   ],
   "source": [
    "print(f\"✓ Preprocessed train shape: {x_train_flat.shape}\")\n",
    "print(f\"✓ Preprocessed test shape: {x_test_flat.shape}\")\n",
    "print(f\"✓ Labels shape: {y_train_onehot.shape}\")"
   ]
  },
  {
   "cell_type": "code",
   "execution_count": 74,
   "id": "8a89f816",
   "metadata": {},
   "outputs": [],
   "source": [
    "# ============================================\n",
    "# PART 1.3: BUILD MODEL - THE MAGIC! ✨\n",
    "# ============================================"
   ]
  },
  {
   "cell_type": "code",
   "execution_count": 75,
   "id": "9a0b8d8a",
   "metadata": {},
   "outputs": [
    {
     "name": "stdout",
     "output_type": "stream",
     "text": [
      "\n",
      "============================================================\n",
      "🎉 Building Model with Keras (Watch This!)\n",
      "============================================================\n"
     ]
    }
   ],
   "source": [
    "print(\"\\n\" + \"=\"*60)\n",
    "print(\"🎉 Building Model with Keras (Watch This!)\")\n",
    "print(\"=\"*60)"
   ]
  },
  {
   "cell_type": "code",
   "execution_count": 76,
   "id": "e5b69331",
   "metadata": {},
   "outputs": [
    {
     "name": "stderr",
     "output_type": "stream",
     "text": [
      "c:\\Users\\kumar\\Desktop\\KP Programming\\AI\\Gen_AI\\.venv\\Lib\\site-packages\\keras\\src\\layers\\core\\dense.py:92: UserWarning: Do not pass an `input_shape`/`input_dim` argument to a layer. When using Sequential models, prefer using an `Input(shape)` object as the first layer in the model instead.\n",
      "  super().__init__(activity_regularizer=activity_regularizer, **kwargs)\n"
     ]
    }
   ],
   "source": [
    "# Yesterday's 200 lines → Today's 10 lines!\n",
    "model =keras.Sequential([\n",
    "    keras.layers.Dense(128, activation='relu', input_shape=(784,)), \n",
    "    keras.layers.Dense(10, activation='softmax')\n",
    "    ])"
   ]
  },
  {
   "cell_type": "code",
   "execution_count": 77,
   "id": "804acc48",
   "metadata": {},
   "outputs": [
    {
     "name": "stdout",
     "output_type": "stream",
     "text": [
      "\n",
      "✨ Model built in 3 lines!\n",
      "\n",
      "Model Architecture:\n"
     ]
    },
    {
     "data": {
      "text/html": [
       "<pre style=\"white-space:pre;overflow-x:auto;line-height:normal;font-family:Menlo,'DejaVu Sans Mono',consolas,'Courier New',monospace\"><span style=\"font-weight: bold\">Model: \"sequential_2\"</span>\n",
       "</pre>\n"
      ],
      "text/plain": [
       "\u001b[1mModel: \"sequential_2\"\u001b[0m\n"
      ]
     },
     "metadata": {},
     "output_type": "display_data"
    },
    {
     "data": {
      "text/html": [
       "<pre style=\"white-space:pre;overflow-x:auto;line-height:normal;font-family:Menlo,'DejaVu Sans Mono',consolas,'Courier New',monospace\">┏━━━━━━━━━━━━━━━━━━━━━━━━━━━━━━━━━┳━━━━━━━━━━━━━━━━━━━━━━━━┳━━━━━━━━━━━━━━━┓\n",
       "┃<span style=\"font-weight: bold\"> Layer (type)                    </span>┃<span style=\"font-weight: bold\"> Output Shape           </span>┃<span style=\"font-weight: bold\">       Param # </span>┃\n",
       "┡━━━━━━━━━━━━━━━━━━━━━━━━━━━━━━━━━╇━━━━━━━━━━━━━━━━━━━━━━━━╇━━━━━━━━━━━━━━━┩\n",
       "│ dense_5 (<span style=\"color: #0087ff; text-decoration-color: #0087ff\">Dense</span>)                 │ (<span style=\"color: #00d7ff; text-decoration-color: #00d7ff\">None</span>, <span style=\"color: #00af00; text-decoration-color: #00af00\">128</span>)            │       <span style=\"color: #00af00; text-decoration-color: #00af00\">100,480</span> │\n",
       "├─────────────────────────────────┼────────────────────────┼───────────────┤\n",
       "│ dense_6 (<span style=\"color: #0087ff; text-decoration-color: #0087ff\">Dense</span>)                 │ (<span style=\"color: #00d7ff; text-decoration-color: #00d7ff\">None</span>, <span style=\"color: #00af00; text-decoration-color: #00af00\">10</span>)             │         <span style=\"color: #00af00; text-decoration-color: #00af00\">1,290</span> │\n",
       "└─────────────────────────────────┴────────────────────────┴───────────────┘\n",
       "</pre>\n"
      ],
      "text/plain": [
       "┏━━━━━━━━━━━━━━━━━━━━━━━━━━━━━━━━━┳━━━━━━━━━━━━━━━━━━━━━━━━┳━━━━━━━━━━━━━━━┓\n",
       "┃\u001b[1m \u001b[0m\u001b[1mLayer (type)                   \u001b[0m\u001b[1m \u001b[0m┃\u001b[1m \u001b[0m\u001b[1mOutput Shape          \u001b[0m\u001b[1m \u001b[0m┃\u001b[1m \u001b[0m\u001b[1m      Param #\u001b[0m\u001b[1m \u001b[0m┃\n",
       "┡━━━━━━━━━━━━━━━━━━━━━━━━━━━━━━━━━╇━━━━━━━━━━━━━━━━━━━━━━━━╇━━━━━━━━━━━━━━━┩\n",
       "│ dense_5 (\u001b[38;5;33mDense\u001b[0m)                 │ (\u001b[38;5;45mNone\u001b[0m, \u001b[38;5;34m128\u001b[0m)            │       \u001b[38;5;34m100,480\u001b[0m │\n",
       "├─────────────────────────────────┼────────────────────────┼───────────────┤\n",
       "│ dense_6 (\u001b[38;5;33mDense\u001b[0m)                 │ (\u001b[38;5;45mNone\u001b[0m, \u001b[38;5;34m10\u001b[0m)             │         \u001b[38;5;34m1,290\u001b[0m │\n",
       "└─────────────────────────────────┴────────────────────────┴───────────────┘\n"
      ]
     },
     "metadata": {},
     "output_type": "display_data"
    },
    {
     "data": {
      "text/html": [
       "<pre style=\"white-space:pre;overflow-x:auto;line-height:normal;font-family:Menlo,'DejaVu Sans Mono',consolas,'Courier New',monospace\"><span style=\"font-weight: bold\"> Total params: </span><span style=\"color: #00af00; text-decoration-color: #00af00\">101,770</span> (397.54 KB)\n",
       "</pre>\n"
      ],
      "text/plain": [
       "\u001b[1m Total params: \u001b[0m\u001b[38;5;34m101,770\u001b[0m (397.54 KB)\n"
      ]
     },
     "metadata": {},
     "output_type": "display_data"
    },
    {
     "data": {
      "text/html": [
       "<pre style=\"white-space:pre;overflow-x:auto;line-height:normal;font-family:Menlo,'DejaVu Sans Mono',consolas,'Courier New',monospace\"><span style=\"font-weight: bold\"> Trainable params: </span><span style=\"color: #00af00; text-decoration-color: #00af00\">101,770</span> (397.54 KB)\n",
       "</pre>\n"
      ],
      "text/plain": [
       "\u001b[1m Trainable params: \u001b[0m\u001b[38;5;34m101,770\u001b[0m (397.54 KB)\n"
      ]
     },
     "metadata": {},
     "output_type": "display_data"
    },
    {
     "data": {
      "text/html": [
       "<pre style=\"white-space:pre;overflow-x:auto;line-height:normal;font-family:Menlo,'DejaVu Sans Mono',consolas,'Courier New',monospace\"><span style=\"font-weight: bold\"> Non-trainable params: </span><span style=\"color: #00af00; text-decoration-color: #00af00\">0</span> (0.00 B)\n",
       "</pre>\n"
      ],
      "text/plain": [
       "\u001b[1m Non-trainable params: \u001b[0m\u001b[38;5;34m0\u001b[0m (0.00 B)\n"
      ]
     },
     "metadata": {},
     "output_type": "display_data"
    }
   ],
   "source": [
    "print(\"\\n✨ Model built in 3 lines!\")\n",
    "print(\"\\nModel Architecture:\")\n",
    "model.summary()"
   ]
  },
  {
   "cell_type": "code",
   "execution_count": 78,
   "id": "0be7ff02",
   "metadata": {},
   "outputs": [
    {
     "name": "stdout",
     "output_type": "stream",
     "text": [
      "\n",
      "🤯 Compare:\n",
      "Yesterday: Manually coded forward pass, loss, backprop, updates\n",
      "Today: Keras handles ALL of that internally!\n"
     ]
    }
   ],
   "source": [
    "print(\"\\n🤯 Compare:\")\n",
    "print(\"Yesterday: Manually coded forward pass, loss, backprop, updates\")\n",
    "print(\"Today: Keras handles ALL of that internally!\")"
   ]
  },
  {
   "cell_type": "code",
   "execution_count": 79,
   "id": "b575fd88",
   "metadata": {},
   "outputs": [],
   "source": [
    "# ============================================\n",
    "# PART 1.4: COMPILE MODEL - CONFIGURE TRAINING\n",
    "# ============================================"
   ]
  },
  {
   "cell_type": "code",
   "execution_count": 80,
   "id": "81265574",
   "metadata": {},
   "outputs": [
    {
     "name": "stdout",
     "output_type": "stream",
     "text": [
      "\n",
      "============================================================\n",
      "Compiling Model\n",
      "============================================================\n"
     ]
    }
   ],
   "source": [
    "print(\"\\n\" + \"=\"*60)\n",
    "print(\"Compiling Model\")\n",
    "print(\"=\"*60)"
   ]
  },
  {
   "cell_type": "code",
   "execution_count": 81,
   "id": "66b3ff85",
   "metadata": {},
   "outputs": [],
   "source": [
    "# This is where we tell Keras:\n",
    "# - What optimizer to use (Adam is better than vanilla SGD!)\n",
    "# - What loss function\n",
    "# - What metrics to track"
   ]
  },
  {
   "cell_type": "code",
   "execution_count": 82,
   "id": "636714de",
   "metadata": {},
   "outputs": [],
   "source": [
    "model.compile(\n",
    "    optimizer='adam',  # Adam > SGD (adaptive learning rates!)\n",
    "    loss='categorical_crossentropy',  # Same loss as yesterday\n",
    "    metrics=['accuracy']\n",
    ")"
   ]
  },
  {
   "cell_type": "code",
   "execution_count": 83,
   "id": "06174b5b",
   "metadata": {},
   "outputs": [
    {
     "name": "stdout",
     "output_type": "stream",
     "text": [
      "✓ Optimizer: Adam (smarter than our manual SGD!)\n",
      "✓ Loss: Categorical Cross-Entropy\n",
      "✓ Metrics: Accuracy\n",
      "\n",
      "💡 What Keras is doing behind the scenes:\n",
      "  1. Forward pass (our manual matrix multiplications)\n",
      "  2. Loss computation (our cross-entropy function)\n",
      "  3. Backpropagation (our gradient computations)\n",
      "  4. Weight updates (our gradient descent)\n",
      "  5. Batch handling (our mini-batch loop)\n",
      "  6. Metrics tracking (our accuracy calculation)\n",
      "All in ONE method call! 🎉\n"
     ]
    }
   ],
   "source": [
    "print(\"✓ Optimizer: Adam (smarter than our manual SGD!)\")\n",
    "print(\"✓ Loss: Categorical Cross-Entropy\")\n",
    "print(\"✓ Metrics: Accuracy\")\n",
    "\n",
    "print(\"\\n💡 What Keras is doing behind the scenes:\")\n",
    "print(\"  1. Forward pass (our manual matrix multiplications)\")\n",
    "print(\"  2. Loss computation (our cross-entropy function)\")\n",
    "print(\"  3. Backpropagation (our gradient computations)\")\n",
    "print(\"  4. Weight updates (our gradient descent)\")\n",
    "print(\"  5. Batch handling (our mini-batch loop)\")\n",
    "print(\"  6. Metrics tracking (our accuracy calculation)\")\n",
    "print(\"All in ONE method call! 🎉\")"
   ]
  },
  {
   "cell_type": "code",
   "execution_count": 84,
   "id": "2f7a9584",
   "metadata": {},
   "outputs": [],
   "source": [
    "# ============================================\n",
    "# PART 1.5: TRAIN MODEL - ONE LINE!\n",
    "# ============================================"
   ]
  },
  {
   "cell_type": "code",
   "execution_count": 85,
   "id": "abe7fd60",
   "metadata": {},
   "outputs": [
    {
     "name": "stdout",
     "output_type": "stream",
     "text": [
      "\n",
      "============================================================\n",
      "🚀 Training Model\n",
      "============================================================\n"
     ]
    }
   ],
   "source": [
    "print(\"\\n\" + \"=\"*60)\n",
    "print(\"🚀 Training Model\")\n",
    "print(\"=\"*60)"
   ]
  },
  {
   "cell_type": "code",
   "execution_count": 86,
   "id": "00e13d45",
   "metadata": {},
   "outputs": [
    {
     "name": "stdout",
     "output_type": "stream",
     "text": [
      "Epoch 1/5\n",
      "\u001b[1m422/422\u001b[0m \u001b[32m━━━━━━━━━━━━━━━━━━━━\u001b[0m\u001b[37m\u001b[0m \u001b[1m6s\u001b[0m 9ms/step - accuracy: 0.8925 - loss: 0.3847 - val_accuracy: 0.9522 - val_loss: 0.1782\n",
      "Epoch 2/5\n",
      "\u001b[1m422/422\u001b[0m \u001b[32m━━━━━━━━━━━━━━━━━━━━\u001b[0m\u001b[37m\u001b[0m \u001b[1m3s\u001b[0m 7ms/step - accuracy: 0.9469 - loss: 0.1857 - val_accuracy: 0.9642 - val_loss: 0.1292\n",
      "Epoch 3/5\n",
      "\u001b[1m422/422\u001b[0m \u001b[32m━━━━━━━━━━━━━━━━━━━━\u001b[0m\u001b[37m\u001b[0m \u001b[1m3s\u001b[0m 7ms/step - accuracy: 0.9615 - loss: 0.1331 - val_accuracy: 0.9683 - val_loss: 0.1080\n",
      "Epoch 4/5\n",
      "\u001b[1m422/422\u001b[0m \u001b[32m━━━━━━━━━━━━━━━━━━━━\u001b[0m\u001b[37m\u001b[0m \u001b[1m3s\u001b[0m 7ms/step - accuracy: 0.9698 - loss: 0.1038 - val_accuracy: 0.9735 - val_loss: 0.0921\n",
      "Epoch 5/5\n",
      "\u001b[1m422/422\u001b[0m \u001b[32m━━━━━━━━━━━━━━━━━━━━\u001b[0m\u001b[37m\u001b[0m \u001b[1m4s\u001b[0m 9ms/step - accuracy: 0.9759 - loss: 0.0828 - val_accuracy: 0.9723 - val_loss: 0.0897\n"
     ]
    }
   ],
   "source": [
    "history = model.fit(\n",
    "    x_train_flat, \n",
    "    y_train_onehot,\n",
    "    batch_size=128,\n",
    "    epochs=5,\n",
    "    validation_split=0.1,  # Use 10% for validation (new!)\n",
    "    verbose=1\n",
    ")"
   ]
  },
  {
   "cell_type": "code",
   "execution_count": 87,
   "id": "e018e6bf",
   "metadata": {},
   "outputs": [
    {
     "name": "stdout",
     "output_type": "stream",
     "text": [
      "\n",
      "🎉 Training complete!\n",
      "Yesterday: Manually coded entire training loop\n",
      "Today: model.fit() does EVERYTHING!\n"
     ]
    }
   ],
   "source": [
    "print(\"\\n🎉 Training complete!\")\n",
    "print(\"Yesterday: Manually coded entire training loop\")\n",
    "print(\"Today: model.fit() does EVERYTHING!\")"
   ]
  },
  {
   "cell_type": "code",
   "execution_count": 88,
   "id": "bab49b67",
   "metadata": {},
   "outputs": [],
   "source": [
    "# ============================================\n",
    "# PART 1.6: EVALUATE\n",
    "# ============================================"
   ]
  },
  {
   "cell_type": "code",
   "execution_count": 89,
   "id": "b3cba4d0",
   "metadata": {},
   "outputs": [
    {
     "name": "stdout",
     "output_type": "stream",
     "text": [
      "\n",
      "============================================================\n",
      "Evaluating Model\n",
      "============================================================\n"
     ]
    }
   ],
   "source": [
    "print(\"\\n\" + \"=\"*60)\n",
    "print(\"Evaluating Model\")\n",
    "print(\"=\"*60)"
   ]
  },
  {
   "cell_type": "code",
   "execution_count": 90,
   "id": "06e7aaea",
   "metadata": {},
   "outputs": [],
   "source": [
    "# Evaluate on test set\n",
    "test_loss, test_accuracy = model.evaluate(\n",
    "    x_test_flat, \n",
    "    y_test_onehot, \n",
    "    verbose=0\n",
    "    )"
   ]
  },
  {
   "cell_type": "code",
   "execution_count": 91,
   "id": "8e5a36a6",
   "metadata": {},
   "outputs": [
    {
     "name": "stdout",
     "output_type": "stream",
     "text": [
      "\n",
      "📊 Results:\n",
      "Test Loss: 0.0986\n",
      "Test Accuracy: 0.9701 (97.01%)\n",
      "\n",
      "🏆 Comparison with Yesterday:\n",
      "Yesterday (from scratch): 95.76%\n",
      "Today (Keras): 97.01%\n",
      "Difference: 1.25%\n"
     ]
    }
   ],
   "source": [
    "print(f\"\\n📊 Results:\")\n",
    "print(f\"Test Loss: {test_loss:.4f}\")\n",
    "print(f\"Test Accuracy: {test_accuracy:.4f} ({test_accuracy*100:.2f}%)\")\n",
    "\n",
    "print(\"\\n🏆 Comparison with Yesterday:\")\n",
    "print(f\"Yesterday (from scratch): 95.76%\")\n",
    "print(f\"Today (Keras): {test_accuracy*100:.2f}%\")\n",
    "print(f\"Difference: {(test_accuracy*100 - 95.76):.2f}%\")"
   ]
  },
  {
   "cell_type": "code",
   "execution_count": 92,
   "id": "c27cf1c2",
   "metadata": {},
   "outputs": [],
   "source": [
    "# ============================================\n",
    "# PART 1.7: VISUALIZE TRAINING HISTORY\n",
    "# ============================================"
   ]
  },
  {
   "cell_type": "code",
   "execution_count": 93,
   "id": "56808529",
   "metadata": {},
   "outputs": [
    {
     "name": "stdout",
     "output_type": "stream",
     "text": [
      "\n",
      "============================================================\n",
      "Visualizing Training\n",
      "============================================================\n"
     ]
    }
   ],
   "source": [
    "print(\"\\n\" + \"=\"*60)\n",
    "print(\"Visualizing Training\")\n",
    "print(\"=\"*60)"
   ]
  },
  {
   "cell_type": "code",
   "execution_count": 110,
   "id": "566bdc56",
   "metadata": {},
   "outputs": [
    {
     "name": "stdout",
     "output_type": "stream",
     "text": [
      "✓ Saved training history to 'keras_training_history.png'\n"
     ]
    },
    {
     "data": {
      "image/png": "[encoded data removed]",
      "text/plain": [
       "<Figure size 1400x800 with 2 Axes>"
      ]
     },
     "metadata": {},
     "output_type": "display_data"
    }
   ],
   "source": [
    "fig, axes = plt.subplots(1, 2, figsize=(14, 8))\n",
    "\n",
    "# Plot loss\n",
    "axes[0].plot(history.history['loss'], label='Training Loss', linewidth=2)\n",
    "axes[0].plot(history.history['val_loss'], label='Validation Loss', linewidth=2)\n",
    "axes[0].set_xlabel('Epoch', fontsize=12)\n",
    "axes[0].set_ylabel('Loss', fontsize=12)\n",
    "axes[0].set_title('Model Loss Over Time', fontsize=14, fontweight='bold')\n",
    "axes[0].legend()\n",
    "axes[0].grid(True, alpha=0.3)\n",
    "\n",
    "# Plot accuracy\n",
    "axes[1].plot(history.history['accuracy'], label='Training Accuracy', linewidth=2)\n",
    "axes[1].plot(history.history['val_accuracy'], label='Validation Accuracy', linewidth=2)\n",
    "axes[1].set_xlabel('Epoch', fontsize=12)\n",
    "axes[1].set_ylabel('Accuracy', fontsize=12)\n",
    "axes[1].set_title('Model Accuracy Over Time', fontsize=14, fontweight='bold')\n",
    "axes[1].legend()\n",
    "axes[1].grid(True, alpha=0.3)\n",
    "\n",
    "plt.tight_layout()\n",
    "plt.savefig('keras_training_history.png', dpi=150, bbox_inches='tight')\n",
    "print(\"✓ Saved training history to 'keras_training_history.png'\")\n",
    "plt.show()\n",
    "plt.close()"
   ]
  },
  {
   "cell_type": "code",
   "execution_count": 95,
   "id": "e73c0bf5",
   "metadata": {},
   "outputs": [],
   "source": [
    "# ============================================\n",
    "# PART 1.8: MAKE PREDICTIONS\n",
    "# ============================================"
   ]
  },
  {
   "cell_type": "code",
   "execution_count": 96,
   "id": "701f8e96",
   "metadata": {},
   "outputs": [
    {
     "name": "stdout",
     "output_type": "stream",
     "text": [
      "\n",
      "============================================================\n",
      "Making Predictions\n",
      "============================================================\n"
     ]
    }
   ],
   "source": [
    "print(\"\\n\" + \"=\"*60)\n",
    "print(\"Making Predictions\")\n",
    "print(\"=\"*60)"
   ]
  },
  {
   "cell_type": "code",
   "execution_count": 97,
   "id": "95597b55",
   "metadata": {},
   "outputs": [],
   "source": [
    "# Predict on first 10 test images\n",
    "predictions = model.predict(x_test_flat[:10], verbose=0)\n",
    "predicted_classes = np.argmax(predictions, axis=1)\n",
    "true_classes = y_test[:10]"
   ]
  },
  {
   "cell_type": "code",
   "execution_count": 98,
   "id": "cd2dc634",
   "metadata": {},
   "outputs": [
    {
     "name": "stdout",
     "output_type": "stream",
     "text": [
      "✓ Saved predictions to 'keras_predictions.png'\n",
      "\n",
      "✓ Correct predictions:  9 /10\n"
     ]
    }
   ],
   "source": [
    "# Visualize predictions\n",
    "fig, axes = plt.subplots(2, 5, figsize=(15, 6))\n",
    "axes = axes.ravel()\n",
    "\n",
    "for i in range(10):\n",
    "    axes[i].imshow(x_test[i], cmap='gray')\n",
    "    axes[i].set_title(f'True: {true_classes[i]} | Pred: {predicted_classes[i]}', \n",
    "                      color='green' if true_classes[i] == predicted_classes[i] else 'red', \n",
    "                      fontweight='bold')\n",
    "    axes[i].axis('off')\n",
    "\n",
    "plt.tight_layout()\n",
    "plt.savefig('keras_predictions.png', dpi=150, bbox_inches='tight')\n",
    "print(\"✓ Saved predictions to 'keras_predictions.png'\")\n",
    "plt.close()\n",
    "\n",
    "print(\"\\n✓ Correct predictions: \", sum(predicted_classes == true_classes), \"/10\")"
   ]
  },
  {
   "cell_type": "code",
   "execution_count": 99,
   "id": "fa7db243",
   "metadata": {},
   "outputs": [],
   "source": [
    "# ============================================\n",
    "# PART 1.9: SAVE MODEL\n",
    "# ============================================"
   ]
  },
  {
   "cell_type": "code",
   "execution_count": 100,
   "id": "957ca346",
   "metadata": {},
   "outputs": [
    {
     "name": "stdout",
     "output_type": "stream",
     "text": [
      "\n",
      "============================================================\n",
      "Saving Model\n",
      "============================================================\n"
     ]
    }
   ],
   "source": [
    "print(\"\\n\" + \"=\"*60)\n",
    "print(\"Saving Model\")\n",
    "print(\"=\"*60)"
   ]
  },
  {
   "cell_type": "code",
   "execution_count": 101,
   "id": "ba762809",
   "metadata": {},
   "outputs": [
    {
     "name": "stderr",
     "output_type": "stream",
     "text": [
      "WARNING:absl:You are saving your model as an HDF5 file via `model.save()` or `keras.saving.save_model(model)`. This file format is considered legacy. We recommend using instead the native Keras format, e.g. `model.save('my_model.keras')` or `keras.saving.save_model(model, 'my_model.keras')`. \n"
     ]
    },
    {
     "name": "stdout",
     "output_type": "stream",
     "text": [
      "✓ Saved model to 'mnist_keras_model.h5'\n",
      "\n",
      "💡 You can now load this model anytime:\n",
      "   loaded_model = keras.models.load_model('mnist_keras_model.h5')\n",
      "   predictions = loaded_model.predict(new_data)\n"
     ]
    }
   ],
   "source": [
    "# Save the entire model\n",
    "model.save('mnist_keras_model.h5')\n",
    "print(\"✓ Saved model to 'mnist_keras_model.h5'\")\n",
    "\n",
    "print(\"\\n💡 You can now load this model anytime:\")\n",
    "print(\"   loaded_model = keras.models.load_model('mnist_keras_model.h5')\")\n",
    "print(\"   predictions = loaded_model.predict(new_data)\")"
   ]
  },
  {
   "cell_type": "code",
   "execution_count": 102,
   "id": "e09bcc05",
   "metadata": {},
   "outputs": [],
   "source": [
    "# ============================================\n",
    "# PART 1.10: EXPERIMENT TIME!\n",
    "# ============================================"
   ]
  },
  {
   "cell_type": "code",
   "execution_count": 103,
   "id": "4a7eb127",
   "metadata": {},
   "outputs": [
    {
     "name": "stdout",
     "output_type": "stream",
     "text": [
      "\n",
      "============================================================\n",
      "🔬 EXPERIMENT: Try Different Optimizers\n",
      "============================================================\n",
      "\n",
      "Let's compare Adam vs SGD:\n"
     ]
    }
   ],
   "source": [
    "print(\"\\n\" + \"=\"*60)\n",
    "print(\"🔬 EXPERIMENT: Try Different Optimizers\")\n",
    "print(\"=\"*60)\n",
    "\n",
    "print(\"\\nLet's compare Adam vs SGD:\")"
   ]
  },
  {
   "cell_type": "code",
   "execution_count": 104,
   "id": "19eebad4",
   "metadata": {},
   "outputs": [],
   "source": [
    "# Model with SGD\n",
    "model_sgd = keras.Sequential([\n",
    "    keras.layers.Dense(128, activation='relu', input_shape=(784,)),\n",
    "    keras.layers.Dense(10, activation='softmax')\n",
    "])\n",
    "model_sgd.compile(optimizer='sgd', loss='categorical_crossentropy', metrics=['accuracy'])"
   ]
  },
  {
   "cell_type": "code",
   "execution_count": 105,
   "id": "95bc60b2",
   "metadata": {},
   "outputs": [
    {
     "name": "stdout",
     "output_type": "stream",
     "text": [
      "\n",
      "🏃 Training with SGD (vanilla gradient descent)...\n"
     ]
    }
   ],
   "source": [
    "print(\"\\n🏃 Training with SGD (vanilla gradient descent)...\")\n",
    "history_sgd = model_sgd.fit(\n",
    "    x_train_flat, \n",
    "    y_train_onehot,\n",
    "    batch_size=128, \n",
    "    epochs=5,\n",
    "    validation_split=0.1, \n",
    "    verbose=0\n",
    ")"
   ]
  },
  {
   "cell_type": "code",
   "execution_count": 106,
   "id": "f0ff928b",
   "metadata": {},
   "outputs": [],
   "source": [
    "sgd_accuracy = model_sgd.evaluate(x_test_flat, y_test_onehot, verbose=0)[1]"
   ]
  },
  {
   "cell_type": "code",
   "execution_count": 107,
   "id": "caac9b2e",
   "metadata": {},
   "outputs": [
    {
     "name": "stdout",
     "output_type": "stream",
     "text": [
      "\n",
      "📊 Results Comparison:\n",
      "Adam Optimizer: 97.01%\n",
      "SGD Optimizer:  90.83%\n",
      "Difference:     6.18%\n",
      "\n",
      "💡 Adam adapts learning rates per parameter → usually faster & better!\n"
     ]
    }
   ],
   "source": [
    "print(\"\\n📊 Results Comparison:\")\n",
    "print(f\"Adam Optimizer: {test_accuracy*100:.2f}%\")\n",
    "print(f\"SGD Optimizer:  {sgd_accuracy*100:.2f}%\")\n",
    "print(f\"Difference:     {(test_accuracy - sgd_accuracy)*100:.2f}%\")\n",
    "print(\"\\n💡 Adam adapts learning rates per parameter → usually faster & better!\")"
   ]
  },
  {
   "cell_type": "code",
   "execution_count": 108,
   "id": "4a12a45c",
   "metadata": {},
   "outputs": [],
   "source": [
    "# ============================================\n",
    "# PART 11: THE REVEAL - WHAT KERAS DID\n",
    "# ============================================"
   ]
  },
  {
   "cell_type": "markdown",
   "id": "5efe8aa2",
   "metadata": {},
   "source": [
    "### 🎓 WHAT KERAS DID FOR US"
   ]
  },
  {
   "cell_type": "markdown",
   "id": "fdc0638c",
   "metadata": {},
   "source": [
    "#### Yesterday's Manual Implementation vs Today's Keras:\n",
    "```py\n",
    "┌─────────────────────────────┬──────────────┬──────────────┐\n",
    "│ Task                        │ Yesterday    │ Today (Keras)│\n",
    "├─────────────────────────────┼──────────────┼──────────────┤\n",
    "│ Weight Initialization       │ ~10 lines    │ Automatic    │\n",
    "│ Forward Pass                │ ~20 lines    │ Automatic    │\n",
    "│ Loss Computation            │ ~10 lines    │ 1 parameter  │\n",
    "│ Backpropagation             │ ~40 lines    │ Automatic    │\n",
    "│ Weight Updates              │ ~10 lines    │ Automatic    │\n",
    "│ Mini-batch Loop             │ ~20 lines    │ Automatic    │\n",
    "│ Metrics Tracking            │ ~15 lines    │ Automatic    │\n",
    "│ Data Shuffling              │ ~5 lines     │ Automatic    │\n",
    "│ Validation Split            │ Manual       │ 1 parameter  │\n",
    "│ Model Saving                │ Manual       │ 1 line       │\n",
    "├─────────────────────────────┼──────────────┼──────────────┤\n",
    "│ TOTAL                       │ ~200+ lines  │ ~10 lines    │\n",
    "└─────────────────────────────┴──────────────┴──────────────┘\n",
    "```"
   ]
  },
  {
   "cell_type": "markdown",
   "id": "291e508c",
   "metadata": {},
   "source": [
    "✨ CONGRATULATIONS! ✨"
   ]
  },
  {
   "cell_type": "markdown",
   "id": "e5abbea6",
   "metadata": {},
   "source": [
    "You've completed the Keras introduction!\n",
    "\n",
    "Key Takeaways:\n",
    "1. Keras is a high-level API (built on TensorFlow)\n",
    "2. It automates 95% of the boilerplate code\n",
    "3. You still understand what's happening underneath!\n",
    "4. Adam optimizer > vanilla SGD (adaptive learning rates)\n",
    "5. Validation split helps detect overfitting\n",
    "\n",
    "Next Up: CNNs - Let's push accuracy to 99%+! 🚀"
   ]
  }
 ],
 "metadata": {
  "kernelspec": {
   "display_name": "Gen_AI (3.12.10)",
   "language": "python",
   "name": "python3"
  },
  "language_info": {
   "codemirror_mode": {
    "name": "ipython",
    "version": 3
   },
   "file_extension": ".py",
   "mimetype": "text/x-python",
   "name": "python",
   "nbconvert_exporter": "python",
   "pygments_lexer": "ipython3",
   "version": "3.12.10"
  }
 },
 "nbformat": 4,
 "nbformat_minor": 5
}
