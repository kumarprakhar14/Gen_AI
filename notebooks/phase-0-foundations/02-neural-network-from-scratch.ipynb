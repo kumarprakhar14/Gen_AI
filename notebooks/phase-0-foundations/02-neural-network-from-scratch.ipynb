{
 "cells": [
  {
   "cell_type": "markdown",
   "id": "b7aa6c58",
   "metadata": {},
   "source": [
    "# Today's Roadmap (2.5 hours)"
   ]
  },
  {
   "cell_type": "markdown",
   "id": "d21ea669",
   "metadata": {},
   "source": [
    "```bash\n",
    "Part 1: Build Neural Network from Scratch (90 min)\n",
    "├─ Forward pass (predictions)\n",
    "├─ Loss calculation  \n",
    "├─ Backward pass (gradients) ← The \"magic\"\n",
    "└─ Training loop\n",
    "\n",
    "Part 2: Rebuild with Keras (30 min)\n",
    "└─ See what all that code simplifies to\n",
    "\n",
    "Part 3: Train on MNIST (30 min)\n",
    "└─ Complete pipeline + results\n",
    "```"
   ]
  },
  {
   "cell_type": "markdown",
   "id": "f365236e",
   "metadata": {},
   "source": [
    "## 🎓 What You're Building:"
   ]
  },
  {
   "cell_type": "markdown",
   "id": "11cbcd0a",
   "metadata": {},
   "source": [
    "```bash\n",
    "Input Image (28x28 pixels)\n",
    "    ↓ Flatten\n",
    "Vector (784 numbers)\n",
    "    ↓ W1 @ x + b1\n",
    "Hidden Layer (128 neurons)\n",
    "    ↓ ReLU (non-linearity)\n",
    "Hidden Layer activated\n",
    "    ↓ W2 @ h + b2\n",
    "Output Layer (10 scores)\n",
    "    ↓ Softmax\n",
    "Probabilities [ 0.1, 0.05, ..., 0.8, ... ] → Digit 7!\n",
    "```"
   ]
  },
  {
   "cell_type": "code",
   "execution_count": 519,
   "id": "15e88468",
   "metadata": {},
   "outputs": [
    {
     "data": {
      "text/plain": [
       "'\\nCHALLENGE: Build a Neural Network from Scratch\\nYour mission: Fill in the TODOs to complete the network\\n\\nArchitecture:\\nInput (784) → Dense(128) → ReLU → Dense(10) → Softmax\\n\\nThis is a 2-layer network for MNIST digit classification.\\n'"
      ]
     },
     "execution_count": 519,
     "metadata": {},
     "output_type": "execute_result"
    }
   ],
   "source": [
    "\"\"\"\n",
    "CHALLENGE: Build a Neural Network from Scratch\n",
    "Your mission: Fill in the TODOs to complete the network\n",
    "\n",
    "Architecture:\n",
    "Input (784) → Dense(128) → ReLU → Dense(10) → Softmax\n",
    "\n",
    "This is a 2-layer network for MNIST digit classification.\n",
    "\"\"\""
   ]
  },
  {
   "cell_type": "code",
   "execution_count": 520,
   "id": "549881c5",
   "metadata": {},
   "outputs": [],
   "source": [
    "import tensorflow as tf\n",
    "import numpy as np\n",
    "import matplotlib.pyplot as plt"
   ]
  },
  {
   "cell_type": "code",
   "execution_count": 521,
   "id": "e7aabbce",
   "metadata": {},
   "outputs": [],
   "source": [
    "# Set seed for reproducibility\n",
    "tf.random.set_seed(42)\n",
    "np.random.seed(42)"
   ]
  },
  {
   "cell_type": "code",
   "execution_count": 522,
   "id": "154558ba",
   "metadata": {},
   "outputs": [
    {
     "name": "stdout",
     "output_type": "stream",
     "text": [
      "🚀 Neural Network from Scratch - Challenge Mode\n",
      "============================================================\n"
     ]
    }
   ],
   "source": [
    "print(\"🚀 Neural Network from Scratch - Challenge Mode\")\n",
    "print(\"=\"*60)"
   ]
  },
  {
   "cell_type": "code",
   "execution_count": 523,
   "id": "992fe0a6",
   "metadata": {},
   "outputs": [],
   "source": [
    "# ============================================\n",
    "# PART 1: LOAD & PREPARE DATA\n",
    "# ============================================"
   ]
  },
  {
   "cell_type": "code",
   "execution_count": 524,
   "id": "590a008a",
   "metadata": {},
   "outputs": [
    {
     "name": "stdout",
     "output_type": "stream",
     "text": [
      "\n",
      "📊 Loading MNIST dataset...\n"
     ]
    }
   ],
   "source": [
    "print(\"\\n📊 Loading MNIST dataset...\")\n",
    "(x_train, y_train), (x_test, y_test) = tf.keras.datasets.mnist.load_data()"
   ]
  },
  {
   "cell_type": "code",
   "execution_count": 525,
   "id": "3e273d4c",
   "metadata": {},
   "outputs": [
    {
     "name": "stdout",
     "output_type": "stream",
     "text": [
      "Training data shape: (60000, 28, 28)\n",
      "Training labels shape: (60000,)\n",
      "Label example: 5\n"
     ]
    }
   ],
   "source": [
    "print(f\"Training data shape: {x_train.shape}\")  # (60000, 28, 28)\n",
    "print(f\"Training labels shape: {y_train.shape}\")  # (60000,)\n",
    "print(f\"Label example: {y_train[0]}\")  # e.g., 5"
   ]
  },
  {
   "cell_type": "code",
   "execution_count": 526,
   "id": "e14669d1",
   "metadata": {},
   "outputs": [
    {
     "name": "stdout",
     "output_type": "stream",
     "text": [
      "✅ Saved sample images to 'mnist_samples.png'\n"
     ]
    },
    {
     "data": {
      "image/png": "[encoded data removed]",
      "text/plain": [
       "<Figure size 1000x200 with 5 Axes>"
      ]
     },
     "metadata": {},
     "output_type": "display_data"
    }
   ],
   "source": [
    "# Visualize a sample\n",
    "plt.figure(figsize=(10, 2))\n",
    "for i in range(5):\n",
    "    plt.subplot(1, 5, i+1)\n",
    "    plt.imshow(x_train[i], cmap='gray')\n",
    "    plt.title(f\"Label: {y_train[i]}\")\n",
    "    plt.axis('off')\n",
    "plt.tight_layout()\n",
    "plt.savefig('mnist_samples.png', dpi=150, bbox_inches='tight')\n",
    "print(\"✅ Saved sample images to 'mnist_samples.png'\")"
   ]
  },
  {
   "cell_type": "code",
   "execution_count": 527,
   "id": "54abfaa7",
   "metadata": {},
   "outputs": [],
   "source": [
    "# ============================================\n",
    "# TODO 1: PREPROCESS THE DATA\n",
    "# ============================================"
   ]
  },
  {
   "cell_type": "code",
   "execution_count": 528,
   "id": "9a212a9d",
   "metadata": {},
   "outputs": [
    {
     "name": "stdout",
     "output_type": "stream",
     "text": [
      "\n",
      "============================================================\n",
      "TODO 1: Preprocess the data\n",
      "============================================================\n"
     ]
    }
   ],
   "source": [
    "print(\"\\n\" + \"=\"*60)\n",
    "print(\"TODO 1: Preprocess the data\")\n",
    "print(\"=\"*60)"
   ]
  },
  {
   "cell_type": "code",
   "execution_count": 529,
   "id": "595bfb29",
   "metadata": {},
   "outputs": [
    {
     "data": {
      "text/plain": [
       "'\\nYour tasks:\\n1. Flatten images from (28, 28) to (784,) - each image becomes a vector\\n2. Normalize pixel values from [0, 255] to [0, 1]\\n3. Convert labels to one-hot encoding\\n   Example: label 3 → [0, 0, 0, 1, 0, 0, 0, 0, 0, 0]\\n\\nHints:\\n- Use tf.reshape() for flattening\\n- Division for normalization\\n- tf.one_hot() for labels (depth=10 for 10 classes)\\n'"
      ]
     },
     "execution_count": 529,
     "metadata": {},
     "output_type": "execute_result"
    }
   ],
   "source": [
    "\"\"\"\n",
    "Your tasks:\n",
    "1. Flatten images from (28, 28) to (784,) - each image becomes a vector\n",
    "2. Normalize pixel values from [0, 255] to [0, 1]\n",
    "3. Convert labels to one-hot encoding\n",
    "   Example: label 3 → [0, 0, 0, 1, 0, 0, 0, 0, 0, 0]\n",
    "\n",
    "Hints:\n",
    "- Use tf.reshape() for flattening\n",
    "- Division for normalization\n",
    "- tf.one_hot() for labels (depth=10 for 10 classes)\n",
    "\"\"\""
   ]
  },
  {
   "cell_type": "code",
   "execution_count": 530,
   "id": "b596c046",
   "metadata": {},
   "outputs": [
    {
     "name": "stdout",
     "output_type": "stream",
     "text": [
      " Reshaped training data: (60000, 784)\n",
      "Reshaped testing data: (10000, 784)\n"
     ]
    }
   ],
   "source": [
    "# Reshape the image shape into vectors\n",
    "x_train = tf.reshape(x_train, shape=(60000, 784,))\n",
    "x_test = tf.reshape(x_test, shape=(10000, 784,))\n",
    "\n",
    "print(f\" Reshaped training data: {x_train.shape}\")  # (60000, 28, 28)\n",
    "print(f\"Reshaped testing data: {x_test.shape}\")"
   ]
  },
  {
   "cell_type": "code",
   "execution_count": 531,
   "id": "d140d278",
   "metadata": {},
   "outputs": [
    {
     "name": "stdout",
     "output_type": "stream",
     "text": [
      "tf.Tensor(\n",
      "[  0   0   0   0   0   0   0   0   0   0   0   0   0   0   0   0   0   0\n",
      "   0   0   0   0   0   0   0   0   0   0   0   0   0   0   0   0   0   0\n",
      "   0   0   0   0   0   0   0   0   0   0   0   0   0   0   0   0   0   0\n",
      "   0   0   0   0   0   0   0   0   0   0   0   0   0   0   0   0   0   0\n",
      "   0   0   0   0   0   0   0   0   0   0   0   0   0   0   0   0   0   0\n",
      "   0   0   0   0   0   0   0   0   0   0   0   0   0   0   0   0   0   0\n",
      "   0   0   0   0   0   0   0   0   0   0   0   0   0   0   0   0   0   0\n",
      "   0   0   0   0   0   0   0   0   0   0   0   0   0   0   0   0   0   0\n",
      "   0   0   0   0   0   0   0   0   3  18  18  18 126 136 175  26 166 255\n",
      " 247 127   0   0   0   0   0   0   0   0   0   0   0   0  30  36  94 154\n",
      " 170 253 253 253 253 253 225 172 253 242 195  64   0   0   0   0   0   0\n",
      "   0   0   0   0   0  49 238 253 253 253 253 253 253 253 253 251  93  82\n",
      "  82  56  39   0   0   0   0   0   0   0   0   0   0   0   0  18 219 253\n",
      " 253 253 253 253 198 182 247 241   0   0   0   0   0   0   0   0   0   0\n",
      "   0   0   0   0   0   0   0   0  80 156 107 253 253 205  11   0  43 154\n",
      "   0   0   0   0   0   0   0   0   0   0   0   0   0   0   0   0   0   0\n",
      "   0  14   1 154 253  90   0   0   0   0   0   0   0   0   0   0   0   0\n",
      "   0   0   0   0   0   0   0   0   0   0   0   0   0 139 253 190   2   0\n",
      "   0   0   0   0   0   0   0   0   0   0   0   0   0   0   0   0   0   0\n",
      "   0   0   0   0   0  11 190 253  70   0   0   0   0   0   0   0   0   0\n",
      "   0   0   0   0   0   0   0   0   0   0   0   0   0   0   0   0  35 241\n",
      " 225 160 108   1   0   0   0   0   0   0   0   0   0   0   0   0   0   0\n",
      "   0   0   0   0   0   0   0   0   0  81 240 253 253 119  25   0   0   0\n",
      "   0   0   0   0   0   0   0   0   0   0   0   0   0   0   0   0   0   0\n",
      "   0   0  45 186 253 253 150  27   0   0   0   0   0   0   0   0   0   0\n",
      "   0   0   0   0   0   0   0   0   0   0   0   0   0  16  93 252 253 187\n",
      "   0   0   0   0   0   0   0   0   0   0   0   0   0   0   0   0   0   0\n",
      "   0   0   0   0   0   0   0 249 253 249  64   0   0   0   0   0   0   0\n",
      "   0   0   0   0   0   0   0   0   0   0   0   0   0   0  46 130 183 253\n",
      " 253 207   2   0   0   0   0   0   0   0   0   0   0   0   0   0   0   0\n",
      "   0   0   0   0  39 148 229 253 253 253 250 182   0   0   0   0   0   0\n",
      "   0   0   0   0   0   0   0   0   0   0   0   0  24 114 221 253 253 253\n",
      " 253 201  78   0   0   0   0   0   0   0   0   0   0   0   0   0   0   0\n",
      "   0   0  23  66 213 253 253 253 253 198  81   2   0   0   0   0   0   0\n",
      "   0   0   0   0   0   0   0   0   0   0  18 171 219 253 253 253 253 195\n",
      "  80   9   0   0   0   0   0   0   0   0   0   0   0   0   0   0   0   0\n",
      "  55 172 226 253 253 253 253 244 133  11   0   0   0   0   0   0   0   0\n",
      "   0   0   0   0   0   0   0   0   0   0 136 253 253 253 212 135 132  16\n",
      "   0   0   0   0   0   0   0   0   0   0   0   0   0   0   0   0   0   0\n",
      "   0   0   0   0   0   0   0   0   0   0   0   0   0   0   0   0   0   0\n",
      "   0   0   0   0   0   0   0   0   0   0   0   0   0   0   0   0   0   0\n",
      "   0   0   0   0   0   0   0   0   0   0   0   0   0   0   0   0   0   0\n",
      "   0   0   0   0   0   0   0   0   0   0   0   0   0   0   0   0   0   0\n",
      "   0   0   0   0   0   0   0   0   0   0], shape=(784,), dtype=uint8)\n"
     ]
    }
   ],
   "source": [
    "print(x_train[0])"
   ]
  },
  {
   "cell_type": "code",
   "execution_count": 532,
   "id": "6c948179",
   "metadata": {},
   "outputs": [
    {
     "data": {
      "text/plain": [
       "'\\nThe input pixel has values in the range [0, 255]\\nWe need to normalize it in the range [0, 1]\\n'"
      ]
     },
     "execution_count": 532,
     "metadata": {},
     "output_type": "execute_result"
    }
   ],
   "source": [
    "\"\"\"\n",
    "The input pixel has values in the range [0, 255]\n",
    "We need to normalize it in the range [0, 1]\n",
    "\"\"\""
   ]
  },
  {
   "cell_type": "code",
   "execution_count": 533,
   "id": "73de52e8",
   "metadata": {},
   "outputs": [],
   "source": [
    "# Normalize pixel values\n",
    "# Divide every value of the pixel with 255\n",
    "# 0/255 = 0\n",
    "# 255/255 = 1\n",
    "\n",
    "x_train = x_train / 255\n",
    "x_test = x_test / 255"
   ]
  },
  {
   "cell_type": "code",
   "execution_count": 534,
   "id": "bbf58d79",
   "metadata": {},
   "outputs": [
    {
     "data": {
      "text/plain": [
       "array([0.        , 0.00392157, 0.00784314, 0.01176471, 0.03529412,\n",
       "       0.04313726, 0.05490196, 0.0627451 , 0.07058824, 0.09019608,\n",
       "       0.09411765, 0.09803922, 0.10196079, 0.10588235, 0.11764706,\n",
       "       0.13725491, 0.14117648, 0.15294118, 0.16862746, 0.1764706 ,\n",
       "       0.18039216, 0.19215687, 0.21568628, 0.21960784, 0.2509804 ,\n",
       "       0.25882354, 0.27450982, 0.30588236, 0.3137255 , 0.31764707,\n",
       "       0.32156864, 0.3529412 , 0.3647059 , 0.36862746, 0.41960785,\n",
       "       0.42352942, 0.44705883, 0.46666667, 0.49411765, 0.49803922,\n",
       "       0.50980395, 0.5176471 , 0.52156866, 0.5294118 , 0.53333336,\n",
       "       0.54509807, 0.5803922 , 0.5882353 , 0.6039216 , 0.6117647 ,\n",
       "       0.627451  , 0.6509804 , 0.6666667 , 0.67058825, 0.6745098 ,\n",
       "       0.6862745 , 0.7137255 , 0.7176471 , 0.7294118 , 0.73333335,\n",
       "       0.74509805, 0.7647059 , 0.7764706 , 0.7882353 , 0.8039216 ,\n",
       "       0.8117647 , 0.83137256, 0.8352941 , 0.85882354, 0.8666667 ,\n",
       "       0.88235295, 0.8862745 , 0.8980392 , 0.93333334, 0.9411765 ,\n",
       "       0.94509804, 0.9490196 , 0.95686275, 0.96862745, 0.9764706 ,\n",
       "       0.98039216, 0.9843137 , 0.9882353 , 0.99215686, 1.        ],\n",
       "      dtype=float32)"
      ]
     },
     "execution_count": 534,
     "metadata": {},
     "output_type": "execute_result"
    }
   ],
   "source": [
    "np.unique(x_train[0])"
   ]
  },
  {
   "cell_type": "code",
   "execution_count": 535,
   "id": "87bc2ef7",
   "metadata": {},
   "outputs": [
    {
     "data": {
      "text/plain": [
       "array([0, 1, 2, 3, 4, 5, 6, 7, 8, 9], dtype=uint8)"
      ]
     },
     "execution_count": 535,
     "metadata": {},
     "output_type": "execute_result"
    }
   ],
   "source": [
    "np.unique(y_train)"
   ]
  },
  {
   "cell_type": "code",
   "execution_count": 536,
   "id": "7dbb0449",
   "metadata": {},
   "outputs": [
    {
     "name": "stdout",
     "output_type": "stream",
     "text": [
      "✓ Sample original label: 5\n",
      "✓ Sample one-hot: [0. 0. 0. 0. 0. 1. 0. 0. 0. 0.]\n"
     ]
    }
   ],
   "source": [
    "# One-hot encoding\n",
    "\n",
    "y_train_onehot = tf.one_hot(y_train, depth=10)\n",
    "y_test_onehot = tf.one_hot(y_test, depth=10)\n",
    "\n",
    "print(f\"✓ Sample original label: {y_train[0]}\")\n",
    "print(f\"✓ Sample one-hot: {y_train_onehot[0]}\")\n"
   ]
  },
  {
   "cell_type": "code",
   "execution_count": 537,
   "id": "ee711b18",
   "metadata": {},
   "outputs": [
    {
     "data": {
      "text/plain": [
       "<tf.Tensor: shape=(10,), dtype=float32, numpy=array([0., 0., 0., 0., 0., 1., 0., 0., 0., 0.], dtype=float32)>"
      ]
     },
     "execution_count": 537,
     "metadata": {},
     "output_type": "execute_result"
    }
   ],
   "source": [
    "y_train_onehot[0]"
   ]
  },
  {
   "cell_type": "code",
   "execution_count": 538,
   "id": "6fa5c2dc",
   "metadata": {},
   "outputs": [
    {
     "name": "stdout",
     "output_type": "stream",
     "text": [
      "\n",
      "✓ x_train shape: (60000, 784)\n",
      "✓ y_train shape: (60000, 10)\n",
      "✓ Pixel range: [0.0, 1.0]\n",
      "✓ Sample one-hot: [0. 0. 0. 0. 0. 1. 0. 0. 0. 0.]\n"
     ]
    }
   ],
   "source": [
    "# Uncomment to check your work:\n",
    "print(f\"\\n✓ x_train shape: {x_train.shape}\")  # Should be (60000, 784)\n",
    "print(f\"✓ y_train shape: {y_train_onehot.shape}\")      # Should be (60000, 10)\n",
    "print(f\"✓ Pixel range: [{tf.reduce_min(x_train)}, {tf.reduce_max(x_train)}]\")\n",
    "print(f\"✓ Sample one-hot: {y_train_onehot[0]}\")"
   ]
  },
  {
   "cell_type": "code",
   "execution_count": 539,
   "id": "cdc9d384",
   "metadata": {},
   "outputs": [],
   "source": [
    "# ============================================\n",
    "# TODO 2: INITIALIZE WEIGHTS AND BIASES\n",
    "# ============================================"
   ]
  },
  {
   "cell_type": "code",
   "execution_count": 540,
   "id": "5eab9b8f",
   "metadata": {},
   "outputs": [
    {
     "name": "stdout",
     "output_type": "stream",
     "text": [
      "\n",
      "============================================================\n",
      "TODO 2: Initialize network parameters\n",
      "============================================================\n"
     ]
    }
   ],
   "source": [
    "print(\"\\n\" + \"=\"*60)\n",
    "print(\"TODO 2: Initialize network parameters\")\n",
    "print(\"=\"*60)"
   ]
  },
  {
   "cell_type": "code",
   "execution_count": 541,
   "id": "1f1147ba",
   "metadata": {},
   "outputs": [
    {
     "data": {
      "text/plain": [
       "'\\nNetwork architecture:\\nLayer 1: 784 → 128 (input to hidden)\\nLayer 2: 128 → 10  (hidden to output)\\n\\nFor each layer, we need:\\n- Weights matrix (W): shape (input_size, output_size)\\n- Bias vector (b): shape (output_size,)\\n\\nInitialize weights with small random values (Xavier initialization):\\n- Use tf.random.normal() with stddev = sqrt(2.0 / input_size)\\n- Biases can be zeros\\n\\nWhy small random values? If all weights are the same, all neurons \\nlearn the same thing (symmetry problem!)\\n'"
      ]
     },
     "execution_count": 541,
     "metadata": {},
     "output_type": "execute_result"
    }
   ],
   "source": [
    "\"\"\"\n",
    "Network architecture:\n",
    "Layer 1: 784 → 128 (input to hidden)\n",
    "Layer 2: 128 → 10  (hidden to output)\n",
    "\n",
    "For each layer, we need:\n",
    "- Weights matrix (W): shape (input_size, output_size)\n",
    "- Bias vector (b): shape (output_size,)\n",
    "\n",
    "Initialize weights with small random values (Xavier initialization):\n",
    "- Use tf.random.normal() with stddev = sqrt(2.0 / input_size)\n",
    "- Biases can be zeros\n",
    "\n",
    "Why small random values? If all weights are the same, all neurons \n",
    "learn the same thing (symmetry problem!)\n",
    "\"\"\""
   ]
  },
  {
   "cell_type": "markdown",
   "id": "7f75ce3c",
   "metadata": {},
   "source": [
    "### `tf.variable()` vs Regular Tensors\n",
    "\n",
    "#### The Question\n",
    "Why use `tf.Variable()` when regular tensors seem to work with operations like `W1 = W1 * 5`?\n",
    "\n",
    "#### The Answer\n",
    "\n",
    "##### What's Actually Happening with Reassignment\n",
    "```python\n",
    "W1 = tf.random.normal(shape=(784, 128))  # W1 → Tensor A (memory address 0x123...)\n",
    "W1 = W1 * 5                              # Creates NEW Tensor B\n",
    "# W1 → Tensor B (memory address 0x456...)\n",
    "```\n",
    "\n",
    "**Key Point**: W1 = W1 * 5 is NOT modifying the tensor in-place. It's creating a NEW tensor and reassigning the Python variable name to point to it.\n",
    "\n",
    "#### Why This Breaks Neural Network Training\n",
    "During training, we need in-place updates that TensorFlow can track:\n",
    "\n",
    "|Operation |Regular Tensor| tf.Variable|\n",
    "|----------|--------------|------------|\n",
    "|`W1 = W1 * 5`|✅ Creates new tensor|✅ Creates new tensorW1.|\n",
    "|`assign_sub(x)`|❌ AttributeError|✅ Modifies in-placeW1.|\n",
    "|`assign(x)`|❌ AttributeError|✅ Modifies in-place|\n",
    "|Trackable by optimizers|❌ No✅| Yes| \n",
    "|Gradient tracking|❌ Lost on reassignment|✅ Maintained|\n",
    "\n",
    "#### Correct Implementation\n",
    "```py\n",
    "# ❌ WRONG - Regular tensor\n",
    "W1 = tf.random.normal(shape=(784, 128), stddev=tf.math.sqrt(2.0 / 784))\n",
    "b1 = tf.zeros(shape=(128,))\n",
    "\n",
    "# ✅ CORRECT - Trainable variable\n",
    "W1 = tf.Variable(tf.random.normal(shape=(784, 128), stddev=tf.math.sqrt(2.0 / 784)))\n",
    "b1 = tf.Variable(tf.zeros(shape=(128,)))\n",
    "```\n",
    "\n",
    "#### Rule of Thumb\n",
    "- **Trainable parameters** (weights, biases) → tf.Variable\n",
    "- **Intermediate computations** (activations, predictions) → Regular tensors\n",
    "- **Updates during training** → Use .assign() or .assign_sub(), not reassignment"
   ]
  },
  {
   "cell_type": "code",
   "execution_count": 542,
   "id": "5584a947",
   "metadata": {},
   "outputs": [],
   "source": [
    "# TODO: Initialize Layer 1 weights and biases\n",
    "# W1 shape: (784, 128)\n",
    "# b1 shape: (128,)\n",
    "\n",
    "W1 = tf.Variable(tf.random.normal(shape=(784, 128), stddev=tf.math.sqrt(2.0 / 784)))\n",
    "b1 = tf.Variable(tf.zeros(shape=(128,)))"
   ]
  },
  {
   "cell_type": "code",
   "execution_count": 543,
   "id": "506a7a0c",
   "metadata": {},
   "outputs": [],
   "source": [
    "# TODO: Initialize Layer 2 weights and biases  \n",
    "# W2 shape: (128, 10)\n",
    "# b2 shape: (10,)\n",
    "\n",
    "W2 = tf.Variable(tf.random.normal(shape=(128, 10), stddev=tf.math.sqrt(2.0 / 128)))\n",
    "b2 = tf.Variable(tf.zeros(shape=(10,)))"
   ]
  },
  {
   "cell_type": "code",
   "execution_count": 544,
   "id": "6c9e9cde",
   "metadata": {},
   "outputs": [
    {
     "name": "stdout",
     "output_type": "stream",
     "text": [
      "\n",
      "✓ W1 shape: (784, 128)\n",
      "✓ b1 shape: (128,)\n",
      "✓ W2 shape: (128, 10)\n",
      "✓ b2 shape: (10,)\n"
     ]
    }
   ],
   "source": [
    "# Uncomment to check:\n",
    "print(f\"\\n✓ W1 shape: {W1.shape}\")  # Should be (784, 128)\n",
    "print(f\"✓ b1 shape: {b1.shape}\")    # Should be (128,)\n",
    "print(f\"✓ W2 shape: {W2.shape}\")    # Should be (128, 10)\n",
    "print(f\"✓ b2 shape: {b2.shape}\")    # Should be (10,)"
   ]
  },
  {
   "cell_type": "code",
   "execution_count": 545,
   "id": "3b5dd721",
   "metadata": {},
   "outputs": [],
   "source": [
    "# ============================================\n",
    "# TODO 3: IMPLEMENT ACTIVATION FUNCTIONS\n",
    "# ============================================"
   ]
  },
  {
   "cell_type": "code",
   "execution_count": 546,
   "id": "5754b5e9",
   "metadata": {},
   "outputs": [
    {
     "name": "stdout",
     "output_type": "stream",
     "text": [
      "\n",
      "============================================================\n",
      "TODO 3: Implement activation functions\n",
      "============================================================\n"
     ]
    }
   ],
   "source": [
    "print(\"\\n\" + \"=\"*60)\n",
    "print(\"TODO 3: Implement activation functions\")\n",
    "print(\"=\"*60)"
   ]
  },
  {
   "cell_type": "code",
   "execution_count": 547,
   "id": "20d2eb98",
   "metadata": {},
   "outputs": [
    {
     "data": {
      "text/plain": [
       "'\\nReLU (Rectified Linear Unit): max(0, x)\\n- Introduces non-linearity\\n- Without this, multiple layers = one linear layer!\\n\\nSoftmax: converts logits to probabilities\\n- Output sums to 1.0\\n- Each value between [0, 1]\\n'"
      ]
     },
     "execution_count": 547,
     "metadata": {},
     "output_type": "execute_result"
    }
   ],
   "source": [
    "\"\"\"\n",
    "ReLU (Rectified Linear Unit): max(0, x)\n",
    "- Introduces non-linearity\n",
    "- Without this, multiple layers = one linear layer!\n",
    "\n",
    "Softmax: converts logits to probabilities\n",
    "- Output sums to 1.0\n",
    "- Each value between [0, 1]\n",
    "\"\"\""
   ]
  },
  {
   "cell_type": "markdown",
   "id": "ff1c97a4",
   "metadata": {},
   "source": [
    "### ReLU\n",
    "The ReLU (Rectified Linear Unit) function is a popular activation function in deep learning that ***returns the input directly if it's positive and outputs zero for any negative input***. Its mathematical definition is `f(x) = max(0, x)`."
   ]
  },
  {
   "cell_type": "markdown",
   "id": "0d09d3f5",
   "metadata": {},
   "source": [
    "### Softmax\n",
    "The softmax function is a mathematical function used in machine learning to convert a vector of raw scores (logits) into a probability distribution over multiple classes, where each output value is a probability between 0 and 1 and all probabilities sum to 1.\n",
    "\n",
    "#### How it Works \n",
    "1. **Exponentiation**:\n",
    "Each raw score (logit) in the input vector is passed through an exponential function, effectively converting all values to positive numbers.\n",
    "2. **Normalization**:\n",
    "The result of the exponentiation for each input is then divided by the sum of all the exponentiated values."
   ]
  },
  {
   "cell_type": "code",
   "execution_count": 548,
   "id": "972a7559",
   "metadata": {},
   "outputs": [],
   "source": [
    "def relu(x):\n",
    "    \"\"\"\n",
    "    TODO: Implement ReLU activation\n",
    "    ReLU(x) = max(0, x) = x if x > 0, else 0\n",
    "    \n",
    "    Hint: Use tf.maximum()\n",
    "    \"\"\"\n",
    "    return tf.maximum(0, x)"
   ]
  },
  {
   "cell_type": "code",
   "execution_count": 549,
   "id": "48a9a036",
   "metadata": {},
   "outputs": [],
   "source": [
    "def softmax(x):\n",
    "    \"\"\"\n",
    "    TODO: Implement softmax\n",
    "    softmax(x_i) = exp(x_i) / sum(exp(x_j)) for all j\n",
    "    \n",
    "    Hint: Use tf.exp() and tf.reduce_sum()\n",
    "    Be careful with numerical stability - subtract max before exp!\n",
    "    \"\"\"\n",
    "    # exp_x = tf.exp(x)\n",
    "\n",
    "    # return exp_x / tf.reduce_sum(exp_x)\n",
    "    \"\"\"\n",
    "    The above implementation has stability problem\n",
    "    exp(1000) = INIFINITY\n",
    "    \"\"\"\n",
    "\n",
    "    # Numerically stable softmax implementation\n",
    "    x_stable = x - tf.reduce_max(x, axis=-1, keepdims=True)\n",
    "    exp_x = tf.exp(x_stable)\n",
    "\n",
    "\n",
    "    return exp_x / tf.reduce_sum(exp_x, axis=-1, keepdims=True)"
   ]
  },
  {
   "cell_type": "code",
   "execution_count": 550,
   "id": "75b2d48b",
   "metadata": {},
   "outputs": [
    {
     "name": "stdout",
     "output_type": "stream",
     "text": [
      "\n",
      "ReLU test: [0. 0. 2.]\n",
      "Softmax test: [[0.09003057 0.24472848 0.66524094]]\n"
     ]
    }
   ],
   "source": [
    "# Test your functions:\n",
    "test_input = tf.constant([-2.0, 0.0, 2.0])\n",
    "print(f\"\\nReLU test: {relu(test_input)}\")  # Should be [0, 0, 2]\n",
    "\n",
    "test_logits = tf.constant([[1.0, 2.0, 3.0]])\n",
    "print(f\"Softmax test: {softmax(test_logits)}\")  # Should sum to 1.0"
   ]
  },
  {
   "cell_type": "code",
   "execution_count": 551,
   "id": "acb3aad0",
   "metadata": {},
   "outputs": [],
   "source": [
    "# ============================================\n",
    "# TODO 4: FORWARD PASS\n",
    "# ============================================"
   ]
  },
  {
   "cell_type": "code",
   "execution_count": 552,
   "id": "cd790ba2",
   "metadata": {},
   "outputs": [
    {
     "name": "stdout",
     "output_type": "stream",
     "text": [
      "\n",
      "============================================================\n",
      "TODO 4: Implement forward pass\n",
      "============================================================\n"
     ]
    }
   ],
   "source": [
    "print(\"\\n\" + \"=\"*60)\n",
    "print(\"TODO 4: Implement forward pass\")\n",
    "print(\"=\"*60)"
   ]
  },
  {
   "cell_type": "code",
   "execution_count": 553,
   "id": "5879bb02",
   "metadata": {},
   "outputs": [
    {
     "data": {
      "text/plain": [
       "'\\nForward pass: Input → Hidden → Output\\n\\nLayer 1: z1 = X @ W1 + b1  (linear transformation)\\n         a1 = relu(z1)      (non-linear activation)\\n\\nLayer 2: z2 = a1 @ W2 + b2 (linear transformation)\\n         a2 = softmax(z2)   (convert to probabilities)\\n\\n@ is matrix multiplication (same as tf.matmul)\\n'"
      ]
     },
     "execution_count": 553,
     "metadata": {},
     "output_type": "execute_result"
    }
   ],
   "source": [
    "\"\"\"\n",
    "Forward pass: Input → Hidden → Output\n",
    "\n",
    "Layer 1: z1 = X @ W1 + b1  (linear transformation)\n",
    "         a1 = relu(z1)      (non-linear activation)\n",
    "\n",
    "Layer 2: z2 = a1 @ W2 + b2 (linear transformation)\n",
    "         a2 = softmax(z2)   (convert to probabilities)\n",
    "\n",
    "@ is matrix multiplication (same as tf.matmul)\n",
    "\"\"\""
   ]
  },
  {
   "cell_type": "code",
   "execution_count": 554,
   "id": "6e32d254",
   "metadata": {},
   "outputs": [],
   "source": [
    "def forward_pass(X, W1, b1, W2, b2):\n",
    "    \"\"\"\n",
    "    TODO: Implement the forward pass\n",
    "    \n",
    "    Args:\n",
    "        X: Input batch, shape (batch_size, 784)\n",
    "        W1, b1: Layer 1 parameters\n",
    "        W2, b2: Layer 2 parameters\n",
    "    \n",
    "    Returns:\n",
    "        a2: Output probabilities, shape (batch_size, 10)\n",
    "        cache: Dictionary with intermediate values (needed for backprop)\n",
    "        Store: z1, a1, z2\n",
    "    \"\"\"\n",
    "    # TODO: Implement forward pass\n",
    "    z1 = tf.matmul(X, W1) + b1\n",
    "    a1 = relu(z1)  # ReLU activation\n",
    "    z2 = tf.matmul(a1, W2) + b2\n",
    "    a2 = softmax(z2)  # Softmax activation\n",
    "    \n",
    "    cache = {'z1': z1, 'a1': a1, 'z2': z2, 'X': X}\n",
    "    return a2, cache"
   ]
  },
  {
   "cell_type": "code",
   "execution_count": 555,
   "id": "d288ac96",
   "metadata": {},
   "outputs": [
    {
     "name": "stdout",
     "output_type": "stream",
     "text": [
      "\n",
      "✓ Predictions shape: (32, 10)\n",
      "✓ Predictions sum: 1.0\n"
     ]
    }
   ],
   "source": [
    "# Test forward pass:\n",
    "sample_batch = x_train[:32]  # 32 samples\n",
    "predictions, _ = forward_pass(sample_batch, W1, b1, W2, b2)\n",
    "print(f\"\\n✓ Predictions shape: {predictions.shape}\")  # Should be (32, 10)\n",
    "print(f\"✓ Predictions sum: {tf.reduce_sum(predictions[0])}\")  # Should be ~1.0"
   ]
  },
  {
   "cell_type": "code",
   "execution_count": 556,
   "id": "5c49294b",
   "metadata": {},
   "outputs": [],
   "source": [
    "# ============================================\n",
    "# TODO 5: LOSS FUNCTION\n",
    "# ============================================"
   ]
  },
  {
   "cell_type": "code",
   "execution_count": 557,
   "id": "cafa801b",
   "metadata": {},
   "outputs": [
    {
     "name": "stdout",
     "output_type": "stream",
     "text": [
      "\n",
      "============================================================\n",
      "TODO 5: Implement loss function\n",
      "============================================================\n"
     ]
    }
   ],
   "source": [
    "print(\"\\n\" + \"=\"*60)\n",
    "print(\"TODO 5: Implement loss function\")\n",
    "print(\"=\"*60)"
   ]
  },
  {
   "cell_type": "code",
   "execution_count": 558,
   "id": "a6f20cc6",
   "metadata": {},
   "outputs": [
    {
     "data": {
      "text/plain": [
       "'\\nCross-Entropy Loss (the standard for classification):\\n\\nFor each sample:\\n  loss = -sum(y_true * log(y_pred))\\n\\nWhere:\\n- y_true is one-hot encoded (e.g., [0,0,0,1,0,0,0,0,0,0] for digit 3)\\n- y_pred is the softmax output (probabilities)\\n\\nIntuition: We want high probability for the correct class.\\nIf y_pred[correct_class] is close to 1, loss is low.\\nIf y_pred[correct_class] is close to 0, loss is high.\\n'"
      ]
     },
     "execution_count": 558,
     "metadata": {},
     "output_type": "execute_result"
    }
   ],
   "source": [
    "\"\"\"\n",
    "Cross-Entropy Loss (the standard for classification):\n",
    "\n",
    "For each sample:\n",
    "  loss = -sum(y_true * log(y_pred))\n",
    "\n",
    "Where:\n",
    "- y_true is one-hot encoded (e.g., [0,0,0,1,0,0,0,0,0,0] for digit 3)\n",
    "- y_pred is the softmax output (probabilities)\n",
    "\n",
    "Intuition: We want high probability for the correct class.\n",
    "If y_pred[correct_class] is close to 1, loss is low.\n",
    "If y_pred[correct_class] is close to 0, loss is high.\n",
    "\"\"\""
   ]
  },
  {
   "cell_type": "code",
   "execution_count": 559,
   "id": "4af6c580",
   "metadata": {},
   "outputs": [],
   "source": [
    "def cross_entropy_loss(y_true, y_pred):\n",
    "    \"\"\"\n",
    "    TODO: Implement cross-entropy loss\n",
    "    \n",
    "    Args:\n",
    "        y_true: True labels (one-hot), shape (batch_size, 10)\n",
    "        y_pred: Predicted probabilities, shape (batch_size, 10)\n",
    "    \n",
    "    Returns:\n",
    "        loss: Scalar loss value (average over batch)\n",
    "    \n",
    "    Hint: Use tf.reduce_sum() and tf.reduce_mean()\n",
    "    Add a small epsilon (1e-7) to log to avoid log(0)\n",
    "    \"\"\"\n",
    "    # Add epsilon INSIDE the log for numerical stability\n",
    "    epsilon = 1e-7\n",
    "    \n",
    "    loss_per_sample = -tf.reduce_sum(y_true * tf.math.log(y_pred + epsilon), axis=-1)\n",
    "    avg_loss = tf.reduce_mean(loss_per_sample)\n",
    "    return avg_loss"
   ]
  },
  {
   "cell_type": "code",
   "execution_count": 560,
   "id": "a49d7225",
   "metadata": {},
   "outputs": [
    {
     "name": "stdout",
     "output_type": "stream",
     "text": [
      "\n",
      "✓ Initial loss: 2.4387741088867188\n"
     ]
    }
   ],
   "source": [
    "# Test loss:\n",
    "sample_labels = y_train_onehot[:32]\n",
    "loss = cross_entropy_loss(sample_labels, predictions)\n",
    "print(f\"\\n✓ Initial loss: {loss}\")  # Should be around 2.3 (random guess)"
   ]
  },
  {
   "cell_type": "code",
   "execution_count": 561,
   "id": "21e611cf",
   "metadata": {},
   "outputs": [],
   "source": [
    "# ============================================\n",
    "# TODO 6: BACKWARD PASS (Backpropagation)\n",
    "# ============================================"
   ]
  },
  {
   "cell_type": "code",
   "execution_count": 562,
   "id": "e72ecd94",
   "metadata": {},
   "outputs": [
    {
     "name": "stdout",
     "output_type": "stream",
     "text": [
      "\n",
      "============================================================\n",
      "TODO 6: Implement backward pass\n",
      "============================================================\n"
     ]
    }
   ],
   "source": [
    "print(\"\\n\" + \"=\"*60)\n",
    "print(\"TODO 6: Implement backward pass\")\n",
    "print(\"=\"*60)"
   ]
  },
  {
   "cell_type": "code",
   "execution_count": 563,
   "id": "369cdeaa",
   "metadata": {},
   "outputs": [
    {
     "data": {
      "text/plain": [
       "\"\\nThis is where the magic happens! We compute gradients using chain rule.\\n\\nFor softmax + cross-entropy, the gradient simplifies to:\\n  dL/dz2 = y_pred - y_true  (beautiful simplification!)\\n\\nThen we propagate back:\\n  dL/dW2 = a1^T @ dz2\\n  dL/db2 = sum(dz2) across batch\\n\\n  dL/da1 = dz2 @ W2^T\\n  dL/dz1 = dL/da1 * relu_derivative(z1)\\n\\n  dL/dW1 = X^T @ dz1\\n  dL/db1 = sum(dz1) across batch\\n\\nDon't worry if this looks scary - focus on implementing it!\\n\""
      ]
     },
     "execution_count": 563,
     "metadata": {},
     "output_type": "execute_result"
    }
   ],
   "source": [
    "\"\"\"\n",
    "This is where the magic happens! We compute gradients using chain rule.\n",
    "\n",
    "For softmax + cross-entropy, the gradient simplifies to:\n",
    "  dL/dz2 = y_pred - y_true  (beautiful simplification!)\n",
    "\n",
    "Then we propagate back:\n",
    "  dL/dW2 = a1^T @ dz2\n",
    "  dL/db2 = sum(dz2) across batch\n",
    "  \n",
    "  dL/da1 = dz2 @ W2^T\n",
    "  dL/dz1 = dL/da1 * relu_derivative(z1)\n",
    "  \n",
    "  dL/dW1 = X^T @ dz1\n",
    "  dL/db1 = sum(dz1) across batch\n",
    "\n",
    "Don't worry if this looks scary - focus on implementing it!\n",
    "\"\"\""
   ]
  },
  {
   "cell_type": "code",
   "execution_count": null,
   "id": "2bea181f",
   "metadata": {},
   "outputs": [],
   "source": [
    "def backward_pass(y_true, y_pred, cache, W2):\n",
    "    \"\"\"\n",
    "    TODO: Implement backpropagation\n",
    "    \n",
    "    Args:\n",
    "        y_true: True labels (one-hot), shape (batch_size, 10)\n",
    "        y_pred: Predictions from forward pass, shape (batch_size, 10)\n",
    "        cache: Dictionary with z1, a1, z2, X from forward pass\n",
    "        W2: Layer 2 weights (needed for gradient computation)\n",
    "    \n",
    "    Returns:\n",
    "        gradients: Dictionary with dW1, db1, dW2, db2\n",
    "    \"\"\"\n",
    "    batch_size = tf.cast(tf.shape(y_true)[0], tf.float32)\n",
    "    X = cache['X']\n",
    "    z1 = cache['z1']\n",
    "    a1 = cache['a1']\n",
    "    \n",
    "    # TODO: Compute gradient at output layer\n",
    "    dz2 = y_pred - y_true  # y_pred - y_true (this is the derivative of softmax + cross-entropy!)\n",
    "    \n",
    "    # TODO: Compute gradients for W2 and b2\n",
    "    dW2 = (1/batch_size) * tf.matmul(tf.transpose(a1), dz2)  # (1/batch_size) * a1^T @ dz2\n",
    "    db2 = tf.reshape((1/batch_size) * tf.reduce_sum(dz2, axis=0, keepdims=True), shape=(10, ))   # (1/batch_size) * sum(dz2, axis=0)\n",
    "    \n",
    "    # TODO: Propagate gradient to hidden layer\n",
    "    da1 = tf.matmul(dz2, tf.transpose(W2))  # dz2 @ W2^T\n",
    "    \n",
    "    # TODO: Apply ReLU derivative (derivative of max(0,x) is 1 if x>0, else 0)\n",
    "    relu_derivative = tf.cast(z1 > 0, tf.float32)  # Given for you\n",
    "    dz1 = da1 * relu_derivative  # da1 * relu_derivative\n",
    "    \n",
    "    # TODO: Compute gradients for W1 and b1\n",
    "    dW1 = (1/batch_size) * tf.matmul(tf.transpose(X), dz1)  # (1/batch_size) * X^T @ dz1\n",
    "    db1 = tf.reshape((1/batch_size) * tf.reduce_sum(dz1, axis=0, keepdims=True), shape=(128, ))  # (1/batch_size) * sum(dz1, axis=0)\n",
    "    \n",
    "    return {'dW1': dW1, 'db1': db1, 'dW2': dW2, 'db2': db2}"
   ]
  },
  {
   "cell_type": "code",
   "execution_count": 565,
   "id": "40dd94ef",
   "metadata": {},
   "outputs": [],
   "source": [
    "# ============================================\n",
    "# TODO 7: TRAINING LOOP\n",
    "# ============================================"
   ]
  },
  {
   "cell_type": "code",
   "execution_count": 566,
   "id": "3962c2bc",
   "metadata": {},
   "outputs": [
    {
     "name": "stdout",
     "output_type": "stream",
     "text": [
      "\n",
      "============================================================\n",
      "TODO 7: Implement training loop\n",
      "============================================================\n"
     ]
    }
   ],
   "source": [
    "print(\"\\n\" + \"=\"*60)\n",
    "print(\"TODO 7: Implement training loop\")\n",
    "print(\"=\"*60)"
   ]
  },
  {
   "cell_type": "code",
   "execution_count": 567,
   "id": "5b65b1fa",
   "metadata": {},
   "outputs": [
    {
     "data": {
      "text/plain": [
       "\"\\nTraining loop:\\n1. Forward pass (get predictions)\\n2. Compute loss\\n3. Backward pass (get gradients)\\n4. Update weights: W = W - learning_rate * dW\\n5. Repeat!\\n\\nWe'll train in mini-batches for efficiency.\\n\""
      ]
     },
     "execution_count": 567,
     "metadata": {},
     "output_type": "execute_result"
    }
   ],
   "source": [
    "\"\"\"\n",
    "Training loop:\n",
    "1. Forward pass (get predictions)\n",
    "2. Compute loss\n",
    "3. Backward pass (get gradients)\n",
    "4. Update weights: W = W - learning_rate * dW\n",
    "5. Repeat!\n",
    "\n",
    "We'll train in mini-batches for efficiency.\n",
    "\"\"\""
   ]
  },
  {
   "cell_type": "code",
   "execution_count": 568,
   "id": "1994e7cd",
   "metadata": {},
   "outputs": [],
   "source": [
    "def train(X, y, W1, b1, W2, b2, epochs=5, batch_size=32, learning_rate=0.01):\n",
    "    \"\"\"\n",
    "    TODO: Implement training loop\n",
    "    \n",
    "    Track loss and accuracy per epoch.\n",
    "    \"\"\"\n",
    "    n_samples = X.shape[0]\n",
    "    history = {'loss': [], 'accuracy': []}\n",
    "    \n",
    "    for epoch in range(epochs):\n",
    "        epoch_loss = 0\n",
    "        epoch_accuracy = 0\n",
    "        n_batches = 0\n",
    "        \n",
    "        # TODO: Shuffle data at the start of each epoch\n",
    "        # Hint: Use tf.random.shuffle() with the same indices for X and y\n",
    "        indices = tf.range(n_samples)\n",
    "        indices = tf.random.shuffle(indices)\n",
    "        X_shuffled = tf.gather(X, indices)\n",
    "        y_shuffled = tf.gather(y, indices)\n",
    "        \n",
    "        # TODO: Loop through mini-batches\n",
    "        for i in range(0, n_samples, batch_size):\n",
    "            # Get batch\n",
    "            end_idx = min(i + batch_size, n_samples)\n",
    "            X_batch = X_shuffled[i:end_idx]  \n",
    "            y_batch = y_shuffled[i:end_idx]\n",
    "            \n",
    "            # TODO: Forward pass\n",
    "            y_pred, cache = forward_pass(X_batch, W1, b1, W2, b2)\n",
    "            \n",
    "            # TODO: Compute loss\n",
    "            loss = cross_entropy_loss(y_batch, y_pred)\n",
    "            \n",
    "            # TODO: Backward pass\n",
    "            grads = backward_pass(y_batch, y_pred, cache, W2)\n",
    "            \n",
    "            # TODO: Update weights (gradient descent)\n",
    "            # W = W - learning_rate * dW\n",
    "            # Remember to use .assign_sub() for tf.Variable\n",
    "            \n",
    "            W1.assign_sub(learning_rate * grads['dW1'])\n",
    "            b1.assign_sub(learning_rate * grads['db1'])\n",
    "            W2.assign_sub(learning_rate * grads['dW2'])\n",
    "            b2.assign_sub(learning_rate * grads['db2'])\n",
    "            \n",
    "            # Track metrics\n",
    "            epoch_loss += loss\n",
    "            predictions = tf.argmax(y_pred, axis=1)\n",
    "            labels = tf.argmax(y_batch, axis=1)\n",
    "            accuracy = tf.reduce_mean(tf.cast(predictions == labels, tf.float32))\n",
    "            epoch_accuracy += accuracy\n",
    "            n_batches += 1\n",
    "        \n",
    "        # Average metrics\n",
    "        epoch_loss /= n_batches\n",
    "        epoch_accuracy /= n_batches\n",
    "        history['loss'].append(float(epoch_loss))\n",
    "        history['accuracy'].append(float(epoch_accuracy))\n",
    "        \n",
    "        print(f\"Epoch {epoch+1}/{epochs} - Loss: {epoch_loss:.4f} - Accuracy: {epoch_accuracy:.4f}\")\n",
    "    \n",
    "    return history"
   ]
  },
  {
   "cell_type": "code",
   "execution_count": 569,
   "id": "01b78215",
   "metadata": {},
   "outputs": [],
   "source": [
    "# ============================================\n",
    "# TODO 8: PUT IT ALL TOGETHER\n",
    "# ============================================"
   ]
  },
  {
   "cell_type": "code",
   "execution_count": 570,
   "id": "df3b5eab",
   "metadata": {},
   "outputs": [
    {
     "name": "stdout",
     "output_type": "stream",
     "text": [
      "\n",
      "============================================================\n",
      "🎯 FINAL CHALLENGE: Complete all TODOs above, then run training!\n",
      "============================================================\n"
     ]
    }
   ],
   "source": [
    "print(\"\\n\" + \"=\"*60)\n",
    "print(\"🎯 FINAL CHALLENGE: Complete all TODOs above, then run training!\")\n",
    "print(\"=\"*60)"
   ]
  },
  {
   "cell_type": "code",
   "execution_count": 571,
   "id": "9d17f5fb",
   "metadata": {},
   "outputs": [
    {
     "name": "stdout",
     "output_type": "stream",
     "text": [
      "\n",
      "🚀 Starting training...\n"
     ]
    },
    {
     "name": "stdout",
     "output_type": "stream",
     "text": [
      "Epoch 1/5 - Loss: 0.4652 - Accuracy: 0.8757\n",
      "Epoch 2/5 - Loss: 0.2586 - Accuracy: 0.9265\n",
      "Epoch 3/5 - Loss: 0.2101 - Accuracy: 0.9398\n",
      "Epoch 4/5 - Loss: 0.1770 - Accuracy: 0.9496\n",
      "Epoch 5/5 - Loss: 0.1527 - Accuracy: 0.9570\n",
      "✅ Saved training history to 'training_history.png'\n"
     ]
    },
    {
     "data": {
      "image/png": "[encoded data removed]",
      "text/plain": [
       "<Figure size 1200x400 with 2 Axes>"
      ]
     },
     "metadata": {},
     "output_type": "display_data"
    }
   ],
   "source": [
    "# Uncomment when you've completed all TODOs:\n",
    "print(\"\\n🚀 Starting training...\")\n",
    "history = train(x_train, y_train_onehot, W1, b1, W2, b2, \n",
    "                epochs=5, batch_size=128, learning_rate=0.1)\n",
    "\n",
    "# Plot training history\n",
    "plt.figure(figsize=(12, 4))\n",
    "plt.subplot(1, 2, 1)\n",
    "plt.plot(history['loss'])\n",
    "plt.title('Training Loss')\n",
    "plt.xlabel('Epoch')\n",
    "plt.ylabel('Loss')\n",
    "\n",
    "plt.subplot(1, 2, 2)\n",
    "plt.plot(history['accuracy'])\n",
    "plt.title('Training Accuracy')\n",
    "plt.xlabel('Epoch')\n",
    "plt.ylabel('Accuracy')\n",
    "plt.tight_layout()\n",
    "plt.savefig('training_history.png', dpi=150, bbox_inches='tight')\n",
    "print(\"✅ Saved training history to 'training_history.png'\")"
   ]
  },
  {
   "cell_type": "code",
   "execution_count": 572,
   "id": "cd515520",
   "metadata": {},
   "outputs": [
    {
     "name": "stdout",
     "output_type": "stream",
     "text": [
      "\n",
      "🎉 Test Accuracy: 0.9576\n"
     ]
    }
   ],
   "source": [
    "# Test on test set\n",
    "test_predictions, _ = forward_pass(x_test, W1, b1, W2, b2)\n",
    "test_pred_labels = tf.argmax(test_predictions, axis=1)\n",
    "test_true_labels = tf.argmax(y_test_onehot, axis=1)\n",
    "test_accuracy = tf.reduce_mean(tf.cast(test_pred_labels == test_true_labels, tf.float32))\n",
    "print(f\"\\n🎉 Test Accuracy: {test_accuracy:.4f}\")"
   ]
  },
  {
   "cell_type": "code",
   "execution_count": 573,
   "id": "5ade0a74",
   "metadata": {},
   "outputs": [
    {
     "name": "stdout",
     "output_type": "stream",
     "text": [
      "\n",
      "============================================================\n",
      "📝 DEBUGGING TIPS:\n",
      "============================================================\n",
      "\n",
      "If you get stuck:\n",
      "1. Check shapes! Use print(tensor.shape) everywhere\n",
      "2. Test each function individually before combining\n",
      "3. Start with a tiny batch (2-3 samples) to debug\n",
      "4. Expected results:\n",
      "   - Initial loss: ~2.3 (random guessing on 10 classes)\n",
      "   - After training: loss < 0.3, accuracy > 90%\n",
      "\n",
      "Common gotchas:\n",
      "- Forgetting to flatten images\n",
      "- Wrong matrix multiplication order (A @ B vs B @ A)\n",
      "- Not using tf.Variable for trainable parameters\n",
      "- Dividing by batch_size incorrectly\n",
      "\n"
     ]
    }
   ],
   "source": [
    "print(\"\\n\" + \"=\"*60)\n",
    "print(\"📝 DEBUGGING TIPS:\")\n",
    "print(\"=\"*60)\n",
    "print(\"\"\"\n",
    "If you get stuck:\n",
    "1. Check shapes! Use print(tensor.shape) everywhere\n",
    "2. Test each function individually before combining\n",
    "3. Start with a tiny batch (2-3 samples) to debug\n",
    "4. Expected results:\n",
    "   - Initial loss: ~2.3 (random guessing on 10 classes)\n",
    "   - After training: loss < 0.3, accuracy > 90%\n",
    "\n",
    "Common gotchas:\n",
    "- Forgetting to flatten images\n",
    "- Wrong matrix multiplication order (A @ B vs B @ A)\n",
    "- Not using tf.Variable for trainable parameters\n",
    "- Dividing by batch_size incorrectly\n",
    "\"\"\")"
   ]
  },
  {
   "cell_type": "markdown",
   "id": "18a552b0",
   "metadata": {},
   "source": [
    "## Conclusion"
   ]
  },
  {
   "cell_type": "markdown",
   "id": "2547b74d",
   "metadata": {},
   "source": [
    "# Day 2 Reflection: Building Neural Networks from Scratch\n",
    "\n",
    "## What I Built\n",
    "- 2-layer fully connected network (784 → 128 → 10)\n",
    "- Forward pass with ReLU and Softmax\n",
    "- Cross-entropy loss function\n",
    "- Backpropagation with chain rule\n",
    "- Mini-batch gradient descent\n",
    "- Achieved 95.76% test accuracy on MNIST\n",
    "\n",
    "## Key Learnings\n",
    "\n",
    "### Technical\n",
    "1. **tf.Variable vs Tensor**: Variables are mutable and trackable, tensors are immutable\n",
    "2. **Shape Management**: Always use axis=-1 and keepdims=True for broadcasting\n",
    "3. **Numerical Stability**: Add epsilon before log, subtract max before exp\n",
    "4. **Backprop Formula**: For softmax + cross-entropy, dL/dz = y_pred - y_true\n",
    "5. **Weight Updates**: Use .assign_sub() for in-place updates\n",
    "\n",
    "### Conceptual\n",
    "1. Backpropagation = systematic application of chain rule\n",
    "2. Neural networks = universal function approximators through composition\n",
    "3. Non-linearities (ReLU) = essential for learning complex patterns\n",
    "4. Batch processing = trade-off between speed and gradient accuracy\n",
    "\n",
    "## Challenges Overcome\n",
    "- TODO 6 (Backpropagation): Understanding gradient flow through layers\n",
    "- TODO 7 (Training Loop): Orchestrating all components together\n",
    "- Bug in loss function: Double negative sign (caught and fixed!)\n",
    "\n",
    "## What Surprised Me\n",
    "The network learned despite the loss display bug - because gradients were \n",
    "computed correctly! This shows that loss is just for monitoring; the real \n",
    "learning happens through backpropagation.\n",
    "\n",
    "## What's Next\n",
    "Tomorrow: See how Keras makes this 100x easier, then learn CNNs for better \n",
    "image understanding (moving from 96% to 99%+ accuracy)."
   ]
  }
 ],
 "metadata": {
  "kernelspec": {
   "display_name": "Gen_AI (3.12.10)",
   "language": "python",
   "name": "python3"
  },
  "language_info": {
   "codemirror_mode": {
    "name": "ipython",
    "version": 3
   },
   "file_extension": ".py",
   "mimetype": "text/x-python",
   "name": "python",
   "nbconvert_exporter": "python",
   "pygments_lexer": "ipython3",
   "version": "3.12.10"
  }
 },
 "nbformat": 4,
 "nbformat_minor": 5
}
