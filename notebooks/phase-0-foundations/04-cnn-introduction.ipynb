{
 "cells": [
  {
   "cell_type": "markdown",
   "id": "03705980",
   "metadata": {},
   "source": [
    "# 📋 Today's Battle Plan: CNN Implementation\n",
    "## 🎯 Mission: Push from 97% → 99%+\n",
    "- Total Time: 2-2.5 hours\n",
    "- Current Accuracy: 97% (Dense + Adam)\n",
    "- Target Accuracy: 99%+ (CNN)"
   ]
  },
  {
   "cell_type": "markdown",
   "id": "8e2f73d9",
   "metadata": {},
   "source": [
    "## 📊 Session Breakdown\n",
    "### Part 1: Quick Theory Recap (10 min)\n",
    "\"Let's refresh what we learned yesterday\"\n",
    "Quick Q&A to cement understanding:\n",
    "\n",
    "- What does convolution do?\n",
    "- Why pooling?\n",
    "- How does a CNN \"see\" an image differently than dense network?\n",
    "\n",
    "### Part 2: Build Your First CNN (45 min)\n",
    "\"Code first, iterate fast!\"\n",
    "\n",
    "**The Plan:**\n",
    "\n",
    "1. Simple CNN (10 lines in Keras!)\n",
    "\n",
    "    ```\n",
    "        Conv2D → MaxPool → Conv2D → MaxPool → Dense → Output\n",
    "    ```\n",
    "\n",
    "2. Train and compare to your dense network\n",
    "3. Watch accuracy jump to 99%+\n",
    "\n",
    "### Part 3: Visualize What CNN Learned (30 min)\n",
    "\"See the magic happening\"\n",
    "\n",
    "1. Visualize filters - What patterns did Layer 1 learn?\n",
    "2. Feature maps - How does the network \"see\" a digit?\n",
    "3. Intermediate activations - What happens at each layer?\n",
    "\n",
    "This is where theory becomes **tangible!**\n",
    "\n",
    "### Part 4: Experiments & Optimization (30 min)\n",
    "\"Make it even better!\"\n",
    "Try:\n",
    "\n",
    "- Different architectures (more layers? different filter sizes?)\n",
    "- Data augmentation (rotation, zoom, shift)\n",
    "- Dropout for regularization\n",
    "- Batch normalization\n",
    "\n",
    "**Goal:** Push accuracy as high as possible!\n",
    "\n",
    "### Part 5: Dense vs CNN Battle (15 min)\n",
    "\"Side-by-side comparison\"\n",
    "\n",
    "Create a comparison table:\n",
    "\n",
    "- Accuracy\n",
    "- Parameters\n",
    "- Training time\n",
    "- Confusion matrices\n",
    "\n",
    "**Declare the winner! 🏆**"
   ]
  },
  {
   "cell_type": "markdown",
   "id": "e5810d9c",
   "metadata": {},
   "source": [
    "**Keep this snippet handy while building**\n",
    "\n",
    "```py\n",
    "# Data Preprocessing\n",
    "x_train.reshape(-1, 28, 28, 1)  # Add channel dimension\n",
    "x_train.astype('float32') / 255.0  # Normalize\n",
    "keras.utils.to_categorical(y, 10)  # One-hot encode\n",
    "\n",
    "# CNN Layers\n",
    "Conv2D(filters, (kernel_h, kernel_w), activation='relu', input_shape=(h,w,c))\n",
    "MaxPooling2D((pool_h, pool_w))\n",
    "Flatten()\n",
    "Dense(units, activation='relu')\n",
    "Dense(10, activation='softmax')\n",
    "\n",
    "# Compile & Train\n",
    "model.compile(optimizer='adam', loss='categorical_crossentropy', metrics=['accuracy'])\n",
    "model.fit(x, y, epochs=5, batch_size=128, validation_split=0.1)\n",
    "model.evaluate(x_test, y_test)\n",
    "```"
   ]
  },
  {
   "cell_type": "markdown",
   "id": "615ce665",
   "metadata": {},
   "source": [
    "### Building the first CNN network"
   ]
  },
  {
   "cell_type": "code",
   "execution_count": 102,
   "id": "b9460617",
   "metadata": {},
   "outputs": [
    {
     "data": {
      "text/plain": [
       "'\\nCNN CHALLENGE: Build Your First Convolutional Neural Network\\n\\nGoal: Push accuracy from 97% (Dense) → 99%+ (CNN)\\n\\nArchitecture to build:\\nInput (28×28×1) → Conv2D → MaxPool → Conv2D → MaxPool → Flatten → Dense → Output\\n\\nYour job: Fill in the TODOs!\\n\\n'"
      ]
     },
     "execution_count": 102,
     "metadata": {},
     "output_type": "execute_result"
    }
   ],
   "source": [
    "\"\"\"\n",
    "CNN CHALLENGE: Build Your First Convolutional Neural Network\n",
    "\n",
    "Goal: Push accuracy from 97% (Dense) → 99%+ (CNN)\n",
    "\n",
    "Architecture to build:\n",
    "Input (28×28×1) → Conv2D → MaxPool → Conv2D → MaxPool → Flatten → Dense → Output\n",
    "\n",
    "Your job: Fill in the TODOs!\n",
    "\n",
    "\"\"\""
   ]
  },
  {
   "cell_type": "code",
   "execution_count": 103,
   "id": "e42721d7",
   "metadata": {},
   "outputs": [
    {
     "name": "stdout",
     "output_type": "stream",
     "text": [
      "TensorFlow version: 2.20.0\n"
     ]
    }
   ],
   "source": [
    "import tensorflow as tf\n",
    "from tensorflow import keras\n",
    "import numpy as np\n",
    "import matplotlib.pyplot as plt\n",
    "\n",
    "print(f\"TensorFlow version: {tf.__version__}\")"
   ]
  },
  {
   "cell_type": "code",
   "execution_count": 104,
   "id": "12ea7d8f",
   "metadata": {},
   "outputs": [],
   "source": [
    "# ============================================\n",
    "# PART 1: LOAD & PREPROCESS DATA\n",
    "# ============================================"
   ]
  },
  {
   "cell_type": "code",
   "execution_count": 105,
   "id": "1c67b696",
   "metadata": {},
   "outputs": [
    {
     "name": "stdout",
     "output_type": "stream",
     "text": [
      "\n",
      "============================================================\n",
      "Loading MNIST Dataset\n",
      "============================================================\n"
     ]
    }
   ],
   "source": [
    "print(\"\\n\" + \"=\"*60)\n",
    "print(\"Loading MNIST Dataset\")\n",
    "print(\"=\"*60)"
   ]
  },
  {
   "cell_type": "code",
   "execution_count": 106,
   "id": "66e0a3f4",
   "metadata": {},
   "outputs": [],
   "source": [
    "(x_train, y_train), (x_test, y_test) = keras.datasets.mnist.load_data()"
   ]
  },
  {
   "cell_type": "code",
   "execution_count": 107,
   "id": "7bf23600",
   "metadata": {},
   "outputs": [],
   "source": [
    "# TODO 1: PREPROCESS DATA FOR CNN\n",
    "# Unlike dense networks, CNNs need:\n",
    "# - Images in (height, width, channels) format\n",
    "# - Normalization to [0, 1]\n",
    "# - One-hot encoded labels"
   ]
  },
  {
   "cell_type": "code",
   "execution_count": 108,
   "id": "92515967",
   "metadata": {},
   "outputs": [],
   "source": [
    "# Reshape to add channel dimension (grayscale = 1 channel)\n",
    "x_train = x_train.reshape(-1, 28, 28, 1) # Add channel dimension\n",
    "x_test = x_test.reshape(-1, 28, 28, 1)"
   ]
  },
  {
   "cell_type": "code",
   "execution_count": 109,
   "id": "02764763",
   "metadata": {},
   "outputs": [],
   "source": [
    "# Normalize to [0, 1]\n",
    "x_train = x_train.astype('float32') / 255.0\n",
    "x_test = x_test.astype('float32') / 255.0"
   ]
  },
  {
   "cell_type": "code",
   "execution_count": 110,
   "id": "a6ed4c66",
   "metadata": {},
   "outputs": [],
   "source": [
    "# One-hot encode labels\n",
    "y_train_onehot = keras.utils.to_categorical(y_train, 10)  # One-hot encode\n",
    "y_test_onehot = keras.utils.to_categorical(y_test, 10)"
   ]
  },
  {
   "cell_type": "code",
   "execution_count": 111,
   "id": "2b6b36bb",
   "metadata": {},
   "outputs": [
    {
     "name": "stdout",
     "output_type": "stream",
     "text": [
      "\n",
      "✓ x_train shape: (60000, 28, 28, 1)\n",
      "✓ x_test shape: (10000, 28, 28, 1)\n",
      "✓ y_train shape: (60000, 10)\n",
      "✓ Pixel range: [0.0, 1.0]\n"
     ]
    }
   ],
   "source": [
    "print(f\"\\n✓ x_train shape: {x_train.shape}\")  # Should be (60000, 28, 28, 1)\n",
    "print(f\"✓ x_test shape: {x_test.shape}\")      # Should be (10000, 28, 28, 1)\n",
    "print(f\"✓ y_train shape: {y_train_onehot.shape}\")  # Should be (60000, 10)\n",
    "print(f\"✓ Pixel range: [{x_train.min()}, {x_train.max()}]\")  # Should be [0.0, 1.0]"
   ]
  },
  {
   "cell_type": "code",
   "execution_count": 112,
   "id": "9e536430",
   "metadata": {},
   "outputs": [],
   "source": [
    "# ============================================\n",
    "# TODO 2: BUILD CNN ARCHITECTURE\n",
    "# ============================================"
   ]
  },
  {
   "cell_type": "code",
   "execution_count": 113,
   "id": "0e2b0a56",
   "metadata": {},
   "outputs": [
    {
     "name": "stdout",
     "output_type": "stream",
     "text": [
      "\n",
      "============================================================\n",
      "🎯 CHALLENGE: Build Your CNN!\n",
      "============================================================\n"
     ]
    }
   ],
   "source": [
    "print(\"\\n\" + \"=\"*60)\n",
    "print(\"🎯 CHALLENGE: Build Your CNN!\")\n",
    "print(\"=\"*60)"
   ]
  },
  {
   "cell_type": "code",
   "execution_count": 114,
   "id": "9a2606e7",
   "metadata": {},
   "outputs": [
    {
     "data": {
      "text/plain": [
       "\"\\nArchitecture Reference (from yesterday's theory):\\n\\nInput (28×28×1)\\n    ↓\\nConv2D (32 filters, 3×3) + ReLU → Output: 26×26×32\\n    ↓\\nMaxPool (2×2) → Output: 13×13×32\\n    ↓\\nConv2D (64 filters, 3×3) + ReLU → Output: 11×11×64\\n    ↓\\nMaxPool (2×2) → Output: 5×5×64\\n    ↓\\nFlatten → Output: 1600\\n    ↓\\nDense (128) + ReLU\\n    ↓\\nDense (10) + Softmax\\n    ↓\\nOutput (10 classes)\\n\\n\""
      ]
     },
     "execution_count": 114,
     "metadata": {},
     "output_type": "execute_result"
    }
   ],
   "source": [
    "\"\"\"\n",
    "Architecture Reference (from yesterday's theory):\n",
    "\n",
    "Input (28×28×1)\n",
    "    ↓\n",
    "Conv2D (32 filters, 3×3) + ReLU → Output: 26×26×32\n",
    "    ↓\n",
    "MaxPool (2×2) → Output: 13×13×32\n",
    "    ↓\n",
    "Conv2D (64 filters, 3×3) + ReLU → Output: 11×11×64\n",
    "    ↓\n",
    "MaxPool (2×2) → Output: 5×5×64\n",
    "    ↓\n",
    "Flatten → Output: 1600\n",
    "    ↓\n",
    "Dense (128) + ReLU\n",
    "    ↓\n",
    "Dense (10) + Softmax\n",
    "    ↓\n",
    "Output (10 classes)\n",
    "\n",
    "\"\"\""
   ]
  },
  {
   "cell_type": "code",
   "execution_count": 115,
   "id": "604f796f",
   "metadata": {},
   "outputs": [],
   "source": [
    "model = keras.Sequential([\n",
    "    keras.layers.Conv2D(filters=32, kernel_size=(3,3), activation='relu', input_shape=(28, 28, 1)),\n",
    "    keras.layers.MaxPooling2D(pool_size=(2, 2)),\n",
    "    keras.layers.Conv2D(filters=64, kernel_size=(3,3), activation='relu'),\n",
    "    keras.layers.MaxPooling2D(pool_size=(2, 2)),\n",
    "    keras.layers.Flatten(),\n",
    "    keras.layers.Dense(units=128, activation='relu'),\n",
    "    keras.layers.Dense(units=10, activation='softmax')\n",
    "])"
   ]
  },
  {
   "cell_type": "markdown",
   "id": "b9093138",
   "metadata": {},
   "source": [
    "TODO: Optimize the above code"
   ]
  },
  {
   "cell_type": "code",
   "execution_count": 116,
   "id": "0a94930a",
   "metadata": {},
   "outputs": [
    {
     "name": "stdout",
     "output_type": "stream",
     "text": [
      "\n",
      "🏗️  CNN Architecture:\n"
     ]
    },
    {
     "data": {
      "text/html": [
       "<pre style=\"white-space:pre;overflow-x:auto;line-height:normal;font-family:Menlo,'DejaVu Sans Mono',consolas,'Courier New',monospace\"><span style=\"font-weight: bold\">Model: \"sequential\"</span>\n",
       "</pre>\n"
      ],
      "text/plain": [
       "\u001b[1mModel: \"sequential\"\u001b[0m\n"
      ]
     },
     "metadata": {},
     "output_type": "display_data"
    },
    {
     "data": {
      "text/html": [
       "<pre style=\"white-space:pre;overflow-x:auto;line-height:normal;font-family:Menlo,'DejaVu Sans Mono',consolas,'Courier New',monospace\">┏━━━━━━━━━━━━━━━━━━━━━━━━━━━━━━━━━┳━━━━━━━━━━━━━━━━━━━━━━━━┳━━━━━━━━━━━━━━━┓\n",
       "┃<span style=\"font-weight: bold\"> Layer (type)                    </span>┃<span style=\"font-weight: bold\"> Output Shape           </span>┃<span style=\"font-weight: bold\">       Param # </span>┃\n",
       "┡━━━━━━━━━━━━━━━━━━━━━━━━━━━━━━━━━╇━━━━━━━━━━━━━━━━━━━━━━━━╇━━━━━━━━━━━━━━━┩\n",
       "│ conv2d (<span style=\"color: #0087ff; text-decoration-color: #0087ff\">Conv2D</span>)                 │ (<span style=\"color: #00d7ff; text-decoration-color: #00d7ff\">None</span>, <span style=\"color: #00af00; text-decoration-color: #00af00\">26</span>, <span style=\"color: #00af00; text-decoration-color: #00af00\">26</span>, <span style=\"color: #00af00; text-decoration-color: #00af00\">32</span>)     │           <span style=\"color: #00af00; text-decoration-color: #00af00\">320</span> │\n",
       "├─────────────────────────────────┼────────────────────────┼───────────────┤\n",
       "│ max_pooling2d (<span style=\"color: #0087ff; text-decoration-color: #0087ff\">MaxPooling2D</span>)    │ (<span style=\"color: #00d7ff; text-decoration-color: #00d7ff\">None</span>, <span style=\"color: #00af00; text-decoration-color: #00af00\">13</span>, <span style=\"color: #00af00; text-decoration-color: #00af00\">13</span>, <span style=\"color: #00af00; text-decoration-color: #00af00\">32</span>)     │             <span style=\"color: #00af00; text-decoration-color: #00af00\">0</span> │\n",
       "├─────────────────────────────────┼────────────────────────┼───────────────┤\n",
       "│ conv2d_1 (<span style=\"color: #0087ff; text-decoration-color: #0087ff\">Conv2D</span>)               │ (<span style=\"color: #00d7ff; text-decoration-color: #00d7ff\">None</span>, <span style=\"color: #00af00; text-decoration-color: #00af00\">11</span>, <span style=\"color: #00af00; text-decoration-color: #00af00\">11</span>, <span style=\"color: #00af00; text-decoration-color: #00af00\">64</span>)     │        <span style=\"color: #00af00; text-decoration-color: #00af00\">18,496</span> │\n",
       "├─────────────────────────────────┼────────────────────────┼───────────────┤\n",
       "│ max_pooling2d_1 (<span style=\"color: #0087ff; text-decoration-color: #0087ff\">MaxPooling2D</span>)  │ (<span style=\"color: #00d7ff; text-decoration-color: #00d7ff\">None</span>, <span style=\"color: #00af00; text-decoration-color: #00af00\">5</span>, <span style=\"color: #00af00; text-decoration-color: #00af00\">5</span>, <span style=\"color: #00af00; text-decoration-color: #00af00\">64</span>)       │             <span style=\"color: #00af00; text-decoration-color: #00af00\">0</span> │\n",
       "├─────────────────────────────────┼────────────────────────┼───────────────┤\n",
       "│ flatten (<span style=\"color: #0087ff; text-decoration-color: #0087ff\">Flatten</span>)               │ (<span style=\"color: #00d7ff; text-decoration-color: #00d7ff\">None</span>, <span style=\"color: #00af00; text-decoration-color: #00af00\">1600</span>)           │             <span style=\"color: #00af00; text-decoration-color: #00af00\">0</span> │\n",
       "├─────────────────────────────────┼────────────────────────┼───────────────┤\n",
       "│ dense (<span style=\"color: #0087ff; text-decoration-color: #0087ff\">Dense</span>)                   │ (<span style=\"color: #00d7ff; text-decoration-color: #00d7ff\">None</span>, <span style=\"color: #00af00; text-decoration-color: #00af00\">128</span>)            │       <span style=\"color: #00af00; text-decoration-color: #00af00\">204,928</span> │\n",
       "├─────────────────────────────────┼────────────────────────┼───────────────┤\n",
       "│ dense_1 (<span style=\"color: #0087ff; text-decoration-color: #0087ff\">Dense</span>)                 │ (<span style=\"color: #00d7ff; text-decoration-color: #00d7ff\">None</span>, <span style=\"color: #00af00; text-decoration-color: #00af00\">10</span>)             │         <span style=\"color: #00af00; text-decoration-color: #00af00\">1,290</span> │\n",
       "└─────────────────────────────────┴────────────────────────┴───────────────┘\n",
       "</pre>\n"
      ],
      "text/plain": [
       "┏━━━━━━━━━━━━━━━━━━━━━━━━━━━━━━━━━┳━━━━━━━━━━━━━━━━━━━━━━━━┳━━━━━━━━━━━━━━━┓\n",
       "┃\u001b[1m \u001b[0m\u001b[1mLayer (type)                   \u001b[0m\u001b[1m \u001b[0m┃\u001b[1m \u001b[0m\u001b[1mOutput Shape          \u001b[0m\u001b[1m \u001b[0m┃\u001b[1m \u001b[0m\u001b[1m      Param #\u001b[0m\u001b[1m \u001b[0m┃\n",
       "┡━━━━━━━━━━━━━━━━━━━━━━━━━━━━━━━━━╇━━━━━━━━━━━━━━━━━━━━━━━━╇━━━━━━━━━━━━━━━┩\n",
       "│ conv2d (\u001b[38;5;33mConv2D\u001b[0m)                 │ (\u001b[38;5;45mNone\u001b[0m, \u001b[38;5;34m26\u001b[0m, \u001b[38;5;34m26\u001b[0m, \u001b[38;5;34m32\u001b[0m)     │           \u001b[38;5;34m320\u001b[0m │\n",
       "├─────────────────────────────────┼────────────────────────┼───────────────┤\n",
       "│ max_pooling2d (\u001b[38;5;33mMaxPooling2D\u001b[0m)    │ (\u001b[38;5;45mNone\u001b[0m, \u001b[38;5;34m13\u001b[0m, \u001b[38;5;34m13\u001b[0m, \u001b[38;5;34m32\u001b[0m)     │             \u001b[38;5;34m0\u001b[0m │\n",
       "├─────────────────────────────────┼────────────────────────┼───────────────┤\n",
       "│ conv2d_1 (\u001b[38;5;33mConv2D\u001b[0m)               │ (\u001b[38;5;45mNone\u001b[0m, \u001b[38;5;34m11\u001b[0m, \u001b[38;5;34m11\u001b[0m, \u001b[38;5;34m64\u001b[0m)     │        \u001b[38;5;34m18,496\u001b[0m │\n",
       "├─────────────────────────────────┼────────────────────────┼───────────────┤\n",
       "│ max_pooling2d_1 (\u001b[38;5;33mMaxPooling2D\u001b[0m)  │ (\u001b[38;5;45mNone\u001b[0m, \u001b[38;5;34m5\u001b[0m, \u001b[38;5;34m5\u001b[0m, \u001b[38;5;34m64\u001b[0m)       │             \u001b[38;5;34m0\u001b[0m │\n",
       "├─────────────────────────────────┼────────────────────────┼───────────────┤\n",
       "│ flatten (\u001b[38;5;33mFlatten\u001b[0m)               │ (\u001b[38;5;45mNone\u001b[0m, \u001b[38;5;34m1600\u001b[0m)           │             \u001b[38;5;34m0\u001b[0m │\n",
       "├─────────────────────────────────┼────────────────────────┼───────────────┤\n",
       "│ dense (\u001b[38;5;33mDense\u001b[0m)                   │ (\u001b[38;5;45mNone\u001b[0m, \u001b[38;5;34m128\u001b[0m)            │       \u001b[38;5;34m204,928\u001b[0m │\n",
       "├─────────────────────────────────┼────────────────────────┼───────────────┤\n",
       "│ dense_1 (\u001b[38;5;33mDense\u001b[0m)                 │ (\u001b[38;5;45mNone\u001b[0m, \u001b[38;5;34m10\u001b[0m)             │         \u001b[38;5;34m1,290\u001b[0m │\n",
       "└─────────────────────────────────┴────────────────────────┴───────────────┘\n"
      ]
     },
     "metadata": {},
     "output_type": "display_data"
    },
    {
     "data": {
      "text/html": [
       "<pre style=\"white-space:pre;overflow-x:auto;line-height:normal;font-family:Menlo,'DejaVu Sans Mono',consolas,'Courier New',monospace\"><span style=\"font-weight: bold\"> Total params: </span><span style=\"color: #00af00; text-decoration-color: #00af00\">225,034</span> (879.04 KB)\n",
       "</pre>\n"
      ],
      "text/plain": [
       "\u001b[1m Total params: \u001b[0m\u001b[38;5;34m225,034\u001b[0m (879.04 KB)\n"
      ]
     },
     "metadata": {},
     "output_type": "display_data"
    },
    {
     "data": {
      "text/html": [
       "<pre style=\"white-space:pre;overflow-x:auto;line-height:normal;font-family:Menlo,'DejaVu Sans Mono',consolas,'Courier New',monospace\"><span style=\"font-weight: bold\"> Trainable params: </span><span style=\"color: #00af00; text-decoration-color: #00af00\">225,034</span> (879.04 KB)\n",
       "</pre>\n"
      ],
      "text/plain": [
       "\u001b[1m Trainable params: \u001b[0m\u001b[38;5;34m225,034\u001b[0m (879.04 KB)\n"
      ]
     },
     "metadata": {},
     "output_type": "display_data"
    },
    {
     "data": {
      "text/html": [
       "<pre style=\"white-space:pre;overflow-x:auto;line-height:normal;font-family:Menlo,'DejaVu Sans Mono',consolas,'Courier New',monospace\"><span style=\"font-weight: bold\"> Non-trainable params: </span><span style=\"color: #00af00; text-decoration-color: #00af00\">0</span> (0.00 B)\n",
       "</pre>\n"
      ],
      "text/plain": [
       "\u001b[1m Non-trainable params: \u001b[0m\u001b[38;5;34m0\u001b[0m (0.00 B)\n"
      ]
     },
     "metadata": {},
     "output_type": "display_data"
    }
   ],
   "source": [
    "print(\"\\n🏗️  CNN Architecture:\")\n",
    "model.summary()"
   ]
  },
  {
   "cell_type": "code",
   "execution_count": 117,
   "id": "4743c097",
   "metadata": {},
   "outputs": [],
   "source": [
    "# ============================================\n",
    "# TODO 3: COMPILE MODEL\n",
    "# ============================================"
   ]
  },
  {
   "cell_type": "code",
   "execution_count": 118,
   "id": "918e9e98",
   "metadata": {},
   "outputs": [
    {
     "name": "stdout",
     "output_type": "stream",
     "text": [
      "\n",
      "============================================================\n",
      "Compiling Model\n",
      "============================================================\n"
     ]
    }
   ],
   "source": [
    "print(\"\\n\" + \"=\"*60)\n",
    "print(\"Compiling Model\")\n",
    "print(\"=\"*60)"
   ]
  },
  {
   "cell_type": "code",
   "execution_count": 119,
   "id": "8047d06b",
   "metadata": {},
   "outputs": [
    {
     "name": "stdout",
     "output_type": "stream",
     "text": [
      "✓ Model Compiled!\n"
     ]
    }
   ],
   "source": [
    "model.compile(optimizer='adam', loss='categorical_crossentropy', metrics=['accuracy'])\n",
    "print(\"✓ Model Compiled!\")"
   ]
  },
  {
   "cell_type": "code",
   "execution_count": 120,
   "id": "b1e665b8",
   "metadata": {},
   "outputs": [],
   "source": [
    "# ============================================\n",
    "# TODO 4: TRAIN MODEL\n",
    "# ============================================"
   ]
  },
  {
   "cell_type": "code",
   "execution_count": 121,
   "id": "83c095ed",
   "metadata": {},
   "outputs": [
    {
     "name": "stdout",
     "output_type": "stream",
     "text": [
      "\n",
      "============================================================\n",
      "🚀 Training CNN\n",
      "============================================================\n"
     ]
    }
   ],
   "source": [
    "print(\"\\n\" + \"=\"*60)\n",
    "print(\"🚀 Training CNN\")\n",
    "print(\"=\"*60)"
   ]
  },
  {
   "cell_type": "code",
   "execution_count": null,
   "id": "ac142034",
   "metadata": {},
   "outputs": [
    {
     "name": "stdout",
     "output_type": "stream",
     "text": [
      "Epoch 1/5\n",
      "\u001b[1m422/422\u001b[0m \u001b[32m━━━━━━━━━━━━━━━━━━━━\u001b[0m\u001b[37m\u001b[0m \u001b[1m19s\u001b[0m 36ms/step - accuracy: 0.9329 - loss: 0.2335 - val_accuracy: 0.9778 - val_loss: 0.0727\n",
      "Epoch 2/5\n",
      "\u001b[1m422/422\u001b[0m \u001b[32m━━━━━━━━━━━━━━━━━━━━\u001b[0m\u001b[37m\u001b[0m \u001b[1m13s\u001b[0m 31ms/step - accuracy: 0.9809 - loss: 0.0610 - val_accuracy: 0.9848 - val_loss: 0.0475\n",
      "Epoch 3/5\n",
      "\u001b[1m422/422\u001b[0m \u001b[32m━━━━━━━━━━━━━━━━━━━━\u001b[0m\u001b[37m\u001b[0m \u001b[1m14s\u001b[0m 32ms/step - accuracy: 0.9877 - loss: 0.0396 - val_accuracy: 0.9888 - val_loss: 0.0354\n",
      "Epoch 4/5\n",
      "\u001b[1m422/422\u001b[0m \u001b[32m━━━━━━━━━━━━━━━━━━━━\u001b[0m\u001b[37m\u001b[0m \u001b[1m16s\u001b[0m 39ms/step - accuracy: 0.9901 - loss: 0.0306 - val_accuracy: 0.9872 - val_loss: 0.0414\n",
      "Epoch 5/5\n",
      "\u001b[1m422/422\u001b[0m \u001b[32m━━━━━━━━━━━━━━━━━━━━\u001b[0m\u001b[37m\u001b[0m \u001b[1m20s\u001b[0m 38ms/step - accuracy: 0.9918 - loss: 0.0249 - val_accuracy: 0.9905 - val_loss: 0.0341\n"
     ]
    }
   ],
   "source": [
    "history = model.fit(\n",
    "    x_train, \n",
    "    y_train_onehot, \n",
    "    epochs=5, \n",
    "    batch_size=128, \n",
    "    validation_split=0.1\n",
    ")"
   ]
  },
  {
   "cell_type": "code",
   "execution_count": 123,
   "id": "8f1405fa",
   "metadata": {},
   "outputs": [],
   "source": [
    "# ============================================\n",
    "# TODO 5: EVALUATE MODEL\n",
    "# ============================================"
   ]
  },
  {
   "cell_type": "code",
   "execution_count": 124,
   "id": "695f1202",
   "metadata": {},
   "outputs": [
    {
     "name": "stdout",
     "output_type": "stream",
     "text": [
      "\n",
      "============================================================\n",
      "Evaluating CNN\n",
      "============================================================\n"
     ]
    }
   ],
   "source": [
    "print(\"\\n\" + \"=\"*60)\n",
    "print(\"Evaluating CNN\")\n",
    "print(\"=\"*60)"
   ]
  },
  {
   "cell_type": "code",
   "execution_count": 125,
   "id": "a6d3b7db",
   "metadata": {},
   "outputs": [
    {
     "name": "stdout",
     "output_type": "stream",
     "text": [
      "\u001b[1m313/313\u001b[0m \u001b[32m━━━━━━━━━━━━━━━━━━━━\u001b[0m\u001b[37m\u001b[0m \u001b[1m2s\u001b[0m 6ms/step - accuracy: 0.9901 - loss: 0.0296\n",
      "\n",
      "🎉 CNN Test Accuracy: 99.01%\n",
      "Dense Network (Day 3): 97.00%\n",
      "Improvement: +2.01%\n"
     ]
    }
   ],
   "source": [
    "test_loss, test_accuracy = model.evaluate(x_test, y_test_onehot)\n",
    "\n",
    "print(f\"\\n🎉 CNN Test Accuracy: {test_accuracy*100:.2f}%\")\n",
    "print(f\"Dense Network (Day 3): 97.00%\")\n",
    "print(f\"Improvement: +{(test_accuracy*100 - 97.0):.2f}%\")"
   ]
  },
  {
   "cell_type": "code",
   "execution_count": 126,
   "id": "0a6eaeea",
   "metadata": {},
   "outputs": [],
   "source": [
    "# ============================================\n",
    "# PART 6: VISUALIZE TRAINING (After you complete TODOs)\n",
    "# ============================================"
   ]
  },
  {
   "cell_type": "code",
   "execution_count": 127,
   "id": "af9c24cf",
   "metadata": {},
   "outputs": [
    {
     "name": "stdout",
     "output_type": "stream",
     "text": [
      "\n",
      "============================================================\n",
      "📊 Visualizing Training\n",
      "============================================================\n"
     ]
    }
   ],
   "source": [
    "print(\"\\n\" + \"=\"*60)\n",
    "print(\"📊 Visualizing Training\")\n",
    "print(\"=\"*60)"
   ]
  },
  {
   "cell_type": "code",
   "execution_count": 128,
   "id": "9fb656df",
   "metadata": {},
   "outputs": [
    {
     "name": "stdout",
     "output_type": "stream",
     "text": [
      "✓ Saved to 'cnn_training_history.png'\n"
     ]
    },
    {
     "data": {
      "image/png": "[encoded data removed]",
      "text/plain": [
       "<Figure size 1400x500 with 2 Axes>"
      ]
     },
     "metadata": {},
     "output_type": "display_data"
    }
   ],
   "source": [
    "fig, axes = plt.subplots(1, 2, figsize=(14, 5))\n",
    "\n",
    "# Loss\n",
    "axes[0].plot(history.history['loss'], label='Training Loss', linewidth=2)\n",
    "axes[0].plot(history.history['val_loss'], label='Validation Loss', linewidth=2)\n",
    "axes[0].set_xlabel('Epoch', fontsize=12)\n",
    "axes[0].set_ylabel('Loss', fontsize=12)\n",
    "axes[0].set_title('CNN Loss Over Time', fontsize=14, fontweight='bold')\n",
    "axes[0].legend()\n",
    "axes[0].grid(True, alpha=0.3)\n",
    "\n",
    "# Accuracy\n",
    "axes[1].plot(history.history['accuracy'], label='Training Accuracy', linewidth=2)\n",
    "axes[1].plot(history.history['val_accuracy'], label='Validation Accuracy', linewidth=2)\n",
    "axes[1].set_xlabel('Epoch', fontsize=12)\n",
    "axes[1].set_ylabel('Accuracy', fontsize=12)\n",
    "axes[1].set_title('CNN Accuracy Over Time', fontsize=14, fontweight='bold')\n",
    "axes[1].legend()\n",
    "axes[1].grid(True, alpha=0.3)\n",
    "\n",
    "plt.tight_layout()\n",
    "plt.savefig('cnn_training_history.png', dpi=150, bbox_inches='tight')\n",
    "print(\"✓ Saved to 'cnn_training_history.png'\")\n",
    "plt.show()\n",
    "plt.close()"
   ]
  },
  {
   "cell_type": "code",
   "execution_count": 129,
   "id": "ee5f21bc",
   "metadata": {},
   "outputs": [],
   "source": [
    "# ============================================\n",
    "# PART 7: COMPARE PREDICTIONS\n",
    "# ============================================"
   ]
  },
  {
   "cell_type": "code",
   "execution_count": 130,
   "id": "44a7ad4d",
   "metadata": {},
   "outputs": [
    {
     "name": "stdout",
     "output_type": "stream",
     "text": [
      "\n",
      "============================================================\n",
      "🔍 Sample Predictions\n",
      "============================================================\n"
     ]
    }
   ],
   "source": [
    "print(\"\\n\" + \"=\"*60)\n",
    "print(\"🔍 Sample Predictions\")\n",
    "print(\"=\"*60)"
   ]
  },
  {
   "cell_type": "code",
   "execution_count": 131,
   "id": "fa234506",
   "metadata": {},
   "outputs": [
    {
     "name": "stdout",
     "output_type": "stream",
     "text": [
      "WARNING:tensorflow:5 out of the last 5 calls to <function TensorFlowTrainer.make_predict_function.<locals>.one_step_on_data_distributed at 0x000001B20E70AC00> triggered tf.function retracing. Tracing is expensive and the excessive number of tracings could be due to (1) creating @tf.function repeatedly in a loop, (2) passing tensors with different shapes, (3) passing Python objects instead of tensors. For (1), please define your @tf.function outside of the loop. For (2), @tf.function has reduce_retracing=True option that can avoid unnecessary retracing. For (3), please refer to https://www.tensorflow.org/guide/function#controlling_retracing and https://www.tensorflow.org/api_docs/python/tf/function for  more details.\n",
      "✓ Saved to 'cnn_predictions.png'\n"
     ]
    },
    {
     "data": {
      "image/png": "[encoded data removed]",
      "text/plain": [
       "<Figure size 1500x600 with 10 Axes>"
      ]
     },
     "metadata": {},
     "output_type": "display_data"
    }
   ],
   "source": [
    "predictions = model.predict(x_test[:10], verbose=0)\n",
    "predicted_classes = np.argmax(predictions, axis=1)\n",
    "true_classes = y_test[:10]\n",
    "\n",
    "fig, axes = plt.subplots(2, 5, figsize=(15, 6))\n",
    "axes = axes.ravel()\n",
    "\n",
    "for i in range(10):\n",
    "    axes[i].imshow(x_test[i].reshape(28, 28), cmap='gray')\n",
    "    is_correct = predicted_classes[i] == true_classes[i]\n",
    "    color = 'green' if is_correct else 'red'\n",
    "    axes[i].set_title(f'True: {true_classes[i]} | Pred: {predicted_classes[i]}',\n",
    "                     color=color, fontweight='bold')\n",
    "    axes[i].axis('off')\n",
    "\n",
    "plt.tight_layout()\n",
    "plt.savefig('cnn_predictions.png', dpi=150, bbox_inches='tight')\n",
    "print(\"✓ Saved to 'cnn_predictions.png'\")\n",
    "plt.show()\n",
    "plt.close()"
   ]
  },
  {
   "cell_type": "code",
   "execution_count": 132,
   "id": "e02067a5",
   "metadata": {},
   "outputs": [],
   "source": [
    "# ============================================\n",
    "# DEBUGGING HELPER\n",
    "# ============================================"
   ]
  },
  {
   "cell_type": "code",
   "execution_count": 133,
   "id": "491298e5",
   "metadata": {},
   "outputs": [
    {
     "name": "stdout",
     "output_type": "stream",
     "text": [
      "\n",
      "============================================================\n",
      "🛠️  DEBUGGING TIPS\n",
      "============================================================\n"
     ]
    }
   ],
   "source": [
    "print(\"\\n\" + \"=\"*60)\n",
    "print(\"🛠️  DEBUGGING TIPS\")\n",
    "print(\"=\"*60)"
   ]
  },
  {
   "cell_type": "markdown",
   "id": "d0398e17",
   "metadata": {},
   "source": [
    "#### Common Issues & Solutions:\n",
    "\n",
    "1. Shape Mismatch Error:\n",
    "   - Check x_train shape: Should be (60000, 28, 28, 1)\n",
    "   - Use: x_train.reshape(-1, 28, 28, 1)\n",
    "\n",
    "2. \"None has no attribute\" Error:\n",
    "   - You have None in your model layers!\n",
    "   - Replace None with actual Keras layers\n",
    "\n",
    "3. Model compiles but doesn't train:\n",
    "   - Check if you called model.fit()\n",
    "   - Make sure history = model.fit() to capture results\n",
    "\n",
    "4. Low accuracy (<90%):\n",
    "   - Check if data is normalized (divide by 255.0)\n",
    "   - Verify one-hot encoding is correct\n",
    "   - Make sure optimizer='adam' not 'sgd'\n",
    "\n",
    "5. Expected shapes at each layer:\n",
    "   Conv2D output: (Input - Kernel + 1) = (28 - 3 + 1) = 26\n",
    "   After MaxPool: 26 / 2 = 13\n",
    "   After Conv2D: 13 - 3 + 1 = 11\n",
    "   After MaxPool: 11 / 2 = 5 (5.5 rounded down)\n",
    "   After Flatten: 5 * 5 * 64 = 1600\n",
    "\n",
    "Reference:\n",
    "\n",
    "- Conv2D(32, (3,3), activation='relu', input_shape=(28,28,1))\n",
    "- MaxPooling2D((2,2))\n",
    "- Conv2D(64, (3,3), activation='relu')\n",
    "- MaxPooling2D((2,2))\n",
    "- Flatten()\n",
    "- Dense(128, activation='relu')\n",
    "- Dense(10, activation='softmax')"
   ]
  },
  {
   "cell_type": "markdown",
   "id": "7c9ba491",
   "metadata": {},
   "source": [
    "### Visualizing what CNN learned"
   ]
  },
  {
   "cell_type": "code",
   "execution_count": 134,
   "id": "adfd7928",
   "metadata": {},
   "outputs": [
    {
     "data": {
      "text/plain": [
       "'\\nCNN Visualization: See What Your Network Actually Learned!\\n\\nThis will blow your mind! 🤯\\n\\nWe\\'ll visualize:\\n1. Conv Layer 1 Filters - What patterns does it detect?\\n2. Feature Maps - How does the CNN \"see\" a digit?\\n3. Layer Activations - What happens at each layer?\\n4. Misclassifications - Where does the network struggle?\\n\\nLoad your trained model first, then run this!\\n'"
      ]
     },
     "execution_count": 134,
     "metadata": {},
     "output_type": "execute_result"
    }
   ],
   "source": [
    "\"\"\"\n",
    "CNN Visualization: See What Your Network Actually Learned!\n",
    "\n",
    "This will blow your mind! 🤯\n",
    "\n",
    "We'll visualize:\n",
    "1. Conv Layer 1 Filters - What patterns does it detect?\n",
    "2. Feature Maps - How does the CNN \"see\" a digit?\n",
    "3. Layer Activations - What happens at each layer?\n",
    "4. Misclassifications - Where does the network struggle?\n",
    "\n",
    "Load your trained model first, then run this!\n",
    "\"\"\""
   ]
  },
  {
   "cell_type": "code",
   "execution_count": 135,
   "id": "ac9ff1c3",
   "metadata": {},
   "outputs": [],
   "source": [
    "import tensorflow as tf\n",
    "from tensorflow import keras\n",
    "import numpy as np\n",
    "import matplotlib.pyplot as plt\n",
    "from matplotlib import cm"
   ]
  },
  {
   "cell_type": "code",
   "execution_count": 136,
   "id": "c983a986",
   "metadata": {},
   "outputs": [],
   "source": [
    "# ============================================\n",
    "# LOAD YOUR TRAINED MODEL\n",
    "# ============================================"
   ]
  },
  {
   "cell_type": "code",
   "execution_count": 137,
   "id": "930843e2",
   "metadata": {},
   "outputs": [
    {
     "name": "stdout",
     "output_type": "stream",
     "text": [
      "============================================================\n",
      "🔧 Setup: Load Your Trained CNN\n",
      "============================================================\n"
     ]
    }
   ],
   "source": [
    "print(\"=\"*60)\n",
    "print(\"🔧 Setup: Load Your Trained CNN\")\n",
    "print(\"=\"*60)"
   ]
  },
  {
   "cell_type": "code",
   "execution_count": 138,
   "id": "6228aeb8",
   "metadata": {},
   "outputs": [
    {
     "data": {
      "text/plain": [
       "\"\\nIMPORTANT: Run your training code first, then run this!\\n\\nIf you saved your model:\\n    model = keras.models.load_model('mnist_cnn_model.h5')\\n\\nIf you have it in memory already:\\n    Just use 'model' variable from your training code\\n\""
      ]
     },
     "execution_count": 138,
     "metadata": {},
     "output_type": "execute_result"
    }
   ],
   "source": [
    "\"\"\"\n",
    "IMPORTANT: Run your training code first, then run this!\n",
    "\n",
    "If you saved your model:\n",
    "    model = keras.models.load_model('mnist_cnn_model.h5')\n",
    "\n",
    "If you have it in memory already:\n",
    "    Just use 'model' variable from your training code\n",
    "\"\"\""
   ]
  },
  {
   "cell_type": "code",
   "execution_count": 139,
   "id": "37649707",
   "metadata": {},
   "outputs": [
    {
     "name": "stdout",
     "output_type": "stream",
     "text": [
      "✓ Model and data ready!\n",
      "Model has 7 layers\n"
     ]
    }
   ],
   "source": [
    "# Load test data\n",
    "# (x_train, y_train), (x_test, y_test) = keras.datasets.mnist.load_data()\n",
    "# x_test = x_test.reshape(-1, 28, 28, 1).astype('float32') / 255.0\n",
    "\n",
    "print(\"✓ Model and data ready!\")\n",
    "print(f\"Model has {len(model.layers)} layers\")"
   ]
  },
  {
   "cell_type": "code",
   "execution_count": 140,
   "id": "c80c2c02",
   "metadata": {},
   "outputs": [],
   "source": [
    "# ============================================\n",
    "# PART 1: VISUALIZE FIRST LAYER FILTERS\n",
    "# ============================================"
   ]
  },
  {
   "cell_type": "code",
   "execution_count": 141,
   "id": "6be44de5",
   "metadata": {},
   "outputs": [
    {
     "name": "stdout",
     "output_type": "stream",
     "text": [
      "\n",
      "============================================================\n",
      "🔍 PART 1: First Layer Filters (Edge Detectors!)\n",
      "============================================================\n"
     ]
    }
   ],
   "source": [
    "print(\"\\n\" + \"=\"*60)\n",
    "print(\"🔍 PART 1: First Layer Filters (Edge Detectors!)\")\n",
    "print(\"=\"*60)"
   ]
  },
  {
   "cell_type": "code",
   "execution_count": 142,
   "id": "342be6c6",
   "metadata": {},
   "outputs": [
    {
     "data": {
      "text/plain": [
       "\"\\nThe first Conv2D layer learned 32 filters.\\nEach filter is a 3×3 pattern detector.\\n\\nLet's see what patterns they detect!\\n\""
      ]
     },
     "execution_count": 142,
     "metadata": {},
     "output_type": "execute_result"
    }
   ],
   "source": [
    "\"\"\"\n",
    "The first Conv2D layer learned 32 filters.\n",
    "Each filter is a 3×3 pattern detector.\n",
    "\n",
    "Let's see what patterns they detect!\n",
    "\"\"\""
   ]
  },
  {
   "cell_type": "code",
   "execution_count": 143,
   "id": "07570397",
   "metadata": {},
   "outputs": [
    {
     "name": "stdout",
     "output_type": "stream",
     "text": [
      "Filter shape: (3, 3, 1, 32)\n",
      "This means: 3×3 kernel, 1 input channel, 32 filters\n"
     ]
    }
   ],
   "source": [
    "# Get weights from first Conv2D layer\n",
    "first_conv_layer = model.layers[0]\n",
    "filters, biases = first_conv_layer.get_weights()\n",
    "\n",
    "print(f\"Filter shape: {filters.shape}\")  # (3, 3, 1, 32)\n",
    "print(f\"This means: 3×3 kernel, 1 input channel, 32 filters\")"
   ]
  },
  {
   "cell_type": "code",
   "execution_count": 144,
   "id": "09ffb41c",
   "metadata": {},
   "outputs": [],
   "source": [
    "# Normalize filters for visualization\n",
    "f_min, f_max = filters.min(), filters.max()\n",
    "filters_normalized = (filters - f_min) / (f_max - f_min)"
   ]
  },
  {
   "cell_type": "code",
   "execution_count": 145,
   "id": "2fa3c426",
   "metadata": {},
   "outputs": [
    {
     "name": "stdout",
     "output_type": "stream",
     "text": [
      "✓ Saved to 'cnn_filters_layer1.png'\n"
     ]
    },
    {
     "data": {
      "image/png": "[encoded data removed]",
      "text/plain": [
       "<Figure size 1600x800 with 32 Axes>"
      ]
     },
     "metadata": {},
     "output_type": "display_data"
    }
   ],
   "source": [
    "# Plot all 32 filters\n",
    "fig, axes = plt.subplots(4, 8, figsize=(16, 8))\n",
    "fig.suptitle('First Layer Filters (What Patterns Does CNN Detect?)', \n",
    "             fontsize=16, fontweight='bold')\n",
    "\n",
    "for i in range(32):\n",
    "    ax = axes[i // 8, i % 8]\n",
    "    # Extract filter (3×3×1) and squeeze to 2D\n",
    "    filter_img = filters_normalized[:, :, 0, i]\n",
    "    ax.imshow(filter_img, cmap='viridis')\n",
    "    ax.set_title(f'Filter {i+1}', fontsize=8)\n",
    "    ax.axis('off')\n",
    "\n",
    "plt.tight_layout()\n",
    "plt.savefig('cnn_filters_layer1.png', dpi=150, bbox_inches='tight')\n",
    "print(\"✓ Saved to 'cnn_filters_layer1.png'\")\n",
    "plt.show()\n",
    "plt.close()"
   ]
  },
  {
   "cell_type": "markdown",
   "id": "5c56e5ca",
   "metadata": {},
   "source": [
    "#### 💡 What to look for in filters:\n",
    "- Bright/dark edges → Edge detectors\n",
    "- Diagonal patterns → Diagonal line detectors\n",
    "- Corners → Corner detectors\n",
    "- Gradients → Texture detectors\n",
    "\n",
    "These weren't programmed - the network LEARNED them!"
   ]
  },
  {
   "cell_type": "code",
   "execution_count": 146,
   "id": "b6688b74",
   "metadata": {},
   "outputs": [],
   "source": [
    "# ============================================\n",
    "# PART 2: VISUALIZE FEATURE MAPS\n",
    "# ============================================"
   ]
  },
  {
   "cell_type": "code",
   "execution_count": 147,
   "id": "4f38d044",
   "metadata": {},
   "outputs": [
    {
     "name": "stdout",
     "output_type": "stream",
     "text": [
      "\n",
      "============================================================\n",
      "🎨 PART 2: Feature Maps (How CNN 'Sees' a Digit)\n",
      "============================================================\n"
     ]
    }
   ],
   "source": [
    "print(\"\\n\" + \"=\"*60)\n",
    "print(\"🎨 PART 2: Feature Maps (How CNN 'Sees' a Digit)\")\n",
    "print(\"=\"*60)"
   ]
  },
  {
   "cell_type": "markdown",
   "id": "b73dda66",
   "metadata": {},
   "source": [
    "```py\n",
    "Feature maps show the output of each filter when applied to an image.\n",
    "High activation = \"I detected my pattern here!\"\n",
    "```"
   ]
  },
  {
   "cell_type": "code",
   "execution_count": 148,
   "id": "770e111c",
   "metadata": {},
   "outputs": [
    {
     "data": {
      "text/plain": [
       "0"
      ]
     },
     "execution_count": 148,
     "metadata": {},
     "output_type": "execute_result"
    }
   ],
   "source": [
    "# Free the RAM at the end\n",
    "from tensorflow.keras import backend as K\n",
    "import gc\n",
    "K.clear_session()\n",
    "gc.collect()"
   ]
  }
 ],
 "metadata": {
  "kernelspec": {
   "display_name": "Gen_AI (3.12.10)",
   "language": "python",
   "name": "python3"
  },
  "language_info": {
   "codemirror_mode": {
    "name": "ipython",
    "version": 3
   },
   "file_extension": ".py",
   "mimetype": "text/x-python",
   "name": "python",
   "nbconvert_exporter": "python",
   "pygments_lexer": "ipython3",
   "version": "3.12.10"
  }
 },
 "nbformat": 4,
 "nbformat_minor": 5
}
