{
 "cells": [
  {
   "cell_type": "markdown",
   "id": "dd5c8ace",
   "metadata": {},
   "source": [
    "# TensorFlow Tensors: From Zero to Hero\n",
    "## Day 1 - Interactive Exploration\n",
    "\n",
    "### **Instructions**:\n",
    "1. Run each section sequentially\n",
    "2. Modify values and re-run to see changes\n",
    "3. Uncomment the EXPERIMENT lines to explore\n",
    "4. Pay attention to shapes - they're crucial!"
   ]
  },
  {
   "cell_type": "code",
   "execution_count": 1,
   "id": "004b9a4d",
   "metadata": {},
   "outputs": [
    {
     "name": "stdout",
     "output_type": "stream",
     "text": [
      "TensorFlow version: 2.20.0\n",
      "GPU Available: []\n"
     ]
    }
   ],
   "source": [
    "import tensorflow as tf\n",
    "import numpy as np\n",
    "print(f\"TensorFlow version: {tf.__version__}\")\n",
    "print(f\"GPU Available: {tf.config.list_physical_devices('GPU')}\")"
   ]
  },
  {
   "cell_type": "code",
   "execution_count": 2,
   "id": "4933b85b",
   "metadata": {},
   "outputs": [],
   "source": [
    "# ============================================\n",
    "# PART 1: What Even Is a Tensor?\n",
    "# ============================================"
   ]
  },
  {
   "cell_type": "code",
   "execution_count": 3,
   "id": "9df04e05",
   "metadata": {},
   "outputs": [
    {
     "name": "stdout",
     "output_type": "stream",
     "text": [
      "\n",
      "==================================================\n",
      "PART 1: Creating Tensors\n",
      "==================================================\n"
     ]
    }
   ],
   "source": [
    "print(\"\\n\" + \"=\"*50)\n",
    "print(\"PART 1: Creating Tensors\")\n",
    "print(\"=\"*50)"
   ]
  },
  {
   "cell_type": "markdown",
   "id": "bd72e744",
   "metadata": {},
   "source": [
    "`tensorflow.constant()`\n",
    "Creates a constant tensor from a tensor-like object.\n",
    "\n",
    "```python\n",
    "tf.constant(\n",
    "    value, dtype=None, shape=None, name='Const'\n",
    ") -> Union[tf.Operation, ops._EagerTensorBase]\n",
    "```\n",
    "\n"
   ]
  },
  {
   "cell_type": "code",
   "execution_count": 4,
   "id": "e5dcb8c8",
   "metadata": {},
   "outputs": [
    {
     "name": "stdout",
     "output_type": "stream",
     "text": [
      "\n",
      "Scalar: 42\n",
      "Shape: ()\n",
      "Rank (dimensions): 0\n"
     ]
    }
   ],
   "source": [
    "# A scalar (0D tensor) - just a single number\n",
    "scalar = tf.constant(42)\n",
    "print(f\"\\nScalar: {scalar}\")\n",
    "print(f\"Shape: {scalar.shape}\")\n",
    "print(f\"Rank (dimensions): {scalar.ndim}\")"
   ]
  },
  {
   "cell_type": "markdown",
   "id": "64791aa8",
   "metadata": {},
   "source": [
    "A scalar (OD tensor) has no shape, no dimension"
   ]
  },
  {
   "cell_type": "code",
   "execution_count": 5,
   "id": "64d8bfed",
   "metadata": {},
   "outputs": [
    {
     "name": "stdout",
     "output_type": "stream",
     "text": [
      "\n",
      "Vector: [1 2 3 4 5]\n",
      "Shape: (5,)\n",
      "Rank: 1\n"
     ]
    }
   ],
   "source": [
    "# A vector (1D tensor) - like a list\n",
    "vector = tf.constant([1, 2, 3, 4, 5])\n",
    "print(f\"\\nVector: {vector}\")\n",
    "print(f\"Shape: {vector.shape}\")\n",
    "print(f\"Rank: {vector.ndim}\")"
   ]
  },
  {
   "cell_type": "code",
   "execution_count": 6,
   "id": "7d545537",
   "metadata": {},
   "outputs": [
    {
     "name": "stdout",
     "output_type": "stream",
     "text": [
      "\n",
      "Matrix:\n",
      "[[1 2 3]\n",
      " [4 5 6]]\n",
      "Shape: (2, 3)\n",
      "Rank: 2\n"
     ]
    }
   ],
   "source": [
    "# A matrix (2D tensor) - your comfort zone from ML!\n",
    "matrix = tf.constant([[1, 2, 3],\n",
    "                      [4, 5, 6]])\n",
    "print(f\"\\nMatrix:\\n{matrix}\")\n",
    "print(f\"Shape: {matrix.shape}\")  # (rows, columns)\n",
    "print(f\"Rank: {matrix.ndim}\")"
   ]
  },
  {
   "cell_type": "code",
   "execution_count": 7,
   "id": "d42484c9",
   "metadata": {},
   "outputs": [
    {
     "name": "stdout",
     "output_type": "stream",
     "text": [
      "\n",
      "3D Tensor:\n",
      "[[[ 1  2]\n",
      "  [ 3  4]]\n",
      "\n",
      " [[ 5  6]\n",
      "  [ 7  8]]\n",
      "\n",
      " [[ 9 10]\n",
      "  [11 12]]]\n",
      "Shape: (3, 2, 2)\n",
      "Rank: 3\n"
     ]
    }
   ],
   "source": [
    "# A 3D tensor - think of it as a \"stack of matrices\"\n",
    "# Shape: (depth, rows, columns)\n",
    "tensor_3d = tf.constant([\n",
    "    [[1, 2], [3, 4]],\n",
    "    [[5, 6], [7, 8]],\n",
    "    [[9, 10], [11, 12]]\n",
    "])\n",
    "print(f\"\\n3D Tensor:\\n{tensor_3d}\")\n",
    "print(f\"Shape: {tensor_3d.shape}\")\n",
    "print(f\"Rank: {tensor_3d.ndim}\")"
   ]
  },
  {
   "cell_type": "code",
   "execution_count": 8,
   "id": "7bc90a46",
   "metadata": {},
   "outputs": [
    {
     "name": "stdout",
     "output_type": "stream",
     "text": [
      "\n",
      "4D Tensor shape: (1, 1, 1, 3)\n"
     ]
    }
   ],
   "source": [
    "# EXPERIMENT: Create a 4D tensor (batch of images!)\n",
    "\n",
    "tensor_4d = tf.constant([[[[1, 2, 3]]]])\n",
    "print(f\"\\n4D Tensor shape: {tensor_4d.shape}\")"
   ]
  },
  {
   "cell_type": "code",
   "execution_count": 9,
   "id": "e8508ea9",
   "metadata": {},
   "outputs": [],
   "source": [
    "# ============================================\n",
    "# PART 2: TensorFlow vs NumPy - The Showdown\n",
    "# ============================================"
   ]
  },
  {
   "cell_type": "code",
   "execution_count": 10,
   "id": "30dfd627",
   "metadata": {},
   "outputs": [
    {
     "name": "stdout",
     "output_type": "stream",
     "text": [
      "\n",
      "==================================================\n",
      "PART 2: TensorFlow vs NumPy\n",
      "==================================================\n"
     ]
    }
   ],
   "source": [
    "print(\"\\n\" + \"=\"*50)\n",
    "print(\"PART 2: TensorFlow vs NumPy\")\n",
    "print(\"=\"*50)"
   ]
  },
  {
   "cell_type": "code",
   "execution_count": 11,
   "id": "778e4f38",
   "metadata": {},
   "outputs": [
    {
     "name": "stdout",
     "output_type": "stream",
     "text": [
      "\n",
      "NumPy array:\n",
      "[[1 2 3]\n",
      " [4 5 6]]\n",
      "TensorFlow tensor:\n",
      "[[1 2 3]\n",
      " [4 5 6]]\n"
     ]
    }
   ],
   "source": [
    "# Create the same data in both\n",
    "np_array = np.array([[1, 2, 3], [4, 5, 6]])\n",
    "tf_tensor = tf.constant([[1, 2, 3], [4, 5, 6]])\n",
    "\n",
    "print(f\"\\nNumPy array:\\n{np_array}\")\n",
    "print(f\"TensorFlow tensor:\\n{tf_tensor}\")"
   ]
  },
  {
   "cell_type": "code",
   "execution_count": 12,
   "id": "857d1979",
   "metadata": {},
   "outputs": [],
   "source": [
    "# They look the same! So what's different?"
   ]
  },
  {
   "cell_type": "code",
   "execution_count": 13,
   "id": "bc3582f7",
   "metadata": {},
   "outputs": [
    {
     "name": "stdout",
     "output_type": "stream",
     "text": [
      "\n",
      "Tensor to NumPy: <class 'numpy.ndarray'>\n",
      "NumPy to Tensor: <class 'tensorflow.python.framework.ops.EagerTensor'>\n"
     ]
    }
   ],
   "source": [
    "# 1. Easy conversion between them\n",
    "converted_to_np = tf_tensor.numpy()\n",
    "converted_to_tf = tf.constant(np_array)\n",
    "print(f\"\\nTensor to NumPy: {type(converted_to_np)}\")\n",
    "print(f\"NumPy to Tensor: {type(converted_to_tf)}\")"
   ]
  },
  {
   "cell_type": "markdown",
   "id": "591d1665",
   "metadata": {},
   "source": [
    "### `tensor.numpy()`\n",
    "\n",
    "#### What .numpy() does internally:"
   ]
  },
  {
   "cell_type": "markdown",
   "id": "c765a218",
   "metadata": {},
   "source": [
    "```python\n",
    "# When you call tensor.numpy()\n",
    "tf_tensor = tf.constant([[1, 2], [3, 4]])\n",
    "np_array = tf_tensor.numpy()\n",
    "\n",
    "# Behind the scenes:\n",
    "# 1. TF checks if tensor is on GPU or CPU\n",
    "# 2. If GPU → copies data to CPU memory (this can be slow!)\n",
    "# 3. Creates a NumPy array that shares the same memory buffer (zero-copy when on CPU)\n",
    "# 4. Returns the NumPy view\n",
    "```"
   ]
  },
  {
   "cell_type": "markdown",
   "id": "c447f7e7",
   "metadata": {},
   "source": [
    "#### Key Insights:\n",
    "- **On CPU**: `.numpy()` is nearly free – it's just a different \"view\" of the same data\n",
    "- **On GPU**: There's a copy operation (GPU → CPU), which can be a bottleneck\n",
    "- **Eager execution** (default in TF 2.x) makes this seamless – in TF 1.x, this was much harder!"
   ]
  },
  {
   "cell_type": "code",
   "execution_count": 14,
   "id": "84b9ab02",
   "metadata": {},
   "outputs": [
    {
     "name": "stdout",
     "output_type": "stream",
     "text": [
      "\n",
      "NumPy addition: [[11 12 13]\n",
      " [14 15 16]]\n",
      "TensorFlow addition: [[11 12 13]\n",
      " [14 15 16]]\n"
     ]
    }
   ],
   "source": [
    "# 2. Operations are similar\n",
    "print(f\"\\nNumPy addition: {np_array + 10}\")\n",
    "print(f\"TensorFlow addition: {tf_tensor + 10}\")"
   ]
  },
  {
   "cell_type": "code",
   "execution_count": 15,
   "id": "341cabd7",
   "metadata": {},
   "outputs": [],
   "source": [
    "# 3. But TensorFlow has GPU acceleration!\n",
    "# This is the superpower - same code, faster execution"
   ]
  },
  {
   "cell_type": "code",
   "execution_count": 20,
   "id": "4b50d11a",
   "metadata": {},
   "outputs": [],
   "source": [
    "# ============================================\n",
    "# PART 3: Tensor Operations - Getting Practical\n",
    "# ============================================"
   ]
  },
  {
   "cell_type": "code",
   "execution_count": 21,
   "id": "a778f2a1",
   "metadata": {},
   "outputs": [
    {
     "name": "stdout",
     "output_type": "stream",
     "text": [
      "\n",
      "==================================================\n",
      "PART 3: Essential Tensor Operations\n",
      "==================================================\n"
     ]
    }
   ],
   "source": [
    "print(\"\\n\" + \"=\"*50)\n",
    "print(\"PART 3: Essential Tensor Operations\")\n",
    "print(\"=\"*50)"
   ]
  },
  {
   "cell_type": "code",
   "execution_count": 22,
   "id": "85beb3e0",
   "metadata": {},
   "outputs": [],
   "source": [
    "a = tf.constant([[1, 2], [3, 4]])\n",
    "b = tf.constant([[5, 6], [7, 8]])"
   ]
  },
  {
   "cell_type": "code",
   "execution_count": 23,
   "id": "304d8c8e",
   "metadata": {},
   "outputs": [
    {
     "name": "stdout",
     "output_type": "stream",
     "text": [
      "\n",
      "Addition:\n",
      "[[ 6  8]\n",
      " [10 12]]\n",
      "\n",
      "Multiplication (element-wise):\n",
      "[[ 5 12]\n",
      " [21 32]]\n",
      "\n",
      "Square:\n",
      "[[ 1  4]\n",
      " [ 9 16]]\n"
     ]
    }
   ],
   "source": [
    "# Element-wise operations (just like NumPy!)\n",
    "print(f\"\\nAddition:\\n{a + b}\")\n",
    "print(f\"\\nMultiplication (element-wise):\\n{a * b}\")\n",
    "print(f\"\\nSquare:\\n{tf.square(a)}\")"
   ]
  },
  {
   "cell_type": "code",
   "execution_count": 24,
   "id": "b877fc23",
   "metadata": {},
   "outputs": [
    {
     "name": "stdout",
     "output_type": "stream",
     "text": [
      "\n",
      "Matrix multiplication (a @ b):\n",
      "[[19 22]\n",
      " [43 50]]\n"
     ]
    }
   ],
   "source": [
    "# Matrix multiplication (the real MVP for neural networks!)\n",
    "\n",
    "print(f\"\\nMatrix multiplication (a @ b):\\n{tf.matmul(a, b)}\")"
   ]
  },
  {
   "cell_type": "code",
   "execution_count": 30,
   "id": "33183951",
   "metadata": {},
   "outputs": [
    {
     "name": "stdout",
     "output_type": "stream",
     "text": [
      "tf.Tensor([1 2 3 4 5 6], shape=(6,), dtype=int32)\n",
      "\n",
      "Original shape: (6,)\n",
      "Reshaped to (2, 3):\n",
      "[[1 2 3]\n",
      " [4 5 6]]\n",
      "Reshaped to (3, 2):\n",
      "[[1 2]\n",
      " [3 4]\n",
      " [5 6]]\n"
     ]
    }
   ],
   "source": [
    "# Reshaping - you'll do this A LOT\n",
    "original = tf.constant([1, 2, 3, 4, 5, 6])\n",
    "print(original)\n",
    "print(f\"\\nOriginal shape: {original.shape}\")\n",
    "\n",
    "reshaped = tf.reshape(original, (2, 3))\n",
    "print(f\"Reshaped to (2, 3):\\n{reshaped}\")\n",
    "\n",
    "reshaped2 = tf.reshape(original, (3, 2))\n",
    "print(f\"Reshaped to (3, 2):\\n{reshaped2}\")"
   ]
  },
  {
   "cell_type": "code",
   "execution_count": 26,
   "id": "35a9e6b0",
   "metadata": {},
   "outputs": [
    {
     "ename": "InvalidArgumentError",
     "evalue": "{{function_node __wrapped__Reshape_device_/job:localhost/replica:0/task:0/device:CPU:0}} Input to reshape is a tensor with 6 values, but the requested shape has 4 [Op:Reshape]",
     "output_type": "error",
     "traceback": [
      "\u001b[31m---------------------------------------------------------------------------\u001b[39m",
      "\u001b[31mInvalidArgumentError\u001b[39m                      Traceback (most recent call last)",
      "\u001b[36mCell\u001b[39m\u001b[36m \u001b[39m\u001b[32mIn[26]\u001b[39m\u001b[32m, line 3\u001b[39m\n\u001b[32m      1\u001b[39m \u001b[38;5;66;03m# EXPERIMENT: What happens if you try to reshape to incompatible shape?\u001b[39;00m\n\u001b[32m      2\u001b[39m \u001b[38;5;66;03m# Uncomment to see error:\u001b[39;00m\n\u001b[32m----> \u001b[39m\u001b[32m3\u001b[39m bad_reshape = \u001b[43mtf\u001b[49m\u001b[43m.\u001b[49m\u001b[43mreshape\u001b[49m\u001b[43m(\u001b[49m\u001b[43moriginal\u001b[49m\u001b[43m,\u001b[49m\u001b[43m \u001b[49m\u001b[43m(\u001b[49m\u001b[32;43m2\u001b[39;49m\u001b[43m,\u001b[49m\u001b[43m \u001b[49m\u001b[32;43m2\u001b[39;49m\u001b[43m)\u001b[49m\u001b[43m)\u001b[49m\n",
      "\u001b[36mFile \u001b[39m\u001b[32mc:\\Users\\kumar\\Desktop\\KP Programming\\AI\\Gen_AI\\.venv\\Lib\\site-packages\\tensorflow\\python\\ops\\weak_tensor_ops.py:88\u001b[39m, in \u001b[36mweak_tensor_unary_op_wrapper.<locals>.wrapper\u001b[39m\u001b[34m(*args, **kwargs)\u001b[39m\n\u001b[32m     86\u001b[39m \u001b[38;5;28;01mdef\u001b[39;00m\u001b[38;5;250m \u001b[39m\u001b[34mwrapper\u001b[39m(*args, **kwargs):\n\u001b[32m     87\u001b[39m   \u001b[38;5;28;01mif\u001b[39;00m \u001b[38;5;129;01mnot\u001b[39;00m ops.is_auto_dtype_conversion_enabled():\n\u001b[32m---> \u001b[39m\u001b[32m88\u001b[39m     \u001b[38;5;28;01mreturn\u001b[39;00m \u001b[43mop\u001b[49m\u001b[43m(\u001b[49m\u001b[43m*\u001b[49m\u001b[43margs\u001b[49m\u001b[43m,\u001b[49m\u001b[43m \u001b[49m\u001b[43m*\u001b[49m\u001b[43m*\u001b[49m\u001b[43mkwargs\u001b[49m\u001b[43m)\u001b[49m\n\u001b[32m     89\u001b[39m   bound_arguments = signature.bind(*args, **kwargs)\n\u001b[32m     90\u001b[39m   bound_arguments.apply_defaults()\n",
      "\u001b[36mFile \u001b[39m\u001b[32mc:\\Users\\kumar\\Desktop\\KP Programming\\AI\\Gen_AI\\.venv\\Lib\\site-packages\\tensorflow\\python\\util\\traceback_utils.py:153\u001b[39m, in \u001b[36mfilter_traceback.<locals>.error_handler\u001b[39m\u001b[34m(*args, **kwargs)\u001b[39m\n\u001b[32m    151\u001b[39m \u001b[38;5;28;01mexcept\u001b[39;00m \u001b[38;5;167;01mException\u001b[39;00m \u001b[38;5;28;01mas\u001b[39;00m e:\n\u001b[32m    152\u001b[39m   filtered_tb = _process_traceback_frames(e.__traceback__)\n\u001b[32m--> \u001b[39m\u001b[32m153\u001b[39m   \u001b[38;5;28;01mraise\u001b[39;00m e.with_traceback(filtered_tb) \u001b[38;5;28;01mfrom\u001b[39;00m\u001b[38;5;250m \u001b[39m\u001b[38;5;28;01mNone\u001b[39;00m\n\u001b[32m    154\u001b[39m \u001b[38;5;28;01mfinally\u001b[39;00m:\n\u001b[32m    155\u001b[39m   \u001b[38;5;28;01mdel\u001b[39;00m filtered_tb\n",
      "\u001b[36mFile \u001b[39m\u001b[32mc:\\Users\\kumar\\Desktop\\KP Programming\\AI\\Gen_AI\\.venv\\Lib\\site-packages\\tensorflow\\python\\eager\\execute.py:53\u001b[39m, in \u001b[36mquick_execute\u001b[39m\u001b[34m(op_name, num_outputs, inputs, attrs, ctx, name)\u001b[39m\n\u001b[32m     51\u001b[39m \u001b[38;5;28;01mtry\u001b[39;00m:\n\u001b[32m     52\u001b[39m   ctx.ensure_initialized()\n\u001b[32m---> \u001b[39m\u001b[32m53\u001b[39m   tensors = pywrap_tfe.TFE_Py_Execute(ctx._handle, device_name, op_name,\n\u001b[32m     54\u001b[39m                                       inputs, attrs, num_outputs)\n\u001b[32m     55\u001b[39m \u001b[38;5;28;01mexcept\u001b[39;00m core._NotOkStatusException \u001b[38;5;28;01mas\u001b[39;00m e:\n\u001b[32m     56\u001b[39m   \u001b[38;5;28;01mif\u001b[39;00m name \u001b[38;5;129;01mis\u001b[39;00m \u001b[38;5;129;01mnot\u001b[39;00m \u001b[38;5;28;01mNone\u001b[39;00m:\n",
      "\u001b[31mInvalidArgumentError\u001b[39m: {{function_node __wrapped__Reshape_device_/job:localhost/replica:0/task:0/device:CPU:0}} Input to reshape is a tensor with 6 values, but the requested shape has 4 [Op:Reshape]"
     ]
    }
   ],
   "source": [
    "# EXPERIMENT: What happens if you try to reshape to incompatible shape?\n",
    "# Uncomment to see error:\n",
    "bad_reshape = tf.reshape(original, (2, 2))"
   ]
  },
  {
   "cell_type": "code",
   "execution_count": 34,
   "id": "22548267",
   "metadata": {},
   "outputs": [],
   "source": [
    "# ============================================\n",
    "# PART 4: Indexing & Slicing - NumPy Skills Transfer!\n",
    "# ============================================"
   ]
  },
  {
   "cell_type": "code",
   "execution_count": 35,
   "id": "439702ff",
   "metadata": {},
   "outputs": [
    {
     "name": "stdout",
     "output_type": "stream",
     "text": [
      "\n",
      "==================================================\n",
      "PART 4: Indexing & Slicing\n",
      "==================================================\n"
     ]
    }
   ],
   "source": [
    "print(\"\\n\" + \"=\"*50)\n",
    "print(\"PART 4: Indexing & Slicing\")\n",
    "print(\"=\"*50)"
   ]
  },
  {
   "cell_type": "code",
   "execution_count": 36,
   "id": "ff2b31f1",
   "metadata": {},
   "outputs": [
    {
     "name": "stdout",
     "output_type": "stream",
     "text": [
      "\n",
      "Original tensor:\n",
      "[[ 1  2  3  4]\n",
      " [ 5  6  7  8]\n",
      " [ 9 10 11 12]]\n",
      "\n",
      "First row: [1 2 3 4]\n",
      "First column: [1 5 9]\n",
      "Element at [1, 2]: 7\n",
      "Bottom right 2x2:\n",
      "[[ 7  8]\n",
      " [11 12]]\n"
     ]
    }
   ],
   "source": [
    "tensor = tf.constant([[1, 2, 3, 4],\n",
    "                     [5, 6, 7, 8],\n",
    "                     [9, 10, 11, 12]])\n",
    "\n",
    "print(f\"\\nOriginal tensor:\\n{tensor}\")\n",
    "print(f\"\\nFirst row: {tensor[0]}\")\n",
    "print(f\"First column: {tensor[:, 0]}\")\n",
    "print(f\"Element at [1, 2]: {tensor[1, 2]}\")\n",
    "print(f\"Bottom right 2x2:\\n{tensor[1:, 2:]}\")"
   ]
  },
  {
   "cell_type": "code",
   "execution_count": 38,
   "id": "b8064771",
   "metadata": {},
   "outputs": [
    {
     "name": "stdout",
     "output_type": "stream",
     "text": [
      "tf.Tensor(\n",
      "[[ 1  2  3  4]\n",
      " [ 9 10 11 12]], shape=(2, 4), dtype=int32)\n",
      "tf.Tensor(\n",
      "[[ 2  3]\n",
      " [ 6  7]\n",
      " [10 11]], shape=(3, 2), dtype=int32)\n"
     ]
    }
   ],
   "source": [
    "# EXPERIMENT: Try different slicing patterns\n",
    "print(tensor[::2, :])  # Every other row\n",
    "print(tensor[:, 1:3])  # Columns 1 and 2"
   ]
  },
  {
   "cell_type": "code",
   "execution_count": 39,
   "id": "391d1dc8",
   "metadata": {},
   "outputs": [],
   "source": [
    "# ============================================\n",
    "# PART 5: Data Types Matter!\n",
    "# ============================================"
   ]
  },
  {
   "cell_type": "code",
   "execution_count": 40,
   "id": "ff2e4afd",
   "metadata": {},
   "outputs": [
    {
     "name": "stdout",
     "output_type": "stream",
     "text": [
      "\n",
      "==================================================\n",
      "PART 5: Data Types\n",
      "==================================================\n"
     ]
    }
   ],
   "source": [
    "print(\"\\n\" + \"=\"*50)\n",
    "print(\"PART 5: Data Types\")\n",
    "print(\"=\"*50)"
   ]
  },
  {
   "cell_type": "code",
   "execution_count": 41,
   "id": "bbab494b",
   "metadata": {},
   "outputs": [
    {
     "name": "stdout",
     "output_type": "stream",
     "text": [
      "\n",
      "Integer tensor dtype: <dtype: 'int32'>\n"
     ]
    }
   ],
   "source": [
    "# Default is int32 for integers\n",
    "int_tensor = tf.constant([1, 2, 3])\n",
    "print(f\"\\nInteger tensor dtype: {int_tensor.dtype}\")"
   ]
  },
  {
   "cell_type": "code",
   "execution_count": 42,
   "id": "06525cab",
   "metadata": {},
   "outputs": [
    {
     "name": "stdout",
     "output_type": "stream",
     "text": [
      "Float tensor dtype: <dtype: 'float32'>\n"
     ]
    }
   ],
   "source": [
    "# Default is float32 for floats (neural networks love float32!)\n",
    "float_tensor = tf.constant([1.0, 2.0, 3.0])\n",
    "print(f\"Float tensor dtype: {float_tensor.dtype}\")"
   ]
  },
  {
   "cell_type": "code",
   "execution_count": 43,
   "id": "23ca5043",
   "metadata": {},
   "outputs": [
    {
     "name": "stdout",
     "output_type": "stream",
     "text": [
      "Explicit float32: [1. 2. 3.]\n"
     ]
    }
   ],
   "source": [
    "# You can specify dtype explicitly\n",
    "explicit_float = tf.constant([1, 2, 3], dtype=tf.float32)\n",
    "print(f\"Explicit float32: {explicit_float}\")"
   ]
  },
  {
   "cell_type": "code",
   "execution_count": 44,
   "id": "17606406",
   "metadata": {},
   "outputs": [
    {
     "name": "stdout",
     "output_type": "stream",
     "text": [
      "Converted to float32: [1. 2. 3.]\n"
     ]
    }
   ],
   "source": [
    "# Converting between types\n",
    "converted = tf.cast(int_tensor, dtype=tf.float32)\n",
    "print(f\"Converted to float32: {converted}\")"
   ]
  },
  {
   "cell_type": "code",
   "execution_count": 45,
   "id": "86ba7f39",
   "metadata": {},
   "outputs": [],
   "source": [
    "# ============================================\n",
    "# PART 6: Random Tensors - Neural Network Weights!\n",
    "# ============================================"
   ]
  },
  {
   "cell_type": "code",
   "execution_count": 46,
   "id": "98f2f003",
   "metadata": {},
   "outputs": [
    {
     "name": "stdout",
     "output_type": "stream",
     "text": [
      "\n",
      "==================================================\n",
      "PART 6: Random Tensors\n",
      "==================================================\n"
     ]
    }
   ],
   "source": [
    "print(\"\\n\" + \"=\"*50)\n",
    "print(\"PART 6: Random Tensors\")\n",
    "print(\"=\"*50)"
   ]
  },
  {
   "cell_type": "code",
   "execution_count": 48,
   "id": "b88bdcbf",
   "metadata": {},
   "outputs": [
    {
     "name": "stdout",
     "output_type": "stream",
     "text": [
      "\n",
      "Random normal (mean=0, std=1):\n",
      "[[ 1.4865453   0.05518418  0.58583254]\n",
      " [ 0.28936753 -0.79604477  0.7007    ]\n",
      " [ 0.8971697   0.05917929  0.86513233]]\n"
     ]
    }
   ],
   "source": [
    "# This is how neural network weights are initialized!\n",
    "random_normal = tf.random.normal(shape=(3, 3), mean=0.0, stddev=1.0)\n",
    "print(f\"\\nRandom normal (mean=0, std=1):\\n{random_normal}\")"
   ]
  },
  {
   "cell_type": "code",
   "execution_count": 49,
   "id": "147616b6",
   "metadata": {},
   "outputs": [
    {
     "name": "stdout",
     "output_type": "stream",
     "text": [
      "\n",
      "Random uniform [0, 10):\n",
      "[[3.5894406 6.8676176 7.414504  5.2513146]\n",
      " [1.703651  3.9064455 5.976447  4.2455378]]\n"
     ]
    }
   ],
   "source": [
    "random_uniform = tf.random.uniform(shape=(2, 4), minval=0, maxval=10)\n",
    "print(f\"\\nRandom uniform [0, 10):\\n{random_uniform}\")"
   ]
  },
  {
   "cell_type": "markdown",
   "id": "fbc38d91",
   "metadata": {},
   "source": [
    "### Normal Distribution vs. Uniform Distribution"
   ]
  },
  {
   "cell_type": "markdown",
   "id": "76e30d98",
   "metadata": {},
   "source": [
    "**Normal Distribution**\n",
    "Normal distribution is a continuous probability distribution that is symmetric about the mean, depicting that data near the mean are more frequent in occurrence than data far from the mean.\n",
    "It has a `bell shaped curve`.\n",
    "\n",
    "![Normal Distribution](https://media.geeksforgeeks.org/wp-content/uploads/20250606125317822107/a_normal_distribution1.webp \"Normal Distribution\")"
   ]
  },
  {
   "cell_type": "markdown",
   "id": "255a70b1",
   "metadata": {},
   "source": [
    "**Uniform Distribution**\n",
    "A Uniform Distribution is a type of probability distribution which always gives constant output to an input function in a given period (say, (a,b)).\n",
    "\n",
    "It is also known as rectangular distribution (continuous uniform distribution).\n",
    "It has two parameters a and b: a = minimum and b = maximum. The distribution is written as U (a, b).\n",
    "It has a `rectangular curve`.\n",
    "\n",
    "![Uniform Distribution](https://media.geeksforgeeks.org/wp-content/uploads/20240603172506/uniform-distribution.webp \"Uniform Distribution\")"
   ]
  },
  {
   "cell_type": "code",
   "execution_count": 51,
   "id": "4007d969",
   "metadata": {},
   "outputs": [
    {
     "name": "stdout",
     "output_type": "stream",
     "text": [
      "\n",
      "Reproducible random:\n",
      "[[ 0.3274685 -0.8426258]\n",
      " [ 0.3194337 -1.4075519]]\n"
     ]
    }
   ],
   "source": [
    "# Set seed for reproducibility\n",
    "tf.random.set_seed(42)\n",
    "reproducible = tf.random.normal(shape=(2, 2))\n",
    "print(f\"\\nReproducible random:\\n{reproducible}\")"
   ]
  },
  {
   "cell_type": "code",
   "execution_count": 52,
   "id": "58216734",
   "metadata": {},
   "outputs": [],
   "source": [
    "# ============================================\n",
    "# PART 7: Aggregation Operations\n",
    "# ============================================"
   ]
  },
  {
   "cell_type": "code",
   "execution_count": 53,
   "id": "ed46a3c5",
   "metadata": {},
   "outputs": [
    {
     "name": "stdout",
     "output_type": "stream",
     "text": [
      "\n",
      "==================================================\n",
      "PART 7: Aggregation\n",
      "==================================================\n"
     ]
    }
   ],
   "source": [
    "print(\"\\n\" + \"=\"*50)\n",
    "print(\"PART 7: Aggregation\")\n",
    "print(\"=\"*50)"
   ]
  },
  {
   "cell_type": "code",
   "execution_count": 54,
   "id": "88a56d07",
   "metadata": {},
   "outputs": [],
   "source": [
    "values = tf.constant([[1.0, 2.0, 3.0],\n",
    "                     [4.0, 5.0, 6.0]])"
   ]
  },
  {
   "cell_type": "code",
   "execution_count": 55,
   "id": "dad9a1ba",
   "metadata": {},
   "outputs": [
    {
     "name": "stdout",
     "output_type": "stream",
     "text": [
      "\n",
      "Original:\n",
      "[[1. 2. 3.]\n",
      " [4. 5. 6.]]\n",
      "Sum of all: 21.0\n",
      "Mean of all: 3.5\n",
      "Max: 6.0\n",
      "Min: 1.0\n"
     ]
    }
   ],
   "source": [
    "print(f\"\\nOriginal:\\n{values}\")\n",
    "print(f\"Sum of all: {tf.reduce_sum(values)}\")\n",
    "print(f\"Mean of all: {tf.reduce_mean(values)}\")\n",
    "print(f\"Max: {tf.reduce_max(values)}\")\n",
    "print(f\"Min: {tf.reduce_min(values)}\")"
   ]
  },
  {
   "cell_type": "code",
   "execution_count": 56,
   "id": "0ce97252",
   "metadata": {},
   "outputs": [
    {
     "name": "stdout",
     "output_type": "stream",
     "text": [
      "\n",
      "Sum along axis 0 (columns): [5. 7. 9.]\n",
      "Sum along axis 1 (rows): [ 6. 15.]\n"
     ]
    }
   ],
   "source": [
    "# Sum along specific axis\n",
    "print(f\"\\nSum along axis 0 (columns): {tf.reduce_sum(values, axis=0)}\")\n",
    "print(f\"Sum along axis 1 (rows): {tf.reduce_sum(values, axis=1)}\")"
   ]
  },
  {
   "cell_type": "code",
   "execution_count": 57,
   "id": "789d1daf",
   "metadata": {},
   "outputs": [],
   "source": [
    "# ============================================\n",
    "# CHALLENGE: Mini Practice!\n",
    "# ============================================"
   ]
  },
  {
   "cell_type": "code",
   "execution_count": 58,
   "id": "8e255899",
   "metadata": {},
   "outputs": [
    {
     "name": "stdout",
     "output_type": "stream",
     "text": [
      "\n",
      "==================================================\n",
      "CHALLENGE TIME!\n",
      "==================================================\n"
     ]
    }
   ],
   "source": [
    "print(\"\\n\" + \"=\"*50)\n",
    "print(\"CHALLENGE TIME!\")\n",
    "print(\"=\"*50)"
   ]
  },
  {
   "cell_type": "code",
   "execution_count": 59,
   "id": "a06e8d21",
   "metadata": {},
   "outputs": [
    {
     "name": "stdout",
     "output_type": "stream",
     "text": [
      "\n",
      "Try these exercises:\n",
      "\n",
      "1. Create a 5x5 matrix with random values between 0 and 1\n",
      "2. Extract the middle 3x3 portion\n",
      "3. Calculate the mean of that portion\n",
      "4. Reshape the original 5x5 into a vector of 25 elements\n",
      "\n",
      "\n"
     ]
    }
   ],
   "source": [
    "print(\"\"\"\n",
    "Try these exercises:\n",
    "\n",
    "1. Create a 5x5 matrix with random values between 0 and 1\n",
    "2. Extract the middle 3x3 portion\n",
    "3. Calculate the mean of that portion\n",
    "4. Reshape the original 5x5 into a vector of 25 elements\n",
    "\n",
    "\"\"\")"
   ]
  },
  {
   "cell_type": "code",
   "execution_count": 62,
   "id": "b822c756",
   "metadata": {},
   "outputs": [
    {
     "name": "stdout",
     "output_type": "stream",
     "text": [
      "5x5 matrix with random values between 0 and 1: \n",
      "\n",
      "[[0.6645621  0.44100678 0.3528825  0.46448255 0.03366041]\n",
      " [0.68467236 0.74011743 0.8724445  0.22632635 0.22319686]\n",
      " [0.3103881  0.7223358  0.13318717 0.5480639  0.5746088 ]\n",
      " [0.8996835  0.00946367 0.5212307  0.6345445  0.1993283 ]\n",
      " [0.72942245 0.54583454 0.10756552 0.6767061  0.6602763 ]]\n"
     ]
    }
   ],
   "source": [
    "# 1. \n",
    "tf.random.set_seed(42)\n",
    "rand_matrix = tf.random.uniform(shape=(5,5), minval=0, maxval=1)\n",
    "print(f\"5x5 matrix with random values between 0 and 1: \\n\\n{rand_matrix}\")"
   ]
  },
  {
   "cell_type": "code",
   "execution_count": 65,
   "id": "a6008589",
   "metadata": {},
   "outputs": [
    {
     "name": "stdout",
     "output_type": "stream",
     "text": [
      "middle_3x3 slicing: \n",
      "\n",
      "[[0.74011743 0.8724445  0.22632635]\n",
      " [0.7223358  0.13318717 0.5480639 ]\n",
      " [0.00946367 0.5212307  0.6345445 ]]\n"
     ]
    }
   ],
   "source": [
    "# 2. \n",
    "middle_3x3 = rand_matrix[1:4, 1:4]\n",
    "print(f\"middle_3x3 slicing: \\n\\n{middle_3x3}\")"
   ]
  },
  {
   "cell_type": "code",
   "execution_count": null,
   "id": "bd03f93b",
   "metadata": {},
   "outputs": [
    {
     "name": "stdout",
     "output_type": "stream",
     "text": [
      "Mean of middle 3x3 matrix = 0.48974597454071045\n"
     ]
    }
   ],
   "source": [
    "# 3. \n",
    "print(f\"Mean of middle 3x3 matrix = {tf.reduce_mean(middle_3x3)}\")"
   ]
  },
  {
   "cell_type": "code",
   "execution_count": 74,
   "id": "4e12d015",
   "metadata": {},
   "outputs": [
    {
     "name": "stdout",
     "output_type": "stream",
     "text": [
      "Reshaped to vector: \n",
      "[0.6645621  0.44100678 0.3528825  0.46448255 0.03366041 0.68467236\n",
      " 0.74011743 0.8724445  0.22632635 0.22319686 0.3103881  0.7223358\n",
      " 0.13318717 0.5480639  0.5746088  0.8996835  0.00946367 0.5212307\n",
      " 0.6345445  0.1993283  0.72942245 0.54583454 0.10756552 0.6767061\n",
      " 0.6602763 ]\n",
      "\n",
      "Reshaped to vector shape: (25,)\n"
     ]
    }
   ],
   "source": [
    "# 4. \n",
    "print(f\"Reshaped to vector: \\n{tf.reshape(rand_matrix, shape=(25, ))}\")\n",
    "print(f\"\\nReshaped to vector shape: {tf.reshape(rand_matrix, shape=(25, )).shape}\")"
   ]
  },
  {
   "cell_type": "code",
   "execution_count": 75,
   "id": "f4f99957",
   "metadata": {},
   "outputs": [
    {
     "name": "stdout",
     "output_type": "stream",
     "text": [
      "\n",
      "==================================================\n",
      "🎉 You've completed Tensor Basics!\n",
      "==================================================\n",
      "\n",
      "Key Takeaways:\n",
      "1. Tensors are multi-dimensional arrays (0D to nD)\n",
      "2. TensorFlow ≈ NumPy + GPU acceleration + automatic differentiation\n",
      "3. Shapes are CRUCIAL - always check tensor.shape\n",
      "4. Operations are similar to NumPy (your existing knowledge transfers!)\n",
      "5. Random tensors initialize neural network weights\n",
      "\n",
      "Next: We'll use these tensors to build a neural network from scratch!\n",
      "\n"
     ]
    }
   ],
   "source": [
    "print(\"\\n\" + \"=\"*50)\n",
    "print(\"🎉 You've completed Tensor Basics!\")\n",
    "print(\"=\"*50)\n",
    "print(\"\"\"\n",
    "Key Takeaways:\n",
    "1. Tensors are multi-dimensional arrays (0D to nD)\n",
    "2. TensorFlow ≈ NumPy + GPU acceleration + automatic differentiation\n",
    "3. Shapes are CRUCIAL - always check tensor.shape\n",
    "4. Operations are similar to NumPy (your existing knowledge transfers!)\n",
    "5. Random tensors initialize neural network weights\n",
    "\n",
    "Next: We'll use these tensors to build a neural network from scratch!\n",
    "\"\"\")"
   ]
  }
 ],
 "metadata": {
  "kernelspec": {
   "display_name": "Gen_AI (3.12.10)",
   "language": "python",
   "name": "python3"
  },
  "language_info": {
   "codemirror_mode": {
    "name": "ipython",
    "version": 3
   },
   "file_extension": ".py",
   "mimetype": "text/x-python",
   "name": "python",
   "nbconvert_exporter": "python",
   "pygments_lexer": "ipython3",
   "version": "3.12.10"
  }
 },
 "nbformat": 4,
 "nbformat_minor": 5
}
